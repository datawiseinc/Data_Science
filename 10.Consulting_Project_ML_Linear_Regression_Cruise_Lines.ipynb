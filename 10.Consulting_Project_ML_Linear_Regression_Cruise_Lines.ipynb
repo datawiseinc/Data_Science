{
 "cells": [
  {
   "cell_type": "markdown",
   "metadata": {},
   "source": [
    "### Developing a model to predict the number of crew members required for each ship based on the given parameters for Hyundai"
   ]
  },
  {
   "cell_type": "code",
   "execution_count": 1,
   "metadata": {},
   "outputs": [],
   "source": [
    "#importing the SparkSession\n",
    "from pyspark.sql import SparkSession\n",
    "\n",
    "#import the essential packages\n",
    "from pyspark.ml import linalg\n",
    "from pyspark.ml.linalg import Vectors\n",
    "from pyspark.ml.feature import VectorAssembler\n",
    "\n",
    "#import the ml tools\n",
    "from pyspark.ml.regression import LinearRegression\n",
    "\n",
    "#importing the necessary functions\n",
    "from pyspark.sql.functions import format_number\n",
    "from pyspark.sql.types import FloatType, DoubleType\n",
    "\n",
    "#importing the Stringindexer to address the categorical value\n",
    "from pyspark.ml.feature import StringIndexer"
   ]
  },
  {
   "cell_type": "code",
   "execution_count": 2,
   "metadata": {},
   "outputs": [],
   "source": [
    "#starting a spark session\n",
    "spark = SparkSession.builder.appName('cruise_line').getOrCreate()"
   ]
  },
  {
   "cell_type": "code",
   "execution_count": 3,
   "metadata": {},
   "outputs": [
    {
     "name": "stdout",
     "output_type": "stream",
     "text": [
      "root\n",
      " |-- Ship_name: string (nullable = true)\n",
      " |-- Cruise_line: string (nullable = true)\n",
      " |-- Age: integer (nullable = true)\n",
      " |-- Tonnage: double (nullable = true)\n",
      " |-- passengers: double (nullable = true)\n",
      " |-- length: double (nullable = true)\n",
      " |-- cabins: double (nullable = true)\n",
      " |-- passenger_density: double (nullable = true)\n",
      " |-- crew: double (nullable = true)\n",
      "\n"
     ]
    }
   ],
   "source": [
    "#loading the data set\n",
    "all_data = spark.read.csv('10.cruise_ship_info.csv', inferSchema=True, header=True)\n",
    "\n",
    "#printing the schema\n",
    "all_data.printSchema()"
   ]
  },
  {
   "cell_type": "code",
   "execution_count": 4,
   "metadata": {},
   "outputs": [
    {
     "data": {
      "text/plain": [
       "[Row(Ship_name='Journey', Cruise_line='Azamara', Age=6, Tonnage=30.276999999999997, passengers=6.94, length=5.94, cabins=3.55, passenger_density=42.64, crew=3.55)]"
      ]
     },
     "execution_count": 4,
     "metadata": {},
     "output_type": "execute_result"
    }
   ],
   "source": [
    "#explore the data\n",
    "all_data.head(1)"
   ]
  },
  {
   "cell_type": "code",
   "execution_count": 5,
   "metadata": {},
   "outputs": [
    {
     "data": {
      "text/plain": [
       "['summary',\n",
       " 'Ship_name',\n",
       " 'Cruise_line',\n",
       " 'Age',\n",
       " 'Tonnage',\n",
       " 'passengers',\n",
       " 'length',\n",
       " 'cabins',\n",
       " 'passenger_density',\n",
       " 'crew']"
      ]
     },
     "execution_count": 5,
     "metadata": {},
     "output_type": "execute_result"
    }
   ],
   "source": [
    "all_data.describe().columns"
   ]
  },
  {
   "cell_type": "code",
   "execution_count": 6,
   "metadata": {},
   "outputs": [
    {
     "name": "stdout",
     "output_type": "stream",
     "text": [
      "+-------+---------+-----------+------------------+------------------+-----------------+-----------------+------------------+-----------------+-----------------+\n",
      "|summary|Ship_name|Cruise_line|               Age|           Tonnage|       passengers|           length|            cabins|passenger_density|             crew|\n",
      "+-------+---------+-----------+------------------+------------------+-----------------+-----------------+------------------+-----------------+-----------------+\n",
      "|  count|      158|        158|               158|               158|              158|              158|               158|              158|              158|\n",
      "|   mean| Infinity|       null|15.689873417721518| 71.28467088607599|18.45740506329114|8.130632911392404| 8.830000000000005|39.90094936708861|7.794177215189873|\n",
      "| stddev|      NaN|       null| 7.615691058751413|37.229540025907866|9.677094775143416|1.793473548054825|4.4714172221480615| 8.63921711391542|3.503486564627034|\n",
      "|    min|Adventure|    Azamara|                 4|             2.329|             0.66|             2.79|              0.33|             17.7|             0.59|\n",
      "|    max|Zuiderdam|   Windstar|                48|             220.0|             54.0|            11.82|              27.0|            71.43|             21.0|\n",
      "+-------+---------+-----------+------------------+------------------+-----------------+-----------------+------------------+-----------------+-----------------+\n",
      "\n"
     ]
    }
   ],
   "source": [
    "#continuing to explore the data\n",
    "all_data.describe().show()"
   ]
  },
  {
   "cell_type": "markdown",
   "metadata": {},
   "source": [
    "### It seems that there are no missing data, ship_name column is a random string, \n",
    "### and Cruise_line is categorical value which will impact the value of the crew members"
   ]
  },
  {
   "cell_type": "code",
   "execution_count": 7,
   "metadata": {},
   "outputs": [
    {
     "data": {
      "text/plain": [
       "['Ship_name',\n",
       " 'Cruise_line',\n",
       " 'Age',\n",
       " 'Tonnage',\n",
       " 'passengers',\n",
       " 'length',\n",
       " 'cabins',\n",
       " 'passenger_density',\n",
       " 'crew',\n",
       " 'Cruise_line_catg']"
      ]
     },
     "execution_count": 7,
     "metadata": {},
     "output_type": "execute_result"
    }
   ],
   "source": [
    "#create an indexer\n",
    "indexer = StringIndexer(inputCol='Cruise_line', outputCol='Cruise_line_catg')\n",
    "\n",
    "#index the column\n",
    "indexed = indexer.fit(all_data).transform(all_data)\n",
    "\n",
    "#printing the columns\n",
    "indexed.columns"
   ]
  },
  {
   "cell_type": "code",
   "execution_count": 8,
   "metadata": {},
   "outputs": [
    {
     "data": {
      "text/plain": [
       "[Row(Ship_name='Journey', Cruise_line='Azamara', Age=6, Tonnage=30.276999999999997, passengers=6.94, length=5.94, cabins=3.55, passenger_density=42.64, crew=3.55, Cruise_line_catg=16.0, features=DenseVector([6.0, 30.277, 6.94, 5.94, 3.55, 42.64, 16.0]))]"
      ]
     },
     "execution_count": 8,
     "metadata": {},
     "output_type": "execute_result"
    }
   ],
   "source": [
    "#create a vector assebler session of the input columns\n",
    "assembler = VectorAssembler(inputCols=[  'Age','Tonnage','passengers','length','cabins','passenger_density','Cruise_line_catg'],\n",
    "                           outputCol='features')\n",
    "\n",
    "#create the input vector\n",
    "output = assembler.transform(indexed)\n",
    "\n",
    "#explore the output dataframe\n",
    "output.head(1)"
   ]
  },
  {
   "cell_type": "markdown",
   "metadata": {},
   "source": [
    "#### The input columns are saved in a vector under the features columns.\n",
    "\n",
    "### Now it is time to perform the regression analysis"
   ]
  },
  {
   "cell_type": "code",
   "execution_count": 9,
   "metadata": {},
   "outputs": [],
   "source": [
    "#save the input and labels into a new dataframe\n",
    "final_data =  output.select('features', 'crew')\n",
    "\n",
    "#split the data into train and test\n",
    "train_data, test_data = final_data.randomSplit([0.8, 0.2])"
   ]
  },
  {
   "cell_type": "code",
   "execution_count": 10,
   "metadata": {},
   "outputs": [],
   "source": [
    "#start a linear regression columns\n",
    "lin_reg_session = LinearRegression(featuresCol='features', labelCol='crew', predictionCol='predictions')\n",
    "\n",
    "#train the data\n",
    "lin_reg_model = lin_reg_session.fit(train_data)"
   ]
  },
  {
   "cell_type": "code",
   "execution_count": 11,
   "metadata": {},
   "outputs": [],
   "source": [
    "#evaluate the model with the test data\n",
    "results = lin_reg_model.evaluate(test_data)"
   ]
  },
  {
   "cell_type": "code",
   "execution_count": 12,
   "metadata": {},
   "outputs": [
    {
     "name": "stdout",
     "output_type": "stream",
     "text": [
      "+--------------------+-----+------------------+\n",
      "|            features| crew|       predictions|\n",
      "+--------------------+-----+------------------+\n",
      "|[5.0,133.5,39.59,...|13.13| 13.16904375955811|\n",
      "|[6.0,30.276999999...| 3.55|  4.33651621607432|\n",
      "|[6.0,93.0,23.94,9...|11.09|10.613974940561915|\n",
      "|[7.0,89.6,25.5,9....| 9.87|11.128540371144043|\n",
      "|[9.0,90.09,25.01,...| 8.69|  9.33256273040741|\n",
      "|[10.0,68.0,10.8,7...| 6.36| 6.556612323264983|\n",
      "|[10.0,138.0,31.14...|11.85| 13.15378586551004|\n",
      "|[11.0,86.0,21.24,...|  9.3| 9.582374684150892|\n",
      "|[11.0,91.0,20.32,...| 9.99|  9.25516358347648|\n",
      "|[11.0,91.62700000...|  9.0| 9.260009595710075|\n",
      "|[12.0,2.329,0.94,...|  0.6|0.7681420222643544|\n",
      "|[12.0,50.0,7.0,7....| 4.45| 4.482468064145061|\n",
      "|[12.0,58.6,15.66,...|  7.0| 7.455818840325527|\n",
      "|[12.0,91.0,20.32,...| 9.99| 9.246344985709559|\n",
      "|[13.0,25.0,3.82,5...| 2.95| 2.927691832451995|\n",
      "|[13.0,63.0,14.4,7...| 5.31|   6.7696080101903|\n",
      "|[13.0,91.0,20.32,...| 9.99| 9.237526387942639|\n",
      "|[13.0,138.0,31.14...|11.76| 13.12733007220928|\n",
      "|[14.0,83.0,17.5,9...| 9.45| 9.171017310048297|\n",
      "|[14.0,138.0,31.14...|11.76|13.118511474442359|\n",
      "+--------------------+-----+------------------+\n",
      "only showing top 20 rows\n",
      "\n"
     ]
    }
   ],
   "source": [
    "#explore the metrics\n",
    "results.predictions.show()"
   ]
  },
  {
   "cell_type": "code",
   "execution_count": 13,
   "metadata": {},
   "outputs": [
    {
     "data": {
      "text/plain": [
       "0.9481053725461429"
      ]
     },
     "execution_count": 13,
     "metadata": {},
     "output_type": "execute_result"
    }
   ],
   "source": [
    "#R square\n",
    "results.r2"
   ]
  },
  {
   "cell_type": "code",
   "execution_count": 14,
   "metadata": {},
   "outputs": [
    {
     "data": {
      "text/plain": [
       "0.628647170815592"
      ]
     },
     "execution_count": 14,
     "metadata": {},
     "output_type": "execute_result"
    }
   ],
   "source": [
    "#Mean Absolute Error\n",
    "results.meanAbsoluteError"
   ]
  },
  {
   "cell_type": "code",
   "execution_count": 15,
   "metadata": {},
   "outputs": [
    {
     "data": {
      "text/plain": [
       "0.6259238991404144"
      ]
     },
     "execution_count": 15,
     "metadata": {},
     "output_type": "execute_result"
    }
   ],
   "source": [
    "#Mean Squared Error\n",
    "results.meanSquaredError"
   ]
  },
  {
   "cell_type": "code",
   "execution_count": 16,
   "metadata": {},
   "outputs": [
    {
     "data": {
      "text/plain": [
       "0.7911535243809601"
      ]
     },
     "execution_count": 16,
     "metadata": {},
     "output_type": "execute_result"
    }
   ],
   "source": [
    "#Root mean Squared Error\n",
    "results.rootMeanSquaredError"
   ]
  },
  {
   "cell_type": "code",
   "execution_count": 17,
   "metadata": {},
   "outputs": [
    {
     "name": "stdout",
     "output_type": "stream",
     "text": [
      "+-------+-----------------+------------------+\n",
      "|summary|             crew|       predictions|\n",
      "+-------+-----------------+------------------+\n",
      "|  count|               33|                33|\n",
      "|   mean|7.406969696969694| 7.810412356196876|\n",
      "| stddev|3.526805818343708| 3.590703615310596|\n",
      "|    min|              0.6|0.7681420222643544|\n",
      "|    max|            13.13| 13.16904375955811|\n",
      "+-------+-----------------+------------------+\n",
      "\n"
     ]
    }
   ],
   "source": [
    "#explore the results\n",
    "results.predictions.describe().show()"
   ]
  },
  {
   "cell_type": "markdown",
   "metadata": {},
   "source": [
    "## deploy the model"
   ]
  },
  {
   "cell_type": "code",
   "execution_count": 18,
   "metadata": {},
   "outputs": [
    {
     "name": "stdout",
     "output_type": "stream",
     "text": [
      "+--------------------+\n",
      "|            features|\n",
      "+--------------------+\n",
      "|[5.0,133.5,39.59,...|\n",
      "|[6.0,30.276999999...|\n",
      "|[6.0,93.0,23.94,9...|\n",
      "|[7.0,89.6,25.5,9....|\n",
      "|[9.0,90.09,25.01,...|\n",
      "|[10.0,68.0,10.8,7...|\n",
      "|[10.0,138.0,31.14...|\n",
      "|[11.0,86.0,21.24,...|\n",
      "|[11.0,91.0,20.32,...|\n",
      "|[11.0,91.62700000...|\n",
      "|[12.0,2.329,0.94,...|\n",
      "|[12.0,50.0,7.0,7....|\n",
      "|[12.0,58.6,15.66,...|\n",
      "|[12.0,91.0,20.32,...|\n",
      "|[13.0,25.0,3.82,5...|\n",
      "|[13.0,63.0,14.4,7...|\n",
      "|[13.0,91.0,20.32,...|\n",
      "|[13.0,138.0,31.14...|\n",
      "|[14.0,83.0,17.5,9...|\n",
      "|[14.0,138.0,31.14...|\n",
      "+--------------------+\n",
      "only showing top 20 rows\n",
      "\n"
     ]
    }
   ],
   "source": [
    "#create an unlabeled dataset\n",
    "\n",
    "#create a temporary SQL database\n",
    "unlabeled_data = test_data.createOrReplaceTempView('test_data')\n",
    "unlabeled_data = spark.sql(\"SELECT (features) FROM test_data\")\n",
    "unlabeled_data.show()"
   ]
  },
  {
   "cell_type": "code",
   "execution_count": 19,
   "metadata": {},
   "outputs": [],
   "source": [
    "#deploy the model on the unlabeled data set\n",
    "unlabeled_data_results = lin_reg_model.transform(unlabeled_data)"
   ]
  },
  {
   "cell_type": "code",
   "execution_count": 20,
   "metadata": {},
   "outputs": [
    {
     "name": "stdout",
     "output_type": "stream",
     "text": [
      "+--------------------+------------------+\n",
      "|            features|       predictions|\n",
      "+--------------------+------------------+\n",
      "|[5.0,133.5,39.59,...| 13.16904375955811|\n",
      "|[6.0,30.276999999...|  4.33651621607432|\n",
      "|[6.0,93.0,23.94,9...|10.613974940561915|\n",
      "|[7.0,89.6,25.5,9....|11.128540371144043|\n",
      "|[9.0,90.09,25.01,...|  9.33256273040741|\n",
      "|[10.0,68.0,10.8,7...| 6.556612323264983|\n",
      "|[10.0,138.0,31.14...| 13.15378586551004|\n",
      "|[11.0,86.0,21.24,...| 9.582374684150892|\n",
      "|[11.0,91.0,20.32,...|  9.25516358347648|\n",
      "|[11.0,91.62700000...| 9.260009595710075|\n",
      "|[12.0,2.329,0.94,...|0.7681420222643544|\n",
      "|[12.0,50.0,7.0,7....| 4.482468064145061|\n",
      "|[12.0,58.6,15.66,...| 7.455818840325527|\n",
      "|[12.0,91.0,20.32,...| 9.246344985709559|\n",
      "|[13.0,25.0,3.82,5...| 2.927691832451995|\n",
      "|[13.0,63.0,14.4,7...|   6.7696080101903|\n",
      "|[13.0,91.0,20.32,...| 9.237526387942639|\n",
      "|[13.0,138.0,31.14...| 13.12733007220928|\n",
      "|[14.0,83.0,17.5,9...| 9.171017310048297|\n",
      "|[14.0,138.0,31.14...|13.118511474442359|\n",
      "+--------------------+------------------+\n",
      "only showing top 20 rows\n",
      "\n"
     ]
    }
   ],
   "source": [
    "#showing the predictions\n",
    "unlabeled_data_results.show()"
   ]
  },
  {
   "cell_type": "code",
   "execution_count": null,
   "metadata": {},
   "outputs": [],
   "source": []
  }
 ],
 "metadata": {
  "kernelspec": {
   "display_name": "Python 3",
   "language": "python",
   "name": "python3"
  },
  "language_info": {
   "codemirror_mode": {
    "name": "ipython",
    "version": 3
   },
   "file_extension": ".py",
   "mimetype": "text/x-python",
   "name": "python",
   "nbconvert_exporter": "python",
   "pygments_lexer": "ipython3",
   "version": "3.7.4"
  }
 },
 "nbformat": 4,
 "nbformat_minor": 2
}

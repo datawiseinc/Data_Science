{
 "cells": [
  {
   "cell_type": "markdown",
   "metadata": {},
   "source": [
    "## Determine the types of seeds using the dataset.\n",
    "### Dataset has 7 characteristics of the plant seeds."
   ]
  },
  {
   "cell_type": "code",
   "execution_count": 1,
   "metadata": {},
   "outputs": [],
   "source": [
    "from pyspark.sql import SparkSession"
   ]
  },
  {
   "cell_type": "code",
   "execution_count": 2,
   "metadata": {},
   "outputs": [],
   "source": [
    "import pandas as pd\n",
    "import matplotlib.pyplot as plt"
   ]
  },
  {
   "cell_type": "code",
   "execution_count": 3,
   "metadata": {},
   "outputs": [],
   "source": [
    "spark = SparkSession.builder.appName('cluster').getOrCreate()"
   ]
  },
  {
   "cell_type": "code",
   "execution_count": 4,
   "metadata": {},
   "outputs": [],
   "source": [
    "data = spark.read.csv('14.seeds_dataset.csv', inferSchema=True, header=True)"
   ]
  },
  {
   "cell_type": "code",
   "execution_count": 5,
   "metadata": {},
   "outputs": [
    {
     "data": {
      "text/html": [
       "<div>\n",
       "<style scoped>\n",
       "    .dataframe tbody tr th:only-of-type {\n",
       "        vertical-align: middle;\n",
       "    }\n",
       "\n",
       "    .dataframe tbody tr th {\n",
       "        vertical-align: top;\n",
       "    }\n",
       "\n",
       "    .dataframe thead th {\n",
       "        text-align: right;\n",
       "    }\n",
       "</style>\n",
       "<table border=\"1\" class=\"dataframe\">\n",
       "  <thead>\n",
       "    <tr style=\"text-align: right;\">\n",
       "      <th></th>\n",
       "      <th>area</th>\n",
       "      <th>perimeter</th>\n",
       "      <th>compactness</th>\n",
       "      <th>length_of_kernel</th>\n",
       "      <th>width_of_kernel</th>\n",
       "      <th>asymmetry_coefficient</th>\n",
       "      <th>length_of_groove</th>\n",
       "    </tr>\n",
       "  </thead>\n",
       "  <tbody>\n",
       "    <tr>\n",
       "      <td>0</td>\n",
       "      <td>15.26</td>\n",
       "      <td>14.84</td>\n",
       "      <td>0.8710</td>\n",
       "      <td>5.763</td>\n",
       "      <td>3.312</td>\n",
       "      <td>2.221</td>\n",
       "      <td>5.220</td>\n",
       "    </tr>\n",
       "    <tr>\n",
       "      <td>1</td>\n",
       "      <td>14.88</td>\n",
       "      <td>14.57</td>\n",
       "      <td>0.8811</td>\n",
       "      <td>5.554</td>\n",
       "      <td>3.333</td>\n",
       "      <td>1.018</td>\n",
       "      <td>4.956</td>\n",
       "    </tr>\n",
       "    <tr>\n",
       "      <td>2</td>\n",
       "      <td>14.29</td>\n",
       "      <td>14.09</td>\n",
       "      <td>0.9050</td>\n",
       "      <td>5.291</td>\n",
       "      <td>3.337</td>\n",
       "      <td>2.699</td>\n",
       "      <td>4.825</td>\n",
       "    </tr>\n",
       "    <tr>\n",
       "      <td>3</td>\n",
       "      <td>13.84</td>\n",
       "      <td>13.94</td>\n",
       "      <td>0.8955</td>\n",
       "      <td>5.324</td>\n",
       "      <td>3.379</td>\n",
       "      <td>2.259</td>\n",
       "      <td>4.805</td>\n",
       "    </tr>\n",
       "    <tr>\n",
       "      <td>4</td>\n",
       "      <td>16.14</td>\n",
       "      <td>14.99</td>\n",
       "      <td>0.9034</td>\n",
       "      <td>5.658</td>\n",
       "      <td>3.562</td>\n",
       "      <td>1.355</td>\n",
       "      <td>5.175</td>\n",
       "    </tr>\n",
       "    <tr>\n",
       "      <td>5</td>\n",
       "      <td>14.38</td>\n",
       "      <td>14.21</td>\n",
       "      <td>0.8951</td>\n",
       "      <td>5.386</td>\n",
       "      <td>3.312</td>\n",
       "      <td>2.462</td>\n",
       "      <td>4.956</td>\n",
       "    </tr>\n",
       "    <tr>\n",
       "      <td>6</td>\n",
       "      <td>14.69</td>\n",
       "      <td>14.49</td>\n",
       "      <td>0.8799</td>\n",
       "      <td>5.563</td>\n",
       "      <td>3.259</td>\n",
       "      <td>3.586</td>\n",
       "      <td>5.219</td>\n",
       "    </tr>\n",
       "    <tr>\n",
       "      <td>7</td>\n",
       "      <td>14.11</td>\n",
       "      <td>14.10</td>\n",
       "      <td>0.8911</td>\n",
       "      <td>5.420</td>\n",
       "      <td>3.302</td>\n",
       "      <td>2.700</td>\n",
       "      <td>5.000</td>\n",
       "    </tr>\n",
       "    <tr>\n",
       "      <td>8</td>\n",
       "      <td>16.63</td>\n",
       "      <td>15.46</td>\n",
       "      <td>0.8747</td>\n",
       "      <td>6.053</td>\n",
       "      <td>3.465</td>\n",
       "      <td>2.040</td>\n",
       "      <td>5.877</td>\n",
       "    </tr>\n",
       "    <tr>\n",
       "      <td>9</td>\n",
       "      <td>16.44</td>\n",
       "      <td>15.25</td>\n",
       "      <td>0.8880</td>\n",
       "      <td>5.884</td>\n",
       "      <td>3.505</td>\n",
       "      <td>1.969</td>\n",
       "      <td>5.533</td>\n",
       "    </tr>\n",
       "    <tr>\n",
       "      <td>10</td>\n",
       "      <td>15.26</td>\n",
       "      <td>14.85</td>\n",
       "      <td>0.8696</td>\n",
       "      <td>5.714</td>\n",
       "      <td>3.242</td>\n",
       "      <td>4.543</td>\n",
       "      <td>5.314</td>\n",
       "    </tr>\n",
       "    <tr>\n",
       "      <td>11</td>\n",
       "      <td>14.03</td>\n",
       "      <td>14.16</td>\n",
       "      <td>0.8796</td>\n",
       "      <td>5.438</td>\n",
       "      <td>3.201</td>\n",
       "      <td>1.717</td>\n",
       "      <td>5.001</td>\n",
       "    </tr>\n",
       "    <tr>\n",
       "      <td>12</td>\n",
       "      <td>13.89</td>\n",
       "      <td>14.02</td>\n",
       "      <td>0.8880</td>\n",
       "      <td>5.439</td>\n",
       "      <td>3.199</td>\n",
       "      <td>3.986</td>\n",
       "      <td>4.738</td>\n",
       "    </tr>\n",
       "    <tr>\n",
       "      <td>13</td>\n",
       "      <td>13.78</td>\n",
       "      <td>14.06</td>\n",
       "      <td>0.8759</td>\n",
       "      <td>5.479</td>\n",
       "      <td>3.156</td>\n",
       "      <td>3.136</td>\n",
       "      <td>4.872</td>\n",
       "    </tr>\n",
       "    <tr>\n",
       "      <td>14</td>\n",
       "      <td>13.74</td>\n",
       "      <td>14.05</td>\n",
       "      <td>0.8744</td>\n",
       "      <td>5.482</td>\n",
       "      <td>3.114</td>\n",
       "      <td>2.932</td>\n",
       "      <td>4.825</td>\n",
       "    </tr>\n",
       "  </tbody>\n",
       "</table>\n",
       "</div>"
      ],
      "text/plain": [
       "     area  perimeter  compactness  length_of_kernel  width_of_kernel  \\\n",
       "0   15.26      14.84       0.8710             5.763            3.312   \n",
       "1   14.88      14.57       0.8811             5.554            3.333   \n",
       "2   14.29      14.09       0.9050             5.291            3.337   \n",
       "3   13.84      13.94       0.8955             5.324            3.379   \n",
       "4   16.14      14.99       0.9034             5.658            3.562   \n",
       "5   14.38      14.21       0.8951             5.386            3.312   \n",
       "6   14.69      14.49       0.8799             5.563            3.259   \n",
       "7   14.11      14.10       0.8911             5.420            3.302   \n",
       "8   16.63      15.46       0.8747             6.053            3.465   \n",
       "9   16.44      15.25       0.8880             5.884            3.505   \n",
       "10  15.26      14.85       0.8696             5.714            3.242   \n",
       "11  14.03      14.16       0.8796             5.438            3.201   \n",
       "12  13.89      14.02       0.8880             5.439            3.199   \n",
       "13  13.78      14.06       0.8759             5.479            3.156   \n",
       "14  13.74      14.05       0.8744             5.482            3.114   \n",
       "\n",
       "    asymmetry_coefficient  length_of_groove  \n",
       "0                   2.221             5.220  \n",
       "1                   1.018             4.956  \n",
       "2                   2.699             4.825  \n",
       "3                   2.259             4.805  \n",
       "4                   1.355             5.175  \n",
       "5                   2.462             4.956  \n",
       "6                   3.586             5.219  \n",
       "7                   2.700             5.000  \n",
       "8                   2.040             5.877  \n",
       "9                   1.969             5.533  \n",
       "10                  4.543             5.314  \n",
       "11                  1.717             5.001  \n",
       "12                  3.986             4.738  \n",
       "13                  3.136             4.872  \n",
       "14                  2.932             4.825  "
      ]
     },
     "execution_count": 5,
     "metadata": {},
     "output_type": "execute_result"
    }
   ],
   "source": [
    "df = pd.DataFrame(data.take(15), columns=data.columns)\n",
    "df"
   ]
  },
  {
   "cell_type": "code",
   "execution_count": 6,
   "metadata": {},
   "outputs": [
    {
     "data": {
      "text/plain": [
       "['area',\n",
       " 'perimeter',\n",
       " 'compactness',\n",
       " 'length_of_kernel',\n",
       " 'width_of_kernel',\n",
       " 'asymmetry_coefficient',\n",
       " 'length_of_groove']"
      ]
     },
     "execution_count": 6,
     "metadata": {},
     "output_type": "execute_result"
    }
   ],
   "source": [
    "data.columns"
   ]
  },
  {
   "cell_type": "code",
   "execution_count": 7,
   "metadata": {},
   "outputs": [],
   "source": [
    "#need to group the features into a vector\n",
    "from pyspark.ml.linalg import Vectors\n",
    "from pyspark.ml.feature import VectorAssembler"
   ]
  },
  {
   "cell_type": "code",
   "execution_count": 8,
   "metadata": {},
   "outputs": [],
   "source": [
    "#assemble the features\n",
    "assembler = VectorAssembler(inputCols=data.columns, outputCol='features')\n",
    "\n",
    "final_data = assembler.transform(data)"
   ]
  },
  {
   "cell_type": "code",
   "execution_count": 9,
   "metadata": {},
   "outputs": [
    {
     "data": {
      "text/plain": [
       "['area',\n",
       " 'perimeter',\n",
       " 'compactness',\n",
       " 'length_of_kernel',\n",
       " 'width_of_kernel',\n",
       " 'asymmetry_coefficient',\n",
       " 'length_of_groove',\n",
       " 'features']"
      ]
     },
     "execution_count": 9,
     "metadata": {},
     "output_type": "execute_result"
    }
   ],
   "source": [
    "final_data.columns"
   ]
  },
  {
   "cell_type": "code",
   "execution_count": 10,
   "metadata": {},
   "outputs": [],
   "source": [
    "#feature must be scaled since they have different ranges\n",
    "from pyspark.ml.feature import StandardScaler"
   ]
  },
  {
   "cell_type": "code",
   "execution_count": 11,
   "metadata": {},
   "outputs": [],
   "source": [
    "scaler = StandardScaler(inputCol='features', outputCol='features_scaled')"
   ]
  },
  {
   "cell_type": "code",
   "execution_count": 12,
   "metadata": {},
   "outputs": [],
   "source": [
    "scaled_data = scaler.fit(final_data).transform(final_data)"
   ]
  },
  {
   "cell_type": "code",
   "execution_count": 13,
   "metadata": {},
   "outputs": [
    {
     "data": {
      "text/plain": [
       "['area',\n",
       " 'perimeter',\n",
       " 'compactness',\n",
       " 'length_of_kernel',\n",
       " 'width_of_kernel',\n",
       " 'asymmetry_coefficient',\n",
       " 'length_of_groove',\n",
       " 'features',\n",
       " 'features_scaled']"
      ]
     },
     "execution_count": 13,
     "metadata": {},
     "output_type": "execute_result"
    }
   ],
   "source": [
    "scaled_data.columns"
   ]
  },
  {
   "cell_type": "code",
   "execution_count": 14,
   "metadata": {},
   "outputs": [],
   "source": [
    "#how many different types of seeds are there?"
   ]
  },
  {
   "cell_type": "code",
   "execution_count": 15,
   "metadata": {},
   "outputs": [],
   "source": [
    "# use Kmeans clustering to identify"
   ]
  },
  {
   "cell_type": "code",
   "execution_count": 16,
   "metadata": {},
   "outputs": [],
   "source": [
    "#import Kmeans \n",
    "from pyspark.ml.clustering import KMeans"
   ]
  },
  {
   "cell_type": "code",
   "execution_count": 17,
   "metadata": {},
   "outputs": [
    {
     "name": "stdout",
     "output_type": "stream",
     "text": [
      "How many clusters do you want to try?: 8\n",
      "for K = 2\n",
      "WCSSE: 656.7932253385325\n",
      "Cluster Centers:\n",
      "center #0 [ 6.20884577 12.25651292 37.43485358 13.77282897  9.67731721  2.2989371\n",
      " 12.09236686]\n",
      "center #1 [ 4.42210624 10.46640451 36.50749337 12.04573012  7.98091715  2.56066803\n",
      " 10.33364421]\n",
      "\n",
      "\n"
     ]
    },
    {
     "data": {
      "image/png": "[encoded data removed]",
      "text/plain": [
       "<Figure size 432x288 with 1 Axes>"
      ]
     },
     "metadata": {
      "needs_background": "light"
     },
     "output_type": "display_data"
    },
    {
     "name": "stdout",
     "output_type": "stream",
     "text": [
      "for K = 3\n",
      "WCSSE: 428.6720009437886\n",
      "Cluster Centers:\n",
      "center #0 [ 4.06660859 10.14191893 35.84098009 11.81592066  7.52397236  3.1823335\n",
      " 10.39801233]\n",
      "center #1 [ 4.93382436 10.94691274 37.30542404 12.41332714  8.60366812  1.82917353\n",
      " 10.40106154]\n",
      "center #2 [ 6.35645488 12.40730852 37.41990178 13.93860446  9.7892399   2.41585013\n",
      " 12.29286107]\n",
      "\n",
      "\n"
     ]
    },
    {
     "data": {
      "image/png": "[encoded data removed]",
      "text/plain": [
       "<Figure size 432x288 with 1 Axes>"
      ]
     },
     "metadata": {
      "needs_background": "light"
     },
     "output_type": "display_data"
    },
    {
     "name": "stdout",
     "output_type": "stream",
     "text": [
      "for K = 4\n",
      "WCSSE: 369.8117475179456\n",
      "Cluster Centers:\n",
      "center #0 [ 5.53207197 11.62874933 37.09373569 13.15688073  9.06063663  2.64680895\n",
      " 11.46169586]\n",
      "center #1 [ 4.82980425 10.82880104 37.3118555  12.27322934  8.52608703  1.61164063\n",
      " 10.22594481]\n",
      "center #2 [ 4.07339425 10.14659127 35.86469271 11.82047461  7.52910824  3.25100221\n",
      " 10.41433218]\n",
      "center #3 [ 6.5492244  12.58364844 37.51231498 14.12952054  9.9571537   2.31410422\n",
      " 12.45009803]\n",
      "\n",
      "\n"
     ]
    },
    {
     "data": {
      "image/png": "[encoded data removed]",
      "text/plain": [
       "<Figure size 432x288 with 1 Axes>"
      ]
     },
     "metadata": {
      "needs_background": "light"
     },
     "output_type": "display_data"
    },
    {
     "name": "stdout",
     "output_type": "stream",
     "text": [
      "for K = 5\n",
      "WCSSE: 326.39981829652976\n",
      "Cluster Centers:\n",
      "center #0 [ 5.57044936 11.67188495 37.07342203 13.20472941  9.0849054   2.5816746\n",
      " 11.52463494]\n",
      "center #1 [ 4.84463809 10.84572392 37.31193781 12.28924416  8.54097822  1.57269792\n",
      " 10.22907285]\n",
      "center #2 [ 3.9490985  10.10382039 35.07667557 11.88799844  7.22585642  3.12350856\n",
      " 10.52485018]\n",
      "center #3 [ 6.55902799 12.59243471 37.51772698 14.13977977  9.96710624  2.31054456\n",
      " 12.45782897]\n",
      "center #4 [ 4.19426402 10.20159127 36.52489268 11.78150004  7.79368053  3.34412905\n",
      " 10.31896777]\n",
      "\n",
      "\n"
     ]
    },
    {
     "data": {
      "image/png": "[encoded data removed]",
      "text/plain": [
       "<Figure size 432x288 with 1 Axes>"
      ]
     },
     "metadata": {
      "needs_background": "light"
     },
     "output_type": "display_data"
    },
    {
     "name": "stdout",
     "output_type": "stream",
     "text": [
      "for K = 6\n",
      "WCSSE: 289.19320955085414\n",
      "Cluster Centers:\n",
      "center #0 [ 5.61925984 11.73686184 36.98038828 13.30226998  9.10116863  2.67940462\n",
      " 11.64935045]\n",
      "center #1 [ 5.08495196 11.10016982 37.42696184 12.54201569  8.78068327  1.53921163\n",
      " 10.47054398]\n",
      "center #2 [ 6.5817938  12.61078649 37.54174718 14.14888494  9.98886209  2.30148384\n",
      " 12.46692394]\n",
      "center #3 [ 4.2651599  10.25836401 36.72131854 11.79010893  7.92724073  3.64466361\n",
      " 10.28816676]\n",
      "center #4 [ 3.98539989 10.1194058  35.28886379 11.88263854  7.29540261  3.06177059\n",
      " 10.52095071]\n",
      "center #5 [ 4.32628253 10.29581473 36.99568123 11.77586239  8.00063272  1.7224889\n",
      "  9.86472137]\n",
      "\n",
      "\n"
     ]
    },
    {
     "data": {
      "image/png": "[encoded data removed]",
      "text/plain": [
       "<Figure size 432x288 with 1 Axes>"
      ]
     },
     "metadata": {
      "needs_background": "light"
     },
     "output_type": "display_data"
    },
    {
     "name": "stdout",
     "output_type": "stream",
     "text": [
      "for K = 7\n",
      "WCSSE: 280.7034706728323\n",
      "Cluster Centers:\n",
      "center #0 [ 5.56011927 11.66826757 37.02690394 13.20617182  9.06194516  2.60290469\n",
      " 11.53727328]\n",
      "center #1 [ 4.85581616 10.85488706 37.33846766 12.29266529  8.55618086  1.58076664\n",
      " 10.22378937]\n",
      "center #2 [ 4.19783718 10.19195899 36.62066716 11.75264252  7.83065101  3.46392947\n",
      " 10.27699869]\n",
      "center #3 [ 6.85878403 12.85492386 37.64290992 14.33474055 10.26939809  3.5960678\n",
      " 12.58747806]\n",
      "center #4 [ 3.99325324 10.13559341 35.24161868 11.90474011  7.29556131  2.98440055\n",
      " 10.53280176]\n",
      "center #5 [ 6.52363539 12.64344565 37.01049328 14.35675668  9.76784075  2.04635684\n",
      " 12.67043705]\n",
      "center #6 [ 6.40597908 12.35228849 38.08678127 13.73451766 10.02734668  1.92172114\n",
      " 12.07500926]\n",
      "\n",
      "\n"
     ]
    },
    {
     "data": {
      "image/png": "[encoded data removed]",
      "text/plain": [
       "<Figure size 432x288 with 1 Axes>"
      ]
     },
     "metadata": {
      "needs_background": "light"
     },
     "output_type": "display_data"
    }
   ],
   "source": [
    "#will store the wcsse for each k\n",
    "elbow_table = pd.DataFrame(columns=['k value', 'wcsse']) \n",
    "\n",
    "#initiating the result table\n",
    "index = 0  #index for the result_table\n",
    "result_table = pd.DataFrame()\n",
    "result_table['features'] = scaled_data.select('features').collect()\n",
    "\n",
    "#test up to a desired number of clusters\n",
    "k_count = int(input('How many clusters do you want to try?: '))\n",
    "\n",
    "#attach a for loop here\n",
    "for k in range(2,k_count):\n",
    "    #start a Kmeans model object\n",
    "    kmeans = KMeans(featuresCol='features_scaled').setK(k)\n",
    "\n",
    "    #train the model\n",
    "    model = kmeans.fit(scaled_data)\n",
    "\n",
    "    #apply the model to the dataset\n",
    "    results = model.transform(scaled_data)\n",
    "\n",
    "    print('for K =', k)\n",
    "\n",
    "    #print the Within cluster sum of squared error\n",
    "    wcsse = model.computeCost(scaled_data)\n",
    "    print('WCSSE:', wcsse)\n",
    "\n",
    "    #print the cluster centers\n",
    "    centers = model.clusterCenters()\n",
    "    \n",
    "    print('Cluster Centers:')\n",
    "    for i in range(len(centers)):\n",
    "        print ('center #{}'.format(i),centers[i])\n",
    "    print('\\n')\n",
    "    \n",
    "        \n",
    "    #add the predictions to the results table for each k value\n",
    "    col_name = '{} clusters'.format(k)\n",
    "    result_table[col_name] = pd.DataFrame(results.select('prediction').take(220))[0]\n",
    "    \n",
    "    #add the wcsse and k to the elboW_table\n",
    "    elbow_table.loc[index] = [k, wcsse]\n",
    "    index+=1\n",
    "\n",
    "    \n",
    "    #plot the the cluster distribution for each k\n",
    "    plt.hist(result_table[col_name] )\n",
    "    plt.title(col_name + ' frequency distribution')\n",
    "    plt.show()\n",
    "    \n",
    "    "
   ]
  },
  {
   "cell_type": "code",
   "execution_count": 18,
   "metadata": {},
   "outputs": [
    {
     "data": {
      "text/html": [
       "<div>\n",
       "<style scoped>\n",
       "    .dataframe tbody tr th:only-of-type {\n",
       "        vertical-align: middle;\n",
       "    }\n",
       "\n",
       "    .dataframe tbody tr th {\n",
       "        vertical-align: top;\n",
       "    }\n",
       "\n",
       "    .dataframe thead th {\n",
       "        text-align: right;\n",
       "    }\n",
       "</style>\n",
       "<table border=\"1\" class=\"dataframe\">\n",
       "  <thead>\n",
       "    <tr style=\"text-align: right;\">\n",
       "      <th></th>\n",
       "      <th>features</th>\n",
       "      <th>2 clusters</th>\n",
       "      <th>3 clusters</th>\n",
       "      <th>4 clusters</th>\n",
       "      <th>5 clusters</th>\n",
       "      <th>6 clusters</th>\n",
       "      <th>7 clusters</th>\n",
       "    </tr>\n",
       "  </thead>\n",
       "  <tbody>\n",
       "    <tr>\n",
       "      <td>0</td>\n",
       "      <td>([15.26, 14.84, 0.871, 5.763, 3.312, 2.221, 5....</td>\n",
       "      <td>1</td>\n",
       "      <td>1</td>\n",
       "      <td>1</td>\n",
       "      <td>1</td>\n",
       "      <td>1</td>\n",
       "      <td>1</td>\n",
       "    </tr>\n",
       "    <tr>\n",
       "      <td>1</td>\n",
       "      <td>([14.88, 14.57, 0.8811, 5.553999999999999, 3.3...</td>\n",
       "      <td>1</td>\n",
       "      <td>1</td>\n",
       "      <td>1</td>\n",
       "      <td>1</td>\n",
       "      <td>1</td>\n",
       "      <td>1</td>\n",
       "    </tr>\n",
       "    <tr>\n",
       "      <td>2</td>\n",
       "      <td>([14.29, 14.09, 0.905, 5.291, 3.33699999999999...</td>\n",
       "      <td>1</td>\n",
       "      <td>1</td>\n",
       "      <td>1</td>\n",
       "      <td>1</td>\n",
       "      <td>1</td>\n",
       "      <td>1</td>\n",
       "    </tr>\n",
       "    <tr>\n",
       "      <td>3</td>\n",
       "      <td>([13.84, 13.94, 0.8955, 5.324, 3.3789999999999...</td>\n",
       "      <td>1</td>\n",
       "      <td>1</td>\n",
       "      <td>1</td>\n",
       "      <td>1</td>\n",
       "      <td>1</td>\n",
       "      <td>1</td>\n",
       "    </tr>\n",
       "    <tr>\n",
       "      <td>4</td>\n",
       "      <td>([16.14, 14.99, 0.9034, 5.6579999999999995, 3....</td>\n",
       "      <td>0</td>\n",
       "      <td>1</td>\n",
       "      <td>1</td>\n",
       "      <td>1</td>\n",
       "      <td>1</td>\n",
       "      <td>1</td>\n",
       "    </tr>\n",
       "    <tr>\n",
       "      <td>...</td>\n",
       "      <td>...</td>\n",
       "      <td>...</td>\n",
       "      <td>...</td>\n",
       "      <td>...</td>\n",
       "      <td>...</td>\n",
       "      <td>...</td>\n",
       "      <td>...</td>\n",
       "    </tr>\n",
       "    <tr>\n",
       "      <td>205</td>\n",
       "      <td>([12.19, 13.2, 0.8783, 5.1370000000000005, 2.9...</td>\n",
       "      <td>1</td>\n",
       "      <td>0</td>\n",
       "      <td>1</td>\n",
       "      <td>4</td>\n",
       "      <td>5</td>\n",
       "      <td>2</td>\n",
       "    </tr>\n",
       "    <tr>\n",
       "      <td>206</td>\n",
       "      <td>([11.23, 12.88, 0.8511, 5.14, 2.795, 4.325, 5....</td>\n",
       "      <td>1</td>\n",
       "      <td>0</td>\n",
       "      <td>2</td>\n",
       "      <td>4</td>\n",
       "      <td>4</td>\n",
       "      <td>4</td>\n",
       "    </tr>\n",
       "    <tr>\n",
       "      <td>207</td>\n",
       "      <td>([13.2, 13.66, 0.8883, 5.236000000000001, 3.23...</td>\n",
       "      <td>1</td>\n",
       "      <td>0</td>\n",
       "      <td>2</td>\n",
       "      <td>4</td>\n",
       "      <td>3</td>\n",
       "      <td>2</td>\n",
       "    </tr>\n",
       "    <tr>\n",
       "      <td>208</td>\n",
       "      <td>([11.84, 13.21, 0.8521, 5.175, 2.8360000000000...</td>\n",
       "      <td>1</td>\n",
       "      <td>0</td>\n",
       "      <td>2</td>\n",
       "      <td>4</td>\n",
       "      <td>4</td>\n",
       "      <td>4</td>\n",
       "    </tr>\n",
       "    <tr>\n",
       "      <td>209</td>\n",
       "      <td>([12.3, 13.34, 0.8684, 5.242999999999999, 2.97...</td>\n",
       "      <td>1</td>\n",
       "      <td>0</td>\n",
       "      <td>2</td>\n",
       "      <td>4</td>\n",
       "      <td>3</td>\n",
       "      <td>2</td>\n",
       "    </tr>\n",
       "  </tbody>\n",
       "</table>\n",
       "<p>210 rows × 7 columns</p>\n",
       "</div>"
      ],
      "text/plain": [
       "                                              features  2 clusters  \\\n",
       "0    ([15.26, 14.84, 0.871, 5.763, 3.312, 2.221, 5....           1   \n",
       "1    ([14.88, 14.57, 0.8811, 5.553999999999999, 3.3...           1   \n",
       "2    ([14.29, 14.09, 0.905, 5.291, 3.33699999999999...           1   \n",
       "3    ([13.84, 13.94, 0.8955, 5.324, 3.3789999999999...           1   \n",
       "4    ([16.14, 14.99, 0.9034, 5.6579999999999995, 3....           0   \n",
       "..                                                 ...         ...   \n",
       "205  ([12.19, 13.2, 0.8783, 5.1370000000000005, 2.9...           1   \n",
       "206  ([11.23, 12.88, 0.8511, 5.14, 2.795, 4.325, 5....           1   \n",
       "207  ([13.2, 13.66, 0.8883, 5.236000000000001, 3.23...           1   \n",
       "208  ([11.84, 13.21, 0.8521, 5.175, 2.8360000000000...           1   \n",
       "209  ([12.3, 13.34, 0.8684, 5.242999999999999, 2.97...           1   \n",
       "\n",
       "     3 clusters  4 clusters  5 clusters  6 clusters  7 clusters  \n",
       "0             1           1           1           1           1  \n",
       "1             1           1           1           1           1  \n",
       "2             1           1           1           1           1  \n",
       "3             1           1           1           1           1  \n",
       "4             1           1           1           1           1  \n",
       "..          ...         ...         ...         ...         ...  \n",
       "205           0           1           4           5           2  \n",
       "206           0           2           4           4           4  \n",
       "207           0           2           4           3           2  \n",
       "208           0           2           4           4           4  \n",
       "209           0           2           4           3           2  \n",
       "\n",
       "[210 rows x 7 columns]"
      ]
     },
     "execution_count": 18,
     "metadata": {},
     "output_type": "execute_result"
    }
   ],
   "source": [
    "result_table"
   ]
  },
  {
   "cell_type": "code",
   "execution_count": 19,
   "metadata": {},
   "outputs": [
    {
     "data": {
      "text/html": [
       "<div>\n",
       "<style scoped>\n",
       "    .dataframe tbody tr th:only-of-type {\n",
       "        vertical-align: middle;\n",
       "    }\n",
       "\n",
       "    .dataframe tbody tr th {\n",
       "        vertical-align: top;\n",
       "    }\n",
       "\n",
       "    .dataframe thead th {\n",
       "        text-align: right;\n",
       "    }\n",
       "</style>\n",
       "<table border=\"1\" class=\"dataframe\">\n",
       "  <thead>\n",
       "    <tr style=\"text-align: right;\">\n",
       "      <th></th>\n",
       "      <th>k value</th>\n",
       "      <th>wcsse</th>\n",
       "    </tr>\n",
       "  </thead>\n",
       "  <tbody>\n",
       "    <tr>\n",
       "      <td>0</td>\n",
       "      <td>2.0</td>\n",
       "      <td>656.793225</td>\n",
       "    </tr>\n",
       "    <tr>\n",
       "      <td>1</td>\n",
       "      <td>3.0</td>\n",
       "      <td>428.672001</td>\n",
       "    </tr>\n",
       "    <tr>\n",
       "      <td>2</td>\n",
       "      <td>4.0</td>\n",
       "      <td>369.811748</td>\n",
       "    </tr>\n",
       "    <tr>\n",
       "      <td>3</td>\n",
       "      <td>5.0</td>\n",
       "      <td>326.399818</td>\n",
       "    </tr>\n",
       "    <tr>\n",
       "      <td>4</td>\n",
       "      <td>6.0</td>\n",
       "      <td>289.193210</td>\n",
       "    </tr>\n",
       "    <tr>\n",
       "      <td>5</td>\n",
       "      <td>7.0</td>\n",
       "      <td>280.703471</td>\n",
       "    </tr>\n",
       "  </tbody>\n",
       "</table>\n",
       "</div>"
      ],
      "text/plain": [
       "   k value       wcsse\n",
       "0      2.0  656.793225\n",
       "1      3.0  428.672001\n",
       "2      4.0  369.811748\n",
       "3      5.0  326.399818\n",
       "4      6.0  289.193210\n",
       "5      7.0  280.703471"
      ]
     },
     "execution_count": 19,
     "metadata": {},
     "output_type": "execute_result"
    }
   ],
   "source": [
    "#print the elbow table\n",
    "elbow_table"
   ]
  },
  {
   "cell_type": "code",
   "execution_count": 20,
   "metadata": {},
   "outputs": [
    {
     "data": {
      "image/png": "[encoded data removed]",
      "text/plain": [
       "<Figure size 432x288 with 1 Axes>"
      ]
     },
     "metadata": {
      "needs_background": "light"
     },
     "output_type": "display_data"
    }
   ],
   "source": [
    "#visualize the elbow table\n",
    "plt.plot(elbow_table['k value'], elbow_table['wcsse'])\n",
    "plt.xlabel('K value')\n",
    "plt.ylabel('WCSSE')\n",
    "plt.title('Elbow Graph')\n",
    "plt.show()"
   ]
  },
  {
   "cell_type": "markdown",
   "metadata": {},
   "source": [
    "## Looking at the data, elbow graph, and frequency distributions, we can group the seeds into 4 clusters."
   ]
  },
  {
   "cell_type": "code",
   "execution_count": null,
   "metadata": {},
   "outputs": [],
   "source": []
  }
 ],
 "metadata": {
  "kernelspec": {
   "display_name": "Python 3",
   "language": "python",
   "name": "python3"
  },
  "language_info": {
   "codemirror_mode": {
    "name": "ipython",
    "version": 3
   },
   "file_extension": ".py",
   "mimetype": "text/x-python",
   "name": "python",
   "nbconvert_exporter": "python",
   "pygments_lexer": "ipython3",
   "version": "3.7.4"
  }
 },
 "nbformat": 4,
 "nbformat_minor": 2
}

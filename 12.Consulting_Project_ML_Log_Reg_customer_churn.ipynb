{
 "cells": [
  {
   "cell_type": "markdown",
   "metadata": {},
   "source": [
    "#### Consultancy Project\n",
    "A marketing agency has many customers that use their service to produce ads for the client/customer websites. They've noticed that they have quite a bit of churn in clients. They basically randomly assign account managers right now, but want you to create a machine learning model that will help predict which customers will churn (stop buying their service) so that they can correctly assign the customers most at risk to churn an account manager. Luckily they have some historical data, can you help them out? Create a classification algorithm that will help classify whether or not a customer churned. Then the company can test this against incoming data for future customers to predict which customers will churn and assign them an account manager.\n",
    "\n",
    "The data is saved as customer_churn.csv. Here are the fields and their definitions:\n",
    "\n",
    "Name : Name of the latest contact at Company\n",
    "Age: Customer Age\n",
    "Total_Purchase: Total Ads Purchased\n",
    "Account_Manager: Binary 0=No manager, 1= Account manager assigned\n",
    "Years: Totaly Years as a customer\n",
    "Num_sites: Number of websites that use the service.\n",
    "Onboard_date: Date that the name of the latest contact was onboarded\n",
    "Location: Client HQ Address\n",
    "Company: Name of Client Company\n",
    "Once you've created the model and evaluated it, test out the model on some new data (you can think of this almost like a hold-out set) that your client has provided, saved under new_customers.csv. The client wants to know which customers are most likely to churn given this data (they don't have the label yet)."
   ]
  },
  {
   "cell_type": "code",
   "execution_count": 1,
   "metadata": {},
   "outputs": [],
   "source": [
    "import pandas as pd"
   ]
  },
  {
   "cell_type": "code",
   "execution_count": 2,
   "metadata": {},
   "outputs": [],
   "source": [
    "#import the necessary libraries\n",
    "from pyspark.sql import SparkSession"
   ]
  },
  {
   "cell_type": "code",
   "execution_count": 3,
   "metadata": {},
   "outputs": [],
   "source": [
    "#import the isnan function from the column package\n",
    "from pyspark.sql.functions import (count, when, isnull, month, year)"
   ]
  },
  {
   "cell_type": "code",
   "execution_count": 4,
   "metadata": {},
   "outputs": [],
   "source": [
    "#starting the spark session\n",
    "spark = SparkSession.builder.appName('customerchurn').getOrCreate()"
   ]
  },
  {
   "cell_type": "code",
   "execution_count": 5,
   "metadata": {},
   "outputs": [],
   "source": [
    "#load the dataset\n",
    "data = spark.read.csv('12.customer_churn.csv', inferSchema=True, header=True)"
   ]
  },
  {
   "cell_type": "markdown",
   "metadata": {},
   "source": [
    "#### Exploratory analysis"
   ]
  },
  {
   "cell_type": "code",
   "execution_count": 6,
   "metadata": {},
   "outputs": [
    {
     "name": "stdout",
     "output_type": "stream",
     "text": [
      "root\n",
      " |-- Names: string (nullable = true)\n",
      " |-- Age: double (nullable = true)\n",
      " |-- Total_Purchase: double (nullable = true)\n",
      " |-- Account_Manager: integer (nullable = true)\n",
      " |-- Years: double (nullable = true)\n",
      " |-- Num_Sites: double (nullable = true)\n",
      " |-- Onboard_date: timestamp (nullable = true)\n",
      " |-- Location: string (nullable = true)\n",
      " |-- Company: string (nullable = true)\n",
      " |-- Churn: integer (nullable = true)\n",
      "\n"
     ]
    }
   ],
   "source": [
    "#analyzing each column\n",
    "data.printSchema()"
   ]
  },
  {
   "cell_type": "code",
   "execution_count": 7,
   "metadata": {},
   "outputs": [
    {
     "name": "stdout",
     "output_type": "stream",
     "text": [
      "Row(Names='Cameron Williams', Age=42.0, Total_Purchase=11066.8, Account_Manager=0, Years=7.22, Num_Sites=8.0, Onboard_date=datetime.datetime(2013, 8, 30, 7, 0, 40), Location='10265 Elizabeth Mission Barkerburgh, AK 89518', Company='Harvey LLC', Churn=1) \n",
      "\n",
      "Row(Names='Kevin Mueller', Age=41.0, Total_Purchase=11916.22, Account_Manager=0, Years=6.5, Num_Sites=11.0, Onboard_date=datetime.datetime(2013, 8, 13, 0, 38, 46), Location='6157 Frank Gardens Suite 019 Carloshaven, RI 17756', Company='Wilson PLC', Churn=1) \n",
      "\n",
      "Row(Names='Eric Lozano', Age=38.0, Total_Purchase=12884.75, Account_Manager=0, Years=6.67, Num_Sites=12.0, Onboard_date=datetime.datetime(2016, 6, 29, 6, 20, 7), Location='1331 Keith Court Alyssahaven, DE 90114', Company='Miller, Johnson and Wallace', Churn=1) \n",
      "\n",
      "Row(Names='Phillip White', Age=42.0, Total_Purchase=8010.76, Account_Manager=0, Years=6.71, Num_Sites=10.0, Onboard_date=datetime.datetime(2014, 4, 22, 12, 43, 12), Location='13120 Daniel Mount Angelabury, WY 30645-4695', Company='Smith Inc', Churn=1) \n",
      "\n",
      "Row(Names='Cynthia Norton', Age=37.0, Total_Purchase=9191.58, Account_Manager=0, Years=5.56, Num_Sites=9.0, Onboard_date=datetime.datetime(2016, 1, 19, 15, 31, 15), Location='765 Tricia Row Karenshire, MH 71730', Company='Love-Jones', Churn=1) \n",
      "\n"
     ]
    }
   ],
   "source": [
    "#print a couple of rows for further analysis\n",
    "for row in data.head(5):\n",
    "    print(row,'\\n')"
   ]
  },
  {
   "cell_type": "code",
   "execution_count": 8,
   "metadata": {},
   "outputs": [],
   "source": [
    "def null_counter(dataframe): \n",
    "    '''Accepts a spark dataframe, and returns the number of null values in each column:\n",
    "    ex:\n",
    "    input:  null_counter(dataframe_with_missingvalues)\n",
    "     output: \n",
    "            The number of missing values in  Id  column :  0\n",
    "            The number of missing values in  Name  column :  2 \n",
    "    '''\n",
    "    for column in dataframe.columns:\n",
    "        print('The number of missing values in ',column, ' column : ',\n",
    "              dataframe.select(count(when(isnull(column),column)).alias(column)).collect()[0][0]\n",
    "              )"
   ]
  },
  {
   "cell_type": "code",
   "execution_count": 9,
   "metadata": {},
   "outputs": [
    {
     "name": "stdout",
     "output_type": "stream",
     "text": [
      "The number of missing values in  Names  column :  0\n",
      "The number of missing values in  Age  column :  0\n",
      "The number of missing values in  Total_Purchase  column :  0\n",
      "The number of missing values in  Account_Manager  column :  0\n",
      "The number of missing values in  Years  column :  0\n",
      "The number of missing values in  Num_Sites  column :  0\n",
      "The number of missing values in  Onboard_date  column :  0\n",
      "The number of missing values in  Location  column :  0\n",
      "The number of missing values in  Company  column :  0\n",
      "The number of missing values in  Churn  column :  0\n"
     ]
    }
   ],
   "source": [
    "null_counter(data)"
   ]
  },
  {
   "cell_type": "markdown",
   "metadata": {},
   "source": [
    "#### Data seems complete\n",
    "#### There are no missing values in the data.\n",
    "#### Now let's check the categorical values"
   ]
  },
  {
   "cell_type": "code",
   "execution_count": 10,
   "metadata": {},
   "outputs": [
    {
     "name": "stdout",
     "output_type": "stream",
     "text": [
      "root\n",
      " |-- Names: string (nullable = true)\n",
      " |-- Age: double (nullable = true)\n",
      " |-- Total_Purchase: double (nullable = true)\n",
      " |-- Account_Manager: integer (nullable = true)\n",
      " |-- Years: double (nullable = true)\n",
      " |-- Num_Sites: double (nullable = true)\n",
      " |-- Onboard_date: timestamp (nullable = true)\n",
      " |-- Location: string (nullable = true)\n",
      " |-- Company: string (nullable = true)\n",
      " |-- Churn: integer (nullable = true)\n",
      "\n"
     ]
    }
   ],
   "source": [
    "data.printSchema()"
   ]
  },
  {
   "cell_type": "markdown",
   "metadata": {},
   "source": [
    "##### Names column will not affect the analysis\n",
    "##### Company Location and Company address reveal the same data. We will drop the address\n",
    "##### Onboard_date needs to be modifed only to year and month\n",
    "##### Company needs to be one-hot-encoded"
   ]
  },
  {
   "cell_type": "code",
   "execution_count": 11,
   "metadata": {},
   "outputs": [],
   "source": [
    "#create a list of all the stages of workflow for the pipeline\n",
    "stages = []"
   ]
  },
  {
   "cell_type": "markdown",
   "metadata": {},
   "source": [
    "###  Convert the onboard date to month duration"
   ]
  },
  {
   "cell_type": "code",
   "execution_count": 12,
   "metadata": {},
   "outputs": [],
   "source": [
    "#import the date time module\n",
    "import datetime"
   ]
  },
  {
   "cell_type": "code",
   "execution_count": 13,
   "metadata": {},
   "outputs": [],
   "source": [
    "#converting the current date (3/15/2020) to months\n",
    "currentmonth = datetime.datetime.now().year*12 + datetime.datetime.now().month"
   ]
  },
  {
   "cell_type": "code",
   "execution_count": 14,
   "metadata": {},
   "outputs": [],
   "source": [
    "#import the lit function from pyspark to be able to add a constant as a column\n",
    "from pyspark.sql.functions import lit\n",
    "\n",
    "#adding the current month to the the data frame\n",
    "data = data.withColumn('Current_Month', lit(currentmonth))"
   ]
  },
  {
   "cell_type": "code",
   "execution_count": 15,
   "metadata": {},
   "outputs": [],
   "source": [
    "#the duration which the latest contact stayed in contact could be important. So:\n",
    "\n",
    "#calculating the date of the onboard_date in terms of month\n",
    "data = data.withColumn('Onboard_Month', ( year('Onboard_date')*12  +  month('Onboard_date') ).alias('Onboard_month'))\n",
    "\n",
    "#finding the difference between the current month and the onboard_date\n",
    "data = data.withColumn('Onboard_Date_Difference', data['Current_Month'] - data['Onboard_Month'])"
   ]
  },
  {
   "cell_type": "code",
   "execution_count": 16,
   "metadata": {},
   "outputs": [
    {
     "data": {
      "text/plain": [
       "['Names',\n",
       " 'Age',\n",
       " 'Total_Purchase',\n",
       " 'Account_Manager',\n",
       " 'Years',\n",
       " 'Num_Sites',\n",
       " 'Onboard_date',\n",
       " 'Location',\n",
       " 'Company',\n",
       " 'Churn',\n",
       " 'Current_Month',\n",
       " 'Onboard_Month',\n",
       " 'Onboard_Date_Difference']"
      ]
     },
     "execution_count": 16,
     "metadata": {},
     "output_type": "execute_result"
    }
   ],
   "source": [
    "data.columns"
   ]
  },
  {
   "cell_type": "code",
   "execution_count": 17,
   "metadata": {},
   "outputs": [],
   "source": [
    "#finalize the dataset\n",
    "data_in_progress = data.select(\n",
    " 'Age',\n",
    " 'Total_Purchase',\n",
    " 'Account_Manager',\n",
    " 'Years',\n",
    " 'Num_Sites',\n",
    " 'Company',\n",
    " 'Onboard_Date_Difference', \n",
    " 'Churn')"
   ]
  },
  {
   "cell_type": "markdown",
   "metadata": {},
   "source": [
    "### Handle the categorical variables"
   ]
  },
  {
   "cell_type": "code",
   "execution_count": 18,
   "metadata": {},
   "outputs": [],
   "source": [
    "#importing the indexer and the onehotencoder\n",
    "from pyspark.ml.feature import StringIndexer, OneHotEncoder"
   ]
  },
  {
   "cell_type": "code",
   "execution_count": 19,
   "metadata": {},
   "outputs": [],
   "source": [
    "#first create the company indexer\n",
    "company_indexer = StringIndexer(inputCol='Company', outputCol='Company_indexed')\n",
    "stages += [company_indexer] #adding to the stages for the pipeline\n",
    "\n",
    "#secondly, create a company encoder\n",
    "company_encoder = OneHotEncoder(inputCol='Company_indexed', outputCol='Company_encoded')\n",
    "stages += [company_encoder]  #adding to the stages for the pipeline"
   ]
  },
  {
   "cell_type": "markdown",
   "metadata": {},
   "source": [
    "### Build the assembler"
   ]
  },
  {
   "cell_type": "code",
   "execution_count": 20,
   "metadata": {},
   "outputs": [],
   "source": [
    "#importing the VectorAssembler\n",
    "from pyspark.ml.feature import VectorAssembler\n",
    "from pyspark.ml.linalg import Vectors"
   ]
  },
  {
   "cell_type": "code",
   "execution_count": 21,
   "metadata": {},
   "outputs": [],
   "source": [
    "#building the assembler\n",
    "assembler = VectorAssembler(inputCols=['Age','Total_Purchase',\n",
    "                                        'Account_Manager','Years',\n",
    "                                        'Num_Sites','Company_encoded',\n",
    "                                        'Onboard_Date_Difference'],\n",
    "                            outputCol='features')\n",
    "stages += [assembler]"
   ]
  },
  {
   "cell_type": "markdown",
   "metadata": {},
   "source": [
    "### Building the workflow pipeline"
   ]
  },
  {
   "cell_type": "code",
   "execution_count": 22,
   "metadata": {},
   "outputs": [],
   "source": [
    "#import the pipeline\n",
    "from pyspark.ml import Pipeline"
   ]
  },
  {
   "cell_type": "code",
   "execution_count": 23,
   "metadata": {},
   "outputs": [],
   "source": [
    "#create the pipeline\n",
    "pipeline = Pipeline(stages = stages)"
   ]
  },
  {
   "cell_type": "code",
   "execution_count": 24,
   "metadata": {},
   "outputs": [],
   "source": [
    "final_data = pipeline.fit(data_in_progress).transform(data_in_progress)"
   ]
  },
  {
   "cell_type": "code",
   "execution_count": 25,
   "metadata": {},
   "outputs": [
    {
     "name": "stdout",
     "output_type": "stream",
     "text": [
      "root\n",
      " |-- Age: double (nullable = true)\n",
      " |-- Total_Purchase: double (nullable = true)\n",
      " |-- Account_Manager: integer (nullable = true)\n",
      " |-- Years: double (nullable = true)\n",
      " |-- Num_Sites: double (nullable = true)\n",
      " |-- Company: string (nullable = true)\n",
      " |-- Onboard_Date_Difference: integer (nullable = true)\n",
      " |-- Churn: integer (nullable = true)\n",
      " |-- Company_indexed: double (nullable = false)\n",
      " |-- Company_encoded: vector (nullable = true)\n",
      " |-- features: vector (nullable = true)\n",
      "\n"
     ]
    }
   ],
   "source": [
    "final_data.printSchema()"
   ]
  },
  {
   "cell_type": "markdown",
   "metadata": {},
   "source": [
    "### Create the train and test datasets"
   ]
  },
  {
   "cell_type": "code",
   "execution_count": 26,
   "metadata": {},
   "outputs": [],
   "source": [
    "#splitting the data\n",
    "train_data, test_data = final_data.randomSplit([0.7, 0.3])"
   ]
  },
  {
   "cell_type": "markdown",
   "metadata": {},
   "source": [
    "### Build the regression model"
   ]
  },
  {
   "cell_type": "code",
   "execution_count": 27,
   "metadata": {},
   "outputs": [],
   "source": [
    "#importing the logistic regression\n",
    "from pyspark.ml.classification import LogisticRegression"
   ]
  },
  {
   "cell_type": "code",
   "execution_count": 28,
   "metadata": {},
   "outputs": [],
   "source": [
    "#start the log_regression object\n",
    "log_reg = LogisticRegression(labelCol='Churn')"
   ]
  },
  {
   "cell_type": "markdown",
   "metadata": {},
   "source": [
    "### Build the model"
   ]
  },
  {
   "cell_type": "code",
   "execution_count": 29,
   "metadata": {},
   "outputs": [],
   "source": [
    "#train the model\n",
    "log_reg_model = log_reg.fit(final_data)"
   ]
  },
  {
   "cell_type": "markdown",
   "metadata": {},
   "source": [
    "### Evaluate the model"
   ]
  },
  {
   "cell_type": "code",
   "execution_count": 30,
   "metadata": {},
   "outputs": [],
   "source": [
    "#introduce the test data to the model\n",
    "results = log_reg_model.transform(test_data)"
   ]
  },
  {
   "cell_type": "code",
   "execution_count": 31,
   "metadata": {},
   "outputs": [
    {
     "data": {
      "text/plain": [
       "['Age',\n",
       " 'Total_Purchase',\n",
       " 'Account_Manager',\n",
       " 'Years',\n",
       " 'Num_Sites',\n",
       " 'Company',\n",
       " 'Onboard_Date_Difference',\n",
       " 'Churn',\n",
       " 'Company_indexed',\n",
       " 'Company_encoded',\n",
       " 'features',\n",
       " 'rawPrediction',\n",
       " 'probability',\n",
       " 'prediction']"
      ]
     },
     "execution_count": 31,
     "metadata": {},
     "output_type": "execute_result"
    }
   ],
   "source": [
    "#checking the output\n",
    "results.columns"
   ]
  },
  {
   "cell_type": "code",
   "execution_count": 32,
   "metadata": {},
   "outputs": [
    {
     "data": {
      "text/html": [
       "<div>\n",
       "<style scoped>\n",
       "    .dataframe tbody tr th:only-of-type {\n",
       "        vertical-align: middle;\n",
       "    }\n",
       "\n",
       "    .dataframe tbody tr th {\n",
       "        vertical-align: top;\n",
       "    }\n",
       "\n",
       "    .dataframe thead th {\n",
       "        text-align: right;\n",
       "    }\n",
       "</style>\n",
       "<table border=\"1\" class=\"dataframe\">\n",
       "  <thead>\n",
       "    <tr style=\"text-align: right;\">\n",
       "      <th></th>\n",
       "      <th>0</th>\n",
       "      <th>1</th>\n",
       "      <th>2</th>\n",
       "    </tr>\n",
       "  </thead>\n",
       "  <tbody>\n",
       "    <tr>\n",
       "      <td>Age</td>\n",
       "      <td>29</td>\n",
       "      <td>29</td>\n",
       "      <td>30</td>\n",
       "    </tr>\n",
       "    <tr>\n",
       "      <td>Total_Purchase</td>\n",
       "      <td>9617.59</td>\n",
       "      <td>13255</td>\n",
       "      <td>8677.28</td>\n",
       "    </tr>\n",
       "    <tr>\n",
       "      <td>Account_Manager</td>\n",
       "      <td>0</td>\n",
       "      <td>1</td>\n",
       "      <td>1</td>\n",
       "    </tr>\n",
       "    <tr>\n",
       "      <td>Years</td>\n",
       "      <td>5.49</td>\n",
       "      <td>4.89</td>\n",
       "      <td>7.31</td>\n",
       "    </tr>\n",
       "    <tr>\n",
       "      <td>Num_Sites</td>\n",
       "      <td>8</td>\n",
       "      <td>8</td>\n",
       "      <td>7</td>\n",
       "    </tr>\n",
       "    <tr>\n",
       "      <td>Company</td>\n",
       "      <td>Mendoza Inc</td>\n",
       "      <td>Gonzalez, Abbott and Lane</td>\n",
       "      <td>Wiley, Macdonald and Lewis</td>\n",
       "    </tr>\n",
       "    <tr>\n",
       "      <td>Onboard_Date_Difference</td>\n",
       "      <td>85</td>\n",
       "      <td>49</td>\n",
       "      <td>161</td>\n",
       "    </tr>\n",
       "    <tr>\n",
       "      <td>Churn</td>\n",
       "      <td>0</td>\n",
       "      <td>0</td>\n",
       "      <td>0</td>\n",
       "    </tr>\n",
       "    <tr>\n",
       "      <td>Company_indexed</td>\n",
       "      <td>478</td>\n",
       "      <td>196</td>\n",
       "      <td>400</td>\n",
       "    </tr>\n",
       "    <tr>\n",
       "      <td>Company_encoded</td>\n",
       "      <td>(0.0, 0.0, 0.0, 0.0, 0.0, 0.0, 0.0, 0.0, 0.0, ...</td>\n",
       "      <td>(0.0, 0.0, 0.0, 0.0, 0.0, 0.0, 0.0, 0.0, 0.0, ...</td>\n",
       "      <td>(0.0, 0.0, 0.0, 0.0, 0.0, 0.0, 0.0, 0.0, 0.0, ...</td>\n",
       "    </tr>\n",
       "    <tr>\n",
       "      <td>features</td>\n",
       "      <td>(29.0, 9617.59, 0.0, 5.49, 8.0, 0.0, 0.0, 0.0,...</td>\n",
       "      <td>(29.0, 13255.05, 1.0, 4.89, 8.0, 0.0, 0.0, 0.0...</td>\n",
       "      <td>(30.0, 8677.28, 1.0, 7.31, 7.0, 0.0, 0.0, 0.0,...</td>\n",
       "    </tr>\n",
       "    <tr>\n",
       "      <td>rawPrediction</td>\n",
       "      <td>[129.7849389300564, -129.7849389300564]</td>\n",
       "      <td>[156.7145315149693, -156.7145315149693]</td>\n",
       "      <td>[217.5287629570909, -217.5287629570909]</td>\n",
       "    </tr>\n",
       "    <tr>\n",
       "      <td>probability</td>\n",
       "      <td>[1.0, 4.3163553215925035e-57]</td>\n",
       "      <td>[1.0, 8.704497983195505e-69]</td>\n",
       "      <td>[1.0, 3.376436547080772e-95]</td>\n",
       "    </tr>\n",
       "    <tr>\n",
       "      <td>prediction</td>\n",
       "      <td>0</td>\n",
       "      <td>0</td>\n",
       "      <td>0</td>\n",
       "    </tr>\n",
       "  </tbody>\n",
       "</table>\n",
       "</div>"
      ],
      "text/plain": [
       "                                                                         0  \\\n",
       "Age                                                                     29   \n",
       "Total_Purchase                                                     9617.59   \n",
       "Account_Manager                                                          0   \n",
       "Years                                                                 5.49   \n",
       "Num_Sites                                                                8   \n",
       "Company                                                        Mendoza Inc   \n",
       "Onboard_Date_Difference                                                 85   \n",
       "Churn                                                                    0   \n",
       "Company_indexed                                                        478   \n",
       "Company_encoded          (0.0, 0.0, 0.0, 0.0, 0.0, 0.0, 0.0, 0.0, 0.0, ...   \n",
       "features                 (29.0, 9617.59, 0.0, 5.49, 8.0, 0.0, 0.0, 0.0,...   \n",
       "rawPrediction                      [129.7849389300564, -129.7849389300564]   \n",
       "probability                                  [1.0, 4.3163553215925035e-57]   \n",
       "prediction                                                               0   \n",
       "\n",
       "                                                                         1  \\\n",
       "Age                                                                     29   \n",
       "Total_Purchase                                                       13255   \n",
       "Account_Manager                                                          1   \n",
       "Years                                                                 4.89   \n",
       "Num_Sites                                                                8   \n",
       "Company                                          Gonzalez, Abbott and Lane   \n",
       "Onboard_Date_Difference                                                 49   \n",
       "Churn                                                                    0   \n",
       "Company_indexed                                                        196   \n",
       "Company_encoded          (0.0, 0.0, 0.0, 0.0, 0.0, 0.0, 0.0, 0.0, 0.0, ...   \n",
       "features                 (29.0, 13255.05, 1.0, 4.89, 8.0, 0.0, 0.0, 0.0...   \n",
       "rawPrediction                      [156.7145315149693, -156.7145315149693]   \n",
       "probability                                   [1.0, 8.704497983195505e-69]   \n",
       "prediction                                                               0   \n",
       "\n",
       "                                                                         2  \n",
       "Age                                                                     30  \n",
       "Total_Purchase                                                     8677.28  \n",
       "Account_Manager                                                          1  \n",
       "Years                                                                 7.31  \n",
       "Num_Sites                                                                7  \n",
       "Company                                         Wiley, Macdonald and Lewis  \n",
       "Onboard_Date_Difference                                                161  \n",
       "Churn                                                                    0  \n",
       "Company_indexed                                                        400  \n",
       "Company_encoded          (0.0, 0.0, 0.0, 0.0, 0.0, 0.0, 0.0, 0.0, 0.0, ...  \n",
       "features                 (30.0, 8677.28, 1.0, 7.31, 7.0, 0.0, 0.0, 0.0,...  \n",
       "rawPrediction                      [217.5287629570909, -217.5287629570909]  \n",
       "probability                                   [1.0, 3.376436547080772e-95]  \n",
       "prediction                                                               0  "
      ]
     },
     "execution_count": 32,
     "metadata": {},
     "output_type": "execute_result"
    }
   ],
   "source": [
    "#review the results dataframe using pandas pandas for better formatting\n",
    "pd.DataFrame(data=results.take(3),columns=results.columns).T"
   ]
  },
  {
   "cell_type": "markdown",
   "metadata": {},
   "source": [
    "### Use the evaluation metrics for further analysis"
   ]
  },
  {
   "cell_type": "code",
   "execution_count": 33,
   "metadata": {},
   "outputs": [],
   "source": [
    "#importing the evaluation metrics\n",
    "from pyspark.ml.evaluation import BinaryClassificationEvaluator, MulticlassClassificationEvaluator"
   ]
  },
  {
   "cell_type": "code",
   "execution_count": 34,
   "metadata": {},
   "outputs": [],
   "source": [
    "#build an evaluator\n",
    "evaluate = BinaryClassificationEvaluator(labelCol='Churn')"
   ]
  },
  {
   "cell_type": "code",
   "execution_count": 35,
   "metadata": {},
   "outputs": [],
   "source": [
    "#calculate the AUC\n",
    "AUC = evaluate.evaluate(results)"
   ]
  },
  {
   "cell_type": "code",
   "execution_count": 36,
   "metadata": {},
   "outputs": [
    {
     "data": {
      "text/plain": [
       "1.0"
      ]
     },
     "execution_count": 36,
     "metadata": {},
     "output_type": "execute_result"
    }
   ],
   "source": [
    "AUC"
   ]
  },
  {
   "cell_type": "markdown",
   "metadata": {},
   "source": [
    "### Our model classified all data correctly"
   ]
  },
  {
   "cell_type": "markdown",
   "metadata": {},
   "source": [
    "### Now, we will do further analysis before deploying our model"
   ]
  },
  {
   "cell_type": "code",
   "execution_count": null,
   "metadata": {},
   "outputs": [],
   "source": []
  }
 ],
 "metadata": {
  "kernelspec": {
   "display_name": "Python 3",
   "language": "python",
   "name": "python3"
  },
  "language_info": {
   "codemirror_mode": {
    "name": "ipython",
    "version": 3
   },
   "file_extension": ".py",
   "mimetype": "text/x-python",
   "name": "python",
   "nbconvert_exporter": "python",
   "pygments_lexer": "ipython3",
   "version": "3.7.4"
  }
 },
 "nbformat": 4,
 "nbformat_minor": 4
}

{
 "cells": [
  {
   "cell_type": "code",
   "execution_count": 1,
   "metadata": {},
   "outputs": [],
   "source": [
    "from __future__ import print_function\n",
    "\n",
    "import mysql.connector\n",
    "from mysql.connector import errorcode\n",
    "from decimal import Decimal\n",
    "from datetime import datetime, date, timedelta"
   ]
  },
  {
   "cell_type": "code",
   "execution_count": 26,
   "metadata": {},
   "outputs": [],
   "source": [
    "#enter user credentials or import config file\n",
    "\n",
    "config = ['root','password', 'databasename']"
   ]
  },
  {
   "cell_type": "code",
   "execution_count": 17,
   "metadata": {},
   "outputs": [],
   "source": [
    "#Create tables\n",
    "\n",
    "TABLES = {}\n",
    "TABLES['xyz'] = (\n",
    "    \"CREATE TABLE `xyz` (\"\n",
    "    \"  `emp_no` int(11) NOT NULL AUTO_INCREMENT,\"\n",
    "    \"  `first_name` varchar(14) NOT NULL,\"\n",
    "    \"  `gender` enum('M','F') NOT NULL,\"\n",
    "    \"  `hire_date` date NOT NULL,\"\n",
    "    \"  PRIMARY KEY (`emp_no`)\"\n",
    "    \") ENGINE=InnoDB\")\n",
    "\n",
    "TABLES['yxz'] = (\n",
    "    \"CREATE TABLE `yxz` (\"\n",
    "    \"  `dept_no` char(4) NOT NULL,\"\n",
    "    \"  `from_date` date NOT NULL,\"\n",
    "    \" `random` integer NOT NULL,\"\n",
    "    \"  PRIMARY KEY (`dept_no`), UNIQUE KEY `random` (`random`)\"\n",
    "    \") ENGINE=InnoDB\")\n"
   ]
  },
  {
   "cell_type": "code",
   "execution_count": 18,
   "metadata": {},
   "outputs": [
    {
     "data": {
      "text/plain": [
       "'try:\\n    cursor.execute(\"USE {}\".format(DB_NAME))\\nexcept mysql.connector.Error as err:\\n    print(\"Database {} does not exists.\".format(DB_NAME))\\n    if err.errno == errorcode.ER_BAD_DB_ERROR:\\n        create_database(cursor)\\n        print(\"Database {} created successfully.\".format(DB_NAME))\\n        cnx.database = DB_NAME\\n    else:\\n        print(err)\\n        exit(1)'"
      ]
     },
     "execution_count": 18,
     "metadata": {},
     "output_type": "execute_result"
    }
   ],
   "source": [
    "#Create a database\n",
    "def create_database(cursor):\n",
    "    try:\n",
    "        cursor.execute(\n",
    "            \"CREATE DATABASE {} DEFAULT CHARACTER SET 'utf8'\".format(DB_NAME))\n",
    "    except mysql.connector.Error as err:\n",
    "        print(\"Failed creating database: {}\".format(err))\n",
    "        exit(1)\n",
    "\n",
    "'''try:\n",
    "    cursor.execute(\"USE {}\".format(DB_NAME))\n",
    "except mysql.connector.Error as err:\n",
    "    print(\"Database {} does not exists.\".format(DB_NAME))\n",
    "    if err.errno == errorcode.ER_BAD_DB_ERROR:\n",
    "        create_database(cursor)\n",
    "        print(\"Database {} created successfully.\".format(DB_NAME))\n",
    "        cnx.database = DB_NAME\n",
    "    else:\n",
    "        print(err)\n",
    "        exit(1)'''"
   ]
  },
  {
   "cell_type": "code",
   "execution_count": 19,
   "metadata": {},
   "outputs": [],
   "source": [
    "#connect to the DB\n",
    "\n",
    "# Connect with the MySQL Server\n",
    "cnx = mysql.connector.connect(user=config[0],  password=config[1], database=config[2])\n",
    "\n",
    "# Get a buffered cursors\n",
    "cursor = cnx.cursor(buffered=True)"
   ]
  },
  {
   "cell_type": "code",
   "execution_count": 20,
   "metadata": {},
   "outputs": [
    {
     "name": "stdout",
     "output_type": "stream",
     "text": [
      "Creating table xyz: already exists.\n",
      "Creating table yxz: OK\n"
     ]
    }
   ],
   "source": [
    "# Create Table\n",
    "for table_name in TABLES:\n",
    "    table_description = TABLES[table_name]\n",
    "    try:\n",
    "        print(\"Creating table {}: \".format(table_name), end='')\n",
    "        cursor.execute(table_description)\n",
    "        \n",
    "    except mysql.connector.Error as err:\n",
    "        if err.errno == errorcode.ER_TABLE_EXISTS_ERROR:\n",
    "            print(\"already exists.\")\n",
    "        else:\n",
    "            print(err.msg)\n",
    "    else:\n",
    "        print(\"OK\")\n",
    "\n",
    "cursor.close()\n",
    "cnx.close()"
   ]
  },
  {
   "cell_type": "code",
   "execution_count": 23,
   "metadata": {},
   "outputs": [],
   "source": [
    "#Prepare queries to Insert data into tables\n",
    "xyz_insert_query = (\"INSERT INTO xyz \"\n",
    "               \"(emp_no,first_name, gender, hire_date) \"\n",
    "               \"VALUES (%s, %s, %s, %s)\")\n",
    "\n",
    "\n",
    "yxz_insert_query = (\"INSERT INTO yxz \"\n",
    "              \"(dept_no, from_date, random) \"\n",
    "              \"VALUES (%(dept_no)s, from_date, %(random)s)\")\n",
    "    \n",
    "    \n",
    "tomorrow = datetime.now().date() + timedelta(days=1)\n",
    "\n",
    "data_xyz = (287, 'Vanderkelen', 'M', date(1977, 6, 14))\n",
    "\n",
    "data_yxz = {  'dept_no': 234,\n",
    "              'from_date': tomorrow,\n",
    "              'random' : 56\n",
    "            }"
   ]
  },
  {
   "cell_type": "code",
   "execution_count": 25,
   "metadata": {},
   "outputs": [],
   "source": [
    "#Renew the connection\n",
    "cnx = mysql.connector.connect(user='root', password='KurtOvasi04', database='employees_mod')\n",
    "\n",
    "# Get a buffered cursors\n",
    "cursor_xyz = cnx.cursor(buffered=True)\n",
    "cursor_yxz = cnx.cursor(buffered=True)\n",
    "\n",
    "\n",
    "#Execute and commit to DB\n",
    "cursor_xyz.execute(xyz_insert_query, data_xyz )\n",
    "cursor_yxz.execute(yxz_insert_query, data_yxz)\n",
    "\n",
    "# Make sure data is committed to the database\n",
    "cnx.commit()\n",
    "\n",
    "cursor.close()\n",
    "cnx.close()"
   ]
  },
  {
   "cell_type": "code",
   "execution_count": null,
   "metadata": {},
   "outputs": [],
   "source": []
  }
 ],
 "metadata": {
  "kernelspec": {
   "display_name": "Python 3",
   "language": "python",
   "name": "python3"
  },
  "language_info": {
   "codemirror_mode": {
    "name": "ipython",
    "version": 3
   },
   "file_extension": ".py",
   "mimetype": "text/x-python",
   "name": "python",
   "nbconvert_exporter": "python",
   "pygments_lexer": "ipython3",
   "version": "3.7.6"
  },
  "varInspector": {
   "cols": {
    "lenName": 16,
    "lenType": 16,
    "lenVar": 40
   },
   "kernels_config": {
    "python": {
     "delete_cmd_postfix": "",
     "delete_cmd_prefix": "del ",
     "library": "var_list.py",
     "varRefreshCmd": "print(var_dic_list())"
    },
    "r": {
     "delete_cmd_postfix": ") ",
     "delete_cmd_prefix": "rm(",
     "library": "var_list.r",
     "varRefreshCmd": "cat(var_dic_list()) "
    }
   },
   "types_to_exclude": [
    "module",
    "function",
    "builtin_function_or_method",
    "instance",
    "_Feature"
   ],
   "window_display": false
  }
 },
 "nbformat": 4,
 "nbformat_minor": 4
}

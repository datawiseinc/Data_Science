{
 "cells": [
  {
   "cell_type": "markdown",
   "metadata": {},
   "source": [
    "### Consulting Project: Food Recommendation\n",
    "Have a new contract with a new online food delivery company. This company is trying to differentiate itself by recommending new meals to customers based off of other customers likings."
   ]
  },
  {
   "cell_type": "code",
   "execution_count": 1,
   "metadata": {},
   "outputs": [],
   "source": [
    "#import libraries\n",
    "import pandas as pd\n",
    "import numpy as np"
   ]
  },
  {
   "cell_type": "code",
   "execution_count": 2,
   "metadata": {},
   "outputs": [],
   "source": [
    "#starting a spark session\n",
    "from pyspark.sql import SparkSession\n",
    "spark = SparkSession.builder.getOrCreate()"
   ]
  },
  {
   "cell_type": "code",
   "execution_count": 3,
   "metadata": {},
   "outputs": [],
   "source": [
    "#loading the data\n",
    "data = spark.read.csv('16.meal_info.csv', inferSchema=True, header=True)"
   ]
  },
  {
   "cell_type": "code",
   "execution_count": 4,
   "metadata": {},
   "outputs": [
    {
     "data": {
      "text/html": [
       "<div>\n",
       "<style scoped>\n",
       "    .dataframe tbody tr th:only-of-type {\n",
       "        vertical-align: middle;\n",
       "    }\n",
       "\n",
       "    .dataframe tbody tr th {\n",
       "        vertical-align: top;\n",
       "    }\n",
       "\n",
       "    .dataframe thead th {\n",
       "        text-align: right;\n",
       "    }\n",
       "</style>\n",
       "<table border=\"1\" class=\"dataframe\">\n",
       "  <thead>\n",
       "    <tr style=\"text-align: right;\">\n",
       "      <th></th>\n",
       "      <th>userId</th>\n",
       "      <th>rating</th>\n",
       "      <th>mealskew</th>\n",
       "      <th>meal_name</th>\n",
       "    </tr>\n",
       "    <tr>\n",
       "      <th>summary</th>\n",
       "      <th></th>\n",
       "      <th></th>\n",
       "      <th></th>\n",
       "      <th></th>\n",
       "    </tr>\n",
       "  </thead>\n",
       "  <tbody>\n",
       "    <tr>\n",
       "      <td>count</td>\n",
       "      <td>486</td>\n",
       "      <td>486</td>\n",
       "      <td>486</td>\n",
       "      <td>486</td>\n",
       "    </tr>\n",
       "    <tr>\n",
       "      <td>mean</td>\n",
       "      <td>14.46707818930041</td>\n",
       "      <td>1.7366255144032923</td>\n",
       "      <td>15.502057613168724</td>\n",
       "      <td>None</td>\n",
       "    </tr>\n",
       "    <tr>\n",
       "      <td>stddev</td>\n",
       "      <td>8.56063554474528</td>\n",
       "      <td>1.1808507031723887</td>\n",
       "      <td>9.250633630277568</td>\n",
       "      <td>None</td>\n",
       "    </tr>\n",
       "    <tr>\n",
       "      <td>min</td>\n",
       "      <td>0</td>\n",
       "      <td>1.0</td>\n",
       "      <td>0.0</td>\n",
       "      <td>BBQ Ribs</td>\n",
       "    </tr>\n",
       "    <tr>\n",
       "      <td>max</td>\n",
       "      <td>29</td>\n",
       "      <td>5.0</td>\n",
       "      <td>31.0</td>\n",
       "      <td>Vietnamese Sandwich</td>\n",
       "    </tr>\n",
       "  </tbody>\n",
       "</table>\n",
       "</div>"
      ],
      "text/plain": [
       "                    userId              rating            mealskew  \\\n",
       "summary                                                              \n",
       "count                  486                 486                 486   \n",
       "mean     14.46707818930041  1.7366255144032923  15.502057613168724   \n",
       "stddev    8.56063554474528  1.1808507031723887   9.250633630277568   \n",
       "min                      0                 1.0                 0.0   \n",
       "max                     29                 5.0                31.0   \n",
       "\n",
       "                   meal_name  \n",
       "summary                       \n",
       "count                    486  \n",
       "mean                    None  \n",
       "stddev                  None  \n",
       "min                 BBQ Ribs  \n",
       "max      Vietnamese Sandwich  "
      ]
     },
     "execution_count": 4,
     "metadata": {},
     "output_type": "execute_result"
    }
   ],
   "source": [
    "#Exploring the data\n",
    "pd.DataFrame(data.describe().collect(), columns=data.describe().columns).set_index('summary')"
   ]
  },
  {
   "cell_type": "code",
   "execution_count": 5,
   "metadata": {},
   "outputs": [
    {
     "name": "stdout",
     "output_type": "stream",
     "text": [
      "root\n",
      " |-- userId: integer (nullable = true)\n",
      " |-- rating: double (nullable = true)\n",
      " |-- mealskew: double (nullable = true)\n",
      " |-- meal_name: string (nullable = true)\n",
      "\n"
     ]
    }
   ],
   "source": [
    "data.printSchema()"
   ]
  },
  {
   "cell_type": "code",
   "execution_count": 6,
   "metadata": {},
   "outputs": [
    {
     "name": "stdout",
     "output_type": "stream",
     "text": [
      "+------+------+--------+--------------------+\n",
      "|userId|rating|mealskew|           meal_name|\n",
      "+------+------+--------+--------------------+\n",
      "|     0|   3.0|     2.0|       Chicken Curry|\n",
      "|     0|   1.0|     3.0|Spicy Chicken Nug...|\n",
      "|     0|   2.0|     5.0|           Hamburger|\n",
      "|     0|   4.0|     9.0|       Taco Surprise|\n",
      "|     0|   1.0|    11.0|            Meatloaf|\n",
      "|     0|   2.0|    12.0|        Ceaser Salad|\n",
      "|     0|   1.0|    15.0|            BBQ Ribs|\n",
      "|     0|   1.0|    17.0|         Sushi Plate|\n",
      "|     0|   1.0|    19.0|Cheesesteak Sandw...|\n",
      "|     0|   1.0|    21.0|             Lasagna|\n",
      "|     0|   1.0|    23.0|      Orange Chicken|\n",
      "|     0|   3.0|    26.0|    Spicy Beef Plate|\n",
      "|     0|   1.0|    27.0|Salmon with Mashe...|\n",
      "|     0|   1.0|    28.0| Penne Tomatoe Pasta|\n",
      "|     0|   1.0|    29.0|        Pork Sliders|\n",
      "|     0|   1.0|    30.0| Vietnamese Sandwich|\n",
      "|     0|   1.0|    31.0|        Chicken Wrap|\n",
      "|     1|   2.0|     2.0|       Chicken Curry|\n",
      "|     1|   1.0|     3.0|Spicy Chicken Nug...|\n",
      "|     1|   2.0|     4.0|Pretzels and Chee...|\n",
      "+------+------+--------+--------------------+\n",
      "only showing top 20 rows\n",
      "\n"
     ]
    }
   ],
   "source": [
    "data.show()"
   ]
  },
  {
   "cell_type": "code",
   "execution_count": 7,
   "metadata": {},
   "outputs": [],
   "source": [
    "#split the data\n",
    "train_data, test_data = data.randomSplit([0.7, 0.3])"
   ]
  },
  {
   "cell_type": "markdown",
   "metadata": {},
   "source": [
    "### Build the Recommender Model"
   ]
  },
  {
   "cell_type": "code",
   "execution_count": 8,
   "metadata": {},
   "outputs": [],
   "source": [
    "#import the libraries\n",
    "from pyspark.ml.recommendation import ALS\n",
    "from pyspark.ml.evaluation import RegressionEvaluator"
   ]
  },
  {
   "cell_type": "code",
   "execution_count": 9,
   "metadata": {},
   "outputs": [],
   "source": [
    "#create a recommender instance\n",
    "recommender = ALS(rank=10, maxIter=5,regParam=0.1, userCol='userId', ratingCol='rating', itemCol='mealskew' )"
   ]
  },
  {
   "cell_type": "code",
   "execution_count": null,
   "metadata": {},
   "outputs": [],
   "source": [
    "#train the model\n",
    "model_recommender = recommender.fit(train_data)"
   ]
  },
  {
   "cell_type": "markdown",
   "metadata": {},
   "source": [
    "### Evaluate the model"
   ]
  },
  {
   "cell_type": "code",
   "execution_count": null,
   "metadata": {},
   "outputs": [],
   "source": [
    "# Evaluate the model by computing the RMSE on the test data\n",
    "predictions = model_recommender.transform(test)\n",
    "\n",
    "predictions.show()\n",
    "\n",
    "evaluator = RegressionEvaluator(metricName=\"rmse\", labelCol=\"rating\",predictionCol=\"prediction\")\n",
    "rmse = evaluator.evaluate(predictions)\n",
    "print(\"Root-mean-square error = \" + str(rmse))"
   ]
  },
  {
   "cell_type": "code",
   "execution_count": null,
   "metadata": {},
   "outputs": [],
   "source": []
  }
 ],
 "metadata": {
  "kernelspec": {
   "display_name": "Python 3",
   "language": "python",
   "name": "python3"
  },
  "language_info": {
   "codemirror_mode": {
    "name": "ipython",
    "version": 3
   },
   "file_extension": ".py",
   "mimetype": "text/x-python",
   "name": "python",
   "nbconvert_exporter": "python",
   "pygments_lexer": "ipython3",
   "version": "3.7.4"
  }
 },
 "nbformat": 4,
 "nbformat_minor": 2
}

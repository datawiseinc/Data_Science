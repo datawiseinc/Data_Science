{
 "cells": [
  {
   "cell_type": "markdown",
   "metadata": {},
   "source": [
    "### Predicting the amount customers spend each year"
   ]
  },
  {
   "cell_type": "code",
   "execution_count": 1,
   "metadata": {},
   "outputs": [],
   "source": [
    "#importing the necessary libraries\n",
    "from pyspark.sql import SparkSession\n",
    "\n",
    "#import the ml libraries\n",
    "from pyspark.ml.linalg import Vectors\n",
    "from pyspark.ml.feature import VectorAssembler\n",
    "\n",
    "#import the regression libraries\n",
    "from pyspark.ml.regression import LinearRegression"
   ]
  },
  {
   "cell_type": "code",
   "execution_count": 2,
   "metadata": {},
   "outputs": [],
   "source": [
    "#starting the spark session\n",
    "spark = SparkSession.builder.appName('lreg').getOrCreate()"
   ]
  },
  {
   "cell_type": "code",
   "execution_count": 3,
   "metadata": {},
   "outputs": [],
   "source": [
    "#loading the dataset\n",
    "all_data = spark.read.csv('09.Ecommerce_Customers.csv', inferSchema=True, header=True)"
   ]
  },
  {
   "cell_type": "code",
   "execution_count": 4,
   "metadata": {},
   "outputs": [
    {
     "name": "stdout",
     "output_type": "stream",
     "text": [
      "root\n",
      " |-- Email: string (nullable = true)\n",
      " |-- Address: string (nullable = true)\n",
      " |-- Avatar: string (nullable = true)\n",
      " |-- Avg Session Length: double (nullable = true)\n",
      " |-- Time on App: double (nullable = true)\n",
      " |-- Time on Website: double (nullable = true)\n",
      " |-- Length of Membership: double (nullable = true)\n",
      " |-- Yearly Amount Spent: double (nullable = true)\n",
      "\n"
     ]
    }
   ],
   "source": [
    "#printing the schema to explore the data\n",
    "all_data.printSchema()"
   ]
  },
  {
   "cell_type": "code",
   "execution_count": 5,
   "metadata": {},
   "outputs": [
    {
     "name": "stdout",
     "output_type": "stream",
     "text": [
      "Email  :  mstephenson@fernandez.com\n",
      "Address  :  835 Frank TunnelWrightmouth, MI 82180-9605\n",
      "Avatar  :  Violet\n",
      "Avg Session Length  :  34.49726772511229\n",
      "Time on App  :  12.65565114916675\n",
      "Time on Website  :  39.57766801952616\n",
      "Length of Membership  :  4.0826206329529615\n",
      "Yearly Amount Spent  :  587.9510539684005\n"
     ]
    }
   ],
   "source": [
    "#explore a row object and print each column and its content\n",
    "x = 0\n",
    "for i in all_data.head(1)[0]:\n",
    "    print (all_data.columns[x],' : ',i)\n",
    "    x+=1  "
   ]
  },
  {
   "cell_type": "code",
   "execution_count": 6,
   "metadata": {},
   "outputs": [],
   "source": [
    "#create an vector assemble object\n",
    "assembler = VectorAssembler(inputCols=['Avg Session Length', 'Time on App', 'Time on Website', 'Length of Membership'], outputCol='features')"
   ]
  },
  {
   "cell_type": "code",
   "execution_count": 7,
   "metadata": {},
   "outputs": [],
   "source": [
    "#transform the data\n",
    "output = assembler.transform(all_data)"
   ]
  },
  {
   "cell_type": "code",
   "execution_count": 8,
   "metadata": {},
   "outputs": [
    {
     "name": "stdout",
     "output_type": "stream",
     "text": [
      "+--------------------+\n",
      "|            features|\n",
      "+--------------------+\n",
      "|[34.4972677251122...|\n",
      "|[31.9262720263601...|\n",
      "|[33.0009147556426...|\n",
      "|[34.3055566297555...|\n",
      "|[33.3306725236463...|\n",
      "|[33.8710378793419...|\n",
      "|[32.0215955013870...|\n",
      "|[32.7391429383803...|\n",
      "|[33.9877728956856...|\n",
      "|[31.9365486184489...|\n",
      "|[33.9925727749537...|\n",
      "|[33.8793608248049...|\n",
      "|[29.5324289670579...|\n",
      "|[33.1903340437226...|\n",
      "|[32.3879758531538...|\n",
      "|[30.7377203726281...|\n",
      "|[32.1253868972878...|\n",
      "|[32.3388993230671...|\n",
      "|[32.1878120459321...|\n",
      "|[32.6178560628234...|\n",
      "+--------------------+\n",
      "only showing top 20 rows\n",
      "\n"
     ]
    }
   ],
   "source": [
    "#explore the features column in the  transformed data\n",
    "output.select('features').show()"
   ]
  },
  {
   "cell_type": "code",
   "execution_count": 9,
   "metadata": {},
   "outputs": [
    {
     "data": {
      "text/plain": [
       "[Row(Email='mstephenson@fernandez.com', Address='835 Frank TunnelWrightmouth, MI 82180-9605', Avatar='Violet', Avg Session Length=34.49726772511229, Time on App=12.65565114916675, Time on Website=39.57766801952616, Length of Membership=4.0826206329529615, Yearly Amount Spent=587.9510539684005, features=DenseVector([34.4973, 12.6557, 39.5777, 4.0826]))]"
      ]
     },
     "execution_count": 9,
     "metadata": {},
     "output_type": "execute_result"
    }
   ],
   "source": [
    "#explore the transformed data row objects\n",
    "output.head(1)"
   ]
  },
  {
   "cell_type": "code",
   "execution_count": 10,
   "metadata": {},
   "outputs": [
    {
     "data": {
      "text/plain": [
       "DenseVector([34.4973, 12.6557, 39.5777, 4.0826])"
      ]
     },
     "execution_count": 10,
     "metadata": {},
     "output_type": "execute_result"
    }
   ],
   "source": [
    "#notice that features column has the data from the selected columns in the assembler\n",
    "output.head(1)[0][8]"
   ]
  },
  {
   "cell_type": "code",
   "execution_count": 11,
   "metadata": {},
   "outputs": [],
   "source": [
    "#save the selected features into a new data \n",
    "processed_data = output.select('features', 'Yearly Amount Spent')"
   ]
  },
  {
   "cell_type": "code",
   "execution_count": 12,
   "metadata": {},
   "outputs": [
    {
     "name": "stdout",
     "output_type": "stream",
     "text": [
      "+--------------------+-------------------+\n",
      "|            features|Yearly Amount Spent|\n",
      "+--------------------+-------------------+\n",
      "|[34.4972677251122...|  587.9510539684005|\n",
      "|[31.9262720263601...|  392.2049334443264|\n",
      "|[33.0009147556426...| 487.54750486747207|\n",
      "|[34.3055566297555...|  581.8523440352177|\n",
      "|[33.3306725236463...|  599.4060920457634|\n",
      "|[33.8710378793419...|   637.102447915074|\n",
      "|[32.0215955013870...|  521.5721747578274|\n",
      "|[32.7391429383803...|  549.9041461052942|\n",
      "|[33.9877728956856...|  570.2004089636196|\n",
      "|[31.9365486184489...|  427.1993848953282|\n",
      "|[33.9925727749537...|  492.6060127179966|\n",
      "|[33.8793608248049...|  522.3374046069357|\n",
      "|[29.5324289670579...|  408.6403510726275|\n",
      "|[33.1903340437226...|  573.4158673313865|\n",
      "|[32.3879758531538...|  470.4527333009554|\n",
      "|[30.7377203726281...|  461.7807421962299|\n",
      "|[32.1253868972878...| 457.84769594494855|\n",
      "|[32.3388993230671...| 407.70454754954415|\n",
      "|[32.1878120459321...|  452.3156754800354|\n",
      "|[32.6178560628234...|   605.061038804892|\n",
      "+--------------------+-------------------+\n",
      "only showing top 20 rows\n",
      "\n"
     ]
    }
   ],
   "source": [
    "#explore the new dataframe\n",
    "processed_data.show()"
   ]
  },
  {
   "cell_type": "code",
   "execution_count": 13,
   "metadata": {},
   "outputs": [],
   "source": [
    "#split the data into train and test sets\n",
    "train_data, test_data = processed_data.randomSplit([0.7,0.3])"
   ]
  },
  {
   "cell_type": "code",
   "execution_count": 14,
   "metadata": {},
   "outputs": [],
   "source": [
    "#create a linear regression session\n",
    "lin_reg = LinearRegression(featuresCol='features', labelCol='Yearly Amount Spent', predictionCol='Yearly_Amount_Spent_Prediction')"
   ]
  },
  {
   "cell_type": "code",
   "execution_count": 15,
   "metadata": {},
   "outputs": [],
   "source": [
    "#training the model\n",
    "lin_reg_model = lin_reg.fit(train_data)"
   ]
  },
  {
   "cell_type": "code",
   "execution_count": 16,
   "metadata": {},
   "outputs": [],
   "source": [
    "#explore the model\n",
    "result_train = lin_reg_model.summary"
   ]
  },
  {
   "cell_type": "code",
   "execution_count": 17,
   "metadata": {},
   "outputs": [
    {
     "name": "stdout",
     "output_type": "stream",
     "text": [
      "+--------------------+-------------------+------------------------------+\n",
      "|            features|Yearly Amount Spent|Yearly_Amount_Spent_Prediction|\n",
      "+--------------------+-------------------+------------------------------+\n",
      "|[29.5324289670579...|  408.6403510726275|             397.9401436736673|\n",
      "|[30.4925366965402...|  282.4712457199145|              287.741975054415|\n",
      "|[30.5743636841713...| 442.06441375806565|            441.63500909287336|\n",
      "|[30.7377203726281...|  461.7807421962299|            451.00855057437593|\n",
      "|[30.8162006488763...|   266.086340948469|            283.22426892120984|\n",
      "|[30.8364326747734...|  467.5019004269896|             471.6066137085063|\n",
      "|[30.9716756438877...|  494.6386097568927|            487.54894188863886|\n",
      "|[31.0472221394875...|  392.4973991890214|            387.77227348511724|\n",
      "|[31.0662181616375...| 448.93329320767435|             461.6138636379503|\n",
      "|[31.1695067987115...|  427.3565308022928|             417.3212080670396|\n",
      "|[31.2606468698795...|  421.3266312569514|             422.1553830582568|\n",
      "|[31.2681042107507...|  423.4705331738239|            427.24347258882585|\n",
      "|[31.3091926408918...|  432.7207178399336|             429.6182593537428|\n",
      "|[31.3123495994443...|  463.5914180279406|            444.45403493983895|\n",
      "|[31.3584771924370...|  495.1759504494754|             491.0028020549364|\n",
      "|[31.4252268808548...|  530.7667186547619|              534.497795439866|\n",
      "|[31.4459724827577...| 484.87696493512857|             481.8394176920756|\n",
      "|[31.5147378578019...|  489.8124879964614|            494.96757266584837|\n",
      "|[31.5171218025062...|  275.9184206503857|             280.2933305056904|\n",
      "|[31.5257524169682...|  443.9656268098819|             449.2258819036606|\n",
      "+--------------------+-------------------+------------------------------+\n",
      "only showing top 20 rows\n",
      "\n"
     ]
    }
   ],
   "source": [
    "#explore the predictions with the train data\n",
    "result_train.predictions.show()"
   ]
  },
  {
   "cell_type": "markdown",
   "metadata": {},
   "source": [
    "## Evaluate the model with the test data"
   ]
  },
  {
   "cell_type": "code",
   "execution_count": 18,
   "metadata": {},
   "outputs": [],
   "source": [
    "#introduce the the test data\n",
    "result_test = lin_reg_model.evaluate(test_data)"
   ]
  },
  {
   "cell_type": "code",
   "execution_count": 19,
   "metadata": {},
   "outputs": [
    {
     "name": "stdout",
     "output_type": "stream",
     "text": [
      "+--------------------+-------------------+------------------------------+\n",
      "|            features|Yearly Amount Spent|Yearly_Amount_Spent_Prediction|\n",
      "+--------------------+-------------------+------------------------------+\n",
      "|[30.3931845423455...|  319.9288698031936|            331.62608209151176|\n",
      "|[30.8794843441274...|  490.2065999848547|            493.85159988363284|\n",
      "|[31.0613251567161...|  487.5554580579016|            493.44170600242273|\n",
      "|[31.1239743499119...|  486.9470538397658|             508.1894655725175|\n",
      "|[31.1280900496166...|  557.2526867470547|             564.3217595060078|\n",
      "|[31.2834474760581...|  591.7810894256675|             569.2926807770557|\n",
      "|[31.3662121671876...|  430.5888825564849|             426.5657648763731|\n",
      "|[31.3895854806643...|  410.0696110599829|             409.2576675553214|\n",
      "|[31.4474464941278...|   418.602742095224|             425.8888646770447|\n",
      "|[31.5316044825729...| 436.51560572936256|             432.8076991154285|\n",
      "|[31.5741380228732...|  544.4092721605869|             558.4084881993199|\n",
      "|[31.6005122003032...| 479.17285149109694|             460.8841700102596|\n",
      "|[31.6098395733896...| 444.54554965110816|            427.42082847421807|\n",
      "|[31.6253601348306...|  376.3369007569242|            381.02046440739014|\n",
      "|[31.7366356860502...|  496.9334462555319|            494.13619194425723|\n",
      "|[31.8124825597242...|  392.8103449837972|             396.2290544960747|\n",
      "|[31.8209982016720...| 424.67528101321335|            416.91542465749717|\n",
      "|[31.8279790554652...|  440.0027475469415|             449.1817139043078|\n",
      "|[31.8293464559211...|   385.152337987975|             384.0259267802371|\n",
      "|[31.8530748017465...|   459.285123462352|            461.49010301119097|\n",
      "+--------------------+-------------------+------------------------------+\n",
      "only showing top 20 rows\n",
      "\n"
     ]
    }
   ],
   "source": [
    "#Explore the predictions with the test _data\n",
    "result_test.predictions.show()"
   ]
  },
  {
   "cell_type": "markdown",
   "metadata": {},
   "source": [
    "## Explore the evaluation metrics "
   ]
  },
  {
   "cell_type": "code",
   "execution_count": 20,
   "metadata": {},
   "outputs": [
    {
     "name": "stdout",
     "output_type": "stream",
     "text": [
      "7.739817014633166\n"
     ]
    }
   ],
   "source": [
    "#MAE: mean absolute error \n",
    "print(result_test.meanAbsoluteError)"
   ]
  },
  {
   "cell_type": "code",
   "execution_count": 21,
   "metadata": {},
   "outputs": [
    {
     "name": "stdout",
     "output_type": "stream",
     "text": [
      "100.53637605723358\n"
     ]
    }
   ],
   "source": [
    "#MSE: mean squared error\n",
    "print(result_test.meanSquaredError)"
   ]
  },
  {
   "cell_type": "code",
   "execution_count": 22,
   "metadata": {},
   "outputs": [
    {
     "name": "stdout",
     "output_type": "stream",
     "text": [
      "10.026782936577094\n"
     ]
    }
   ],
   "source": [
    "#RMSE: root mean squared error\n",
    "print(result_test.rootMeanSquaredError)"
   ]
  },
  {
   "cell_type": "code",
   "execution_count": 23,
   "metadata": {},
   "outputs": [
    {
     "name": "stdout",
     "output_type": "stream",
     "text": [
      "0.9861756166731432\n"
     ]
    }
   ],
   "source": [
    "#R squared\n",
    "print(result_test.r2)"
   ]
  },
  {
   "cell_type": "code",
   "execution_count": 24,
   "metadata": {},
   "outputs": [
    {
     "name": "stdout",
     "output_type": "stream",
     "text": [
      "+-------+-------------------+\n",
      "|summary|Yearly Amount Spent|\n",
      "+-------+-------------------+\n",
      "|  count|                500|\n",
      "|   mean|  499.3140382585909|\n",
      "| stddev|   79.3147815497068|\n",
      "|    min| 256.67058229005585|\n",
      "|    max|  765.5184619388373|\n",
      "+-------+-------------------+\n",
      "\n"
     ]
    }
   ],
   "source": [
    "#explore the basis stats of the processed data\n",
    "processed_data.describe().show()"
   ]
  },
  {
   "cell_type": "markdown",
   "metadata": {},
   "source": [
    "## Deploying the model"
   ]
  },
  {
   "cell_type": "code",
   "execution_count": 25,
   "metadata": {},
   "outputs": [
    {
     "name": "stdout",
     "output_type": "stream",
     "text": [
      "+--------------------+\n",
      "|            features|\n",
      "+--------------------+\n",
      "|[30.3931845423455...|\n",
      "|[30.8794843441274...|\n",
      "|[31.0613251567161...|\n",
      "|[31.1239743499119...|\n",
      "|[31.1280900496166...|\n",
      "|[31.2834474760581...|\n",
      "|[31.3662121671876...|\n",
      "|[31.3895854806643...|\n",
      "|[31.4474464941278...|\n",
      "|[31.5316044825729...|\n",
      "|[31.5741380228732...|\n",
      "|[31.6005122003032...|\n",
      "|[31.6098395733896...|\n",
      "|[31.6253601348306...|\n",
      "|[31.7366356860502...|\n",
      "|[31.8124825597242...|\n",
      "|[31.8209982016720...|\n",
      "|[31.8279790554652...|\n",
      "|[31.8293464559211...|\n",
      "|[31.8530748017465...|\n",
      "+--------------------+\n",
      "only showing top 20 rows\n",
      "\n"
     ]
    }
   ],
   "source": [
    "#create an unlabeled data set using the test data\n",
    "unlabeled_data = test_data.select('features')\n",
    "unlabeled_data.show()"
   ]
  },
  {
   "cell_type": "code",
   "execution_count": 26,
   "metadata": {},
   "outputs": [],
   "source": [
    "#deploy the model\n",
    "result_unlabeled = lin_reg_model.transform(unlabeled_data)"
   ]
  },
  {
   "cell_type": "code",
   "execution_count": 27,
   "metadata": {},
   "outputs": [
    {
     "name": "stdout",
     "output_type": "stream",
     "text": [
      "+--------------------+------------------------------+\n",
      "|            features|Yearly_Amount_Spent_Prediction|\n",
      "+--------------------+------------------------------+\n",
      "|[30.3931845423455...|            331.62608209151176|\n",
      "|[30.8794843441274...|            493.85159988363284|\n",
      "|[31.0613251567161...|            493.44170600242273|\n",
      "|[31.1239743499119...|             508.1894655725175|\n",
      "|[31.1280900496166...|             564.3217595060078|\n",
      "|[31.2834474760581...|             569.2926807770557|\n",
      "|[31.3662121671876...|             426.5657648763731|\n",
      "|[31.3895854806643...|             409.2576675553214|\n",
      "|[31.4474464941278...|             425.8888646770447|\n",
      "|[31.5316044825729...|             432.8076991154285|\n",
      "|[31.5741380228732...|             558.4084881993199|\n",
      "|[31.6005122003032...|             460.8841700102596|\n",
      "|[31.6098395733896...|            427.42082847421807|\n",
      "|[31.6253601348306...|            381.02046440739014|\n",
      "|[31.7366356860502...|            494.13619194425723|\n",
      "|[31.8124825597242...|             396.2290544960747|\n",
      "|[31.8209982016720...|            416.91542465749717|\n",
      "|[31.8279790554652...|             449.1817139043078|\n",
      "|[31.8293464559211...|             384.0259267802371|\n",
      "|[31.8530748017465...|            461.49010301119097|\n",
      "+--------------------+------------------------------+\n",
      "only showing top 20 rows\n",
      "\n"
     ]
    }
   ],
   "source": [
    "#explore the predictions\n",
    "result_unlabeled.show()"
   ]
  },
  {
   "cell_type": "code",
   "execution_count": 28,
   "metadata": {},
   "outputs": [
    {
     "data": {
      "text/plain": [
       "DataFrame[features: vector, Yearly_Amount_Spent_Prediction: double]"
      ]
     },
     "execution_count": 28,
     "metadata": {},
     "output_type": "execute_result"
    }
   ],
   "source": [
    "#individual inquiry\n",
    "lin_reg_model.transform(unlabeled_data)"
   ]
  },
  {
   "cell_type": "code",
   "execution_count": null,
   "metadata": {},
   "outputs": [],
   "source": []
  }
 ],
 "metadata": {
  "kernelspec": {
   "display_name": "Python 3",
   "language": "python",
   "name": "python3"
  },
  "language_info": {
   "codemirror_mode": {
    "name": "ipython",
    "version": 3
   },
   "file_extension": ".py",
   "mimetype": "text/x-python",
   "name": "python",
   "nbconvert_exporter": "python",
   "pygments_lexer": "ipython3",
   "version": "3.7.4"
  }
 },
 "nbformat": 4,
 "nbformat_minor": 2
}

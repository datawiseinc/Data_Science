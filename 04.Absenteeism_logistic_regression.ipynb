{
 "cells": [
  {
   "cell_type": "code",
   "execution_count": 1,
   "metadata": {},
   "outputs": [],
   "source": [
    "#import the necessary variables\n",
    "import numpy as np\n",
    "import pandas as pd\n",
    "from sklearn.preprocessing import StandardScaler\n",
    "from sklearn.linear_model import LogisticRegression\n",
    "from sklearn.model_selection import train_test_split\n",
    " "
   ]
  },
  {
   "cell_type": "code",
   "execution_count": 2,
   "metadata": {},
   "outputs": [],
   "source": [
    "#set display options\n",
    "pd.options.display.max_rows=15"
   ]
  },
  {
   "cell_type": "code",
   "execution_count": 3,
   "metadata": {},
   "outputs": [],
   "source": [
    "#load the preprocessed data\n",
    "data_preprocessed = pd.read_csv('04.Absenteeism_preprocessed.csv')"
   ]
  },
  {
   "cell_type": "code",
   "execution_count": 4,
   "metadata": {},
   "outputs": [
    {
     "data": {
      "text/html": [
       "<div>\n",
       "<style scoped>\n",
       "    .dataframe tbody tr th:only-of-type {\n",
       "        vertical-align: middle;\n",
       "    }\n",
       "\n",
       "    .dataframe tbody tr th {\n",
       "        vertical-align: top;\n",
       "    }\n",
       "\n",
       "    .dataframe thead th {\n",
       "        text-align: right;\n",
       "    }\n",
       "</style>\n",
       "<table border=\"1\" class=\"dataframe\">\n",
       "  <thead>\n",
       "    <tr style=\"text-align: right;\">\n",
       "      <th></th>\n",
       "      <th>Unnamed: 0</th>\n",
       "      <th>reason_1</th>\n",
       "      <th>reason_2</th>\n",
       "      <th>reason_3</th>\n",
       "      <th>reason_4</th>\n",
       "      <th>months</th>\n",
       "      <th>Days</th>\n",
       "      <th>Transportation Expense</th>\n",
       "      <th>Distance to Work</th>\n",
       "      <th>Age</th>\n",
       "      <th>Daily Work Load Average</th>\n",
       "      <th>Body Mass Index</th>\n",
       "      <th>Education</th>\n",
       "      <th>Children</th>\n",
       "      <th>Pets</th>\n",
       "      <th>Absenteeism Time in Hours</th>\n",
       "    </tr>\n",
       "  </thead>\n",
       "  <tbody>\n",
       "    <tr>\n",
       "      <th>0</th>\n",
       "      <td>0</td>\n",
       "      <td>0</td>\n",
       "      <td>1</td>\n",
       "      <td>0</td>\n",
       "      <td>0</td>\n",
       "      <td>5</td>\n",
       "      <td>3</td>\n",
       "      <td>225</td>\n",
       "      <td>15</td>\n",
       "      <td>41</td>\n",
       "      <td>237.656</td>\n",
       "      <td>28</td>\n",
       "      <td>1</td>\n",
       "      <td>2</td>\n",
       "      <td>2</td>\n",
       "      <td>8</td>\n",
       "    </tr>\n",
       "    <tr>\n",
       "      <th>1</th>\n",
       "      <td>1</td>\n",
       "      <td>0</td>\n",
       "      <td>0</td>\n",
       "      <td>0</td>\n",
       "      <td>1</td>\n",
       "      <td>3</td>\n",
       "      <td>3</td>\n",
       "      <td>225</td>\n",
       "      <td>26</td>\n",
       "      <td>28</td>\n",
       "      <td>222.196</td>\n",
       "      <td>24</td>\n",
       "      <td>0</td>\n",
       "      <td>1</td>\n",
       "      <td>2</td>\n",
       "      <td>2</td>\n",
       "    </tr>\n",
       "    <tr>\n",
       "      <th>2</th>\n",
       "      <td>2</td>\n",
       "      <td>0</td>\n",
       "      <td>0</td>\n",
       "      <td>0</td>\n",
       "      <td>1</td>\n",
       "      <td>11</td>\n",
       "      <td>3</td>\n",
       "      <td>179</td>\n",
       "      <td>51</td>\n",
       "      <td>38</td>\n",
       "      <td>284.031</td>\n",
       "      <td>31</td>\n",
       "      <td>0</td>\n",
       "      <td>0</td>\n",
       "      <td>0</td>\n",
       "      <td>3</td>\n",
       "    </tr>\n",
       "    <tr>\n",
       "      <th>3</th>\n",
       "      <td>3</td>\n",
       "      <td>0</td>\n",
       "      <td>0</td>\n",
       "      <td>0</td>\n",
       "      <td>1</td>\n",
       "      <td>3</td>\n",
       "      <td>1</td>\n",
       "      <td>228</td>\n",
       "      <td>14</td>\n",
       "      <td>58</td>\n",
       "      <td>222.196</td>\n",
       "      <td>22</td>\n",
       "      <td>0</td>\n",
       "      <td>2</td>\n",
       "      <td>1</td>\n",
       "      <td>3</td>\n",
       "    </tr>\n",
       "    <tr>\n",
       "      <th>4</th>\n",
       "      <td>4</td>\n",
       "      <td>0</td>\n",
       "      <td>0</td>\n",
       "      <td>0</td>\n",
       "      <td>1</td>\n",
       "      <td>3</td>\n",
       "      <td>2</td>\n",
       "      <td>361</td>\n",
       "      <td>52</td>\n",
       "      <td>28</td>\n",
       "      <td>244.387</td>\n",
       "      <td>27</td>\n",
       "      <td>0</td>\n",
       "      <td>1</td>\n",
       "      <td>4</td>\n",
       "      <td>8</td>\n",
       "    </tr>\n",
       "    <tr>\n",
       "      <th>...</th>\n",
       "      <td>...</td>\n",
       "      <td>...</td>\n",
       "      <td>...</td>\n",
       "      <td>...</td>\n",
       "      <td>...</td>\n",
       "      <td>...</td>\n",
       "      <td>...</td>\n",
       "      <td>...</td>\n",
       "      <td>...</td>\n",
       "      <td>...</td>\n",
       "      <td>...</td>\n",
       "      <td>...</td>\n",
       "      <td>...</td>\n",
       "      <td>...</td>\n",
       "      <td>...</td>\n",
       "      <td>...</td>\n",
       "    </tr>\n",
       "    <tr>\n",
       "      <th>695</th>\n",
       "      <td>695</td>\n",
       "      <td>1</td>\n",
       "      <td>0</td>\n",
       "      <td>0</td>\n",
       "      <td>0</td>\n",
       "      <td>2</td>\n",
       "      <td>0</td>\n",
       "      <td>388</td>\n",
       "      <td>15</td>\n",
       "      <td>50</td>\n",
       "      <td>302.585</td>\n",
       "      <td>24</td>\n",
       "      <td>0</td>\n",
       "      <td>0</td>\n",
       "      <td>0</td>\n",
       "      <td>8</td>\n",
       "    </tr>\n",
       "    <tr>\n",
       "      <th>696</th>\n",
       "      <td>696</td>\n",
       "      <td>0</td>\n",
       "      <td>0</td>\n",
       "      <td>0</td>\n",
       "      <td>1</td>\n",
       "      <td>3</td>\n",
       "      <td>4</td>\n",
       "      <td>179</td>\n",
       "      <td>51</td>\n",
       "      <td>38</td>\n",
       "      <td>222.196</td>\n",
       "      <td>31</td>\n",
       "      <td>0</td>\n",
       "      <td>0</td>\n",
       "      <td>0</td>\n",
       "      <td>3</td>\n",
       "    </tr>\n",
       "    <tr>\n",
       "      <th>697</th>\n",
       "      <td>697</td>\n",
       "      <td>0</td>\n",
       "      <td>0</td>\n",
       "      <td>0</td>\n",
       "      <td>1</td>\n",
       "      <td>10</td>\n",
       "      <td>2</td>\n",
       "      <td>179</td>\n",
       "      <td>51</td>\n",
       "      <td>38</td>\n",
       "      <td>253.465</td>\n",
       "      <td>31</td>\n",
       "      <td>0</td>\n",
       "      <td>0</td>\n",
       "      <td>0</td>\n",
       "      <td>8</td>\n",
       "    </tr>\n",
       "    <tr>\n",
       "      <th>698</th>\n",
       "      <td>698</td>\n",
       "      <td>0</td>\n",
       "      <td>0</td>\n",
       "      <td>0</td>\n",
       "      <td>1</td>\n",
       "      <td>6</td>\n",
       "      <td>3</td>\n",
       "      <td>225</td>\n",
       "      <td>26</td>\n",
       "      <td>28</td>\n",
       "      <td>377.550</td>\n",
       "      <td>24</td>\n",
       "      <td>0</td>\n",
       "      <td>1</td>\n",
       "      <td>2</td>\n",
       "      <td>2</td>\n",
       "    </tr>\n",
       "    <tr>\n",
       "      <th>699</th>\n",
       "      <td>699</td>\n",
       "      <td>1</td>\n",
       "      <td>0</td>\n",
       "      <td>0</td>\n",
       "      <td>0</td>\n",
       "      <td>8</td>\n",
       "      <td>3</td>\n",
       "      <td>291</td>\n",
       "      <td>50</td>\n",
       "      <td>32</td>\n",
       "      <td>205.917</td>\n",
       "      <td>23</td>\n",
       "      <td>0</td>\n",
       "      <td>0</td>\n",
       "      <td>0</td>\n",
       "      <td>4</td>\n",
       "    </tr>\n",
       "  </tbody>\n",
       "</table>\n",
       "<p>700 rows × 16 columns</p>\n",
       "</div>"
      ],
      "text/plain": [
       "     Unnamed: 0  reason_1  reason_2  reason_3  reason_4  months  Days  \\\n",
       "0             0         0         1         0         0       5     3   \n",
       "1             1         0         0         0         1       3     3   \n",
       "2             2         0         0         0         1      11     3   \n",
       "3             3         0         0         0         1       3     1   \n",
       "4             4         0         0         0         1       3     2   \n",
       "..          ...       ...       ...       ...       ...     ...   ...   \n",
       "695         695         1         0         0         0       2     0   \n",
       "696         696         0         0         0         1       3     4   \n",
       "697         697         0         0         0         1      10     2   \n",
       "698         698         0         0         0         1       6     3   \n",
       "699         699         1         0         0         0       8     3   \n",
       "\n",
       "     Transportation Expense  Distance to Work  Age  Daily Work Load Average  \\\n",
       "0                       225                15   41                  237.656   \n",
       "1                       225                26   28                  222.196   \n",
       "2                       179                51   38                  284.031   \n",
       "3                       228                14   58                  222.196   \n",
       "4                       361                52   28                  244.387   \n",
       "..                      ...               ...  ...                      ...   \n",
       "695                     388                15   50                  302.585   \n",
       "696                     179                51   38                  222.196   \n",
       "697                     179                51   38                  253.465   \n",
       "698                     225                26   28                  377.550   \n",
       "699                     291                50   32                  205.917   \n",
       "\n",
       "     Body Mass Index  Education  Children  Pets  Absenteeism Time in Hours  \n",
       "0                 28          1         2     2                          8  \n",
       "1                 24          0         1     2                          2  \n",
       "2                 31          0         0     0                          3  \n",
       "3                 22          0         2     1                          3  \n",
       "4                 27          0         1     4                          8  \n",
       "..               ...        ...       ...   ...                        ...  \n",
       "695               24          0         0     0                          8  \n",
       "696               31          0         0     0                          3  \n",
       "697               31          0         0     0                          8  \n",
       "698               24          0         1     2                          2  \n",
       "699               23          0         0     0                          4  \n",
       "\n",
       "[700 rows x 16 columns]"
      ]
     },
     "execution_count": 4,
     "metadata": {},
     "output_type": "execute_result"
    }
   ],
   "source": [
    "data_preprocessed"
   ]
  },
  {
   "cell_type": "code",
   "execution_count": 5,
   "metadata": {},
   "outputs": [
    {
     "data": {
      "text/plain": [
       "count    700.000000\n",
       "mean       6.761429\n",
       "std       12.670082\n",
       "min        0.000000\n",
       "25%        2.000000\n",
       "50%        3.000000\n",
       "75%        8.000000\n",
       "max      120.000000\n",
       "Name: Absenteeism Time in Hours, dtype: float64"
      ]
     },
     "execution_count": 5,
     "metadata": {},
     "output_type": "execute_result"
    }
   ],
   "source": [
    "data_preprocessed['Absenteeism Time in Hours'].describe()"
   ]
  },
  {
   "cell_type": "code",
   "execution_count": 6,
   "metadata": {},
   "outputs": [],
   "source": [
    "#Create checkpoint\n",
    "data_output_categorized = data_preprocessed.copy()"
   ]
  },
  {
   "cell_type": "code",
   "execution_count": 7,
   "metadata": {},
   "outputs": [],
   "source": [
    "#categorize the outputs\n",
    "data_output_categorized['targets']= data_output_categorized['Absenteeism Time in Hours'].map(lambda x: 0 if x<=np.median(data_output_categorized['Absenteeism Time in Hours']) else 1)"
   ]
  },
  {
   "cell_type": "code",
   "execution_count": 8,
   "metadata": {},
   "outputs": [],
   "source": [
    "#drop the absenteesim column\n",
    "data = data_output_categorized.drop(['Unnamed: 0', 'Absenteeism Time in Hours'], axis=1)"
   ]
  },
  {
   "cell_type": "code",
   "execution_count": 9,
   "metadata": {},
   "outputs": [
    {
     "data": {
      "text/html": [
       "<div>\n",
       "<style scoped>\n",
       "    .dataframe tbody tr th:only-of-type {\n",
       "        vertical-align: middle;\n",
       "    }\n",
       "\n",
       "    .dataframe tbody tr th {\n",
       "        vertical-align: top;\n",
       "    }\n",
       "\n",
       "    .dataframe thead th {\n",
       "        text-align: right;\n",
       "    }\n",
       "</style>\n",
       "<table border=\"1\" class=\"dataframe\">\n",
       "  <thead>\n",
       "    <tr style=\"text-align: right;\">\n",
       "      <th></th>\n",
       "      <th>reason_1</th>\n",
       "      <th>reason_2</th>\n",
       "      <th>reason_3</th>\n",
       "      <th>reason_4</th>\n",
       "      <th>months</th>\n",
       "      <th>Days</th>\n",
       "      <th>Transportation Expense</th>\n",
       "      <th>Distance to Work</th>\n",
       "      <th>Age</th>\n",
       "      <th>Daily Work Load Average</th>\n",
       "      <th>Body Mass Index</th>\n",
       "      <th>Education</th>\n",
       "      <th>Children</th>\n",
       "      <th>Pets</th>\n",
       "      <th>targets</th>\n",
       "    </tr>\n",
       "  </thead>\n",
       "  <tbody>\n",
       "    <tr>\n",
       "      <th>0</th>\n",
       "      <td>0</td>\n",
       "      <td>1</td>\n",
       "      <td>0</td>\n",
       "      <td>0</td>\n",
       "      <td>5</td>\n",
       "      <td>3</td>\n",
       "      <td>225</td>\n",
       "      <td>15</td>\n",
       "      <td>41</td>\n",
       "      <td>237.656</td>\n",
       "      <td>28</td>\n",
       "      <td>1</td>\n",
       "      <td>2</td>\n",
       "      <td>2</td>\n",
       "      <td>1</td>\n",
       "    </tr>\n",
       "    <tr>\n",
       "      <th>1</th>\n",
       "      <td>0</td>\n",
       "      <td>0</td>\n",
       "      <td>0</td>\n",
       "      <td>1</td>\n",
       "      <td>3</td>\n",
       "      <td>3</td>\n",
       "      <td>225</td>\n",
       "      <td>26</td>\n",
       "      <td>28</td>\n",
       "      <td>222.196</td>\n",
       "      <td>24</td>\n",
       "      <td>0</td>\n",
       "      <td>1</td>\n",
       "      <td>2</td>\n",
       "      <td>0</td>\n",
       "    </tr>\n",
       "    <tr>\n",
       "      <th>2</th>\n",
       "      <td>0</td>\n",
       "      <td>0</td>\n",
       "      <td>0</td>\n",
       "      <td>1</td>\n",
       "      <td>11</td>\n",
       "      <td>3</td>\n",
       "      <td>179</td>\n",
       "      <td>51</td>\n",
       "      <td>38</td>\n",
       "      <td>284.031</td>\n",
       "      <td>31</td>\n",
       "      <td>0</td>\n",
       "      <td>0</td>\n",
       "      <td>0</td>\n",
       "      <td>0</td>\n",
       "    </tr>\n",
       "    <tr>\n",
       "      <th>3</th>\n",
       "      <td>0</td>\n",
       "      <td>0</td>\n",
       "      <td>0</td>\n",
       "      <td>1</td>\n",
       "      <td>3</td>\n",
       "      <td>1</td>\n",
       "      <td>228</td>\n",
       "      <td>14</td>\n",
       "      <td>58</td>\n",
       "      <td>222.196</td>\n",
       "      <td>22</td>\n",
       "      <td>0</td>\n",
       "      <td>2</td>\n",
       "      <td>1</td>\n",
       "      <td>0</td>\n",
       "    </tr>\n",
       "    <tr>\n",
       "      <th>4</th>\n",
       "      <td>0</td>\n",
       "      <td>0</td>\n",
       "      <td>0</td>\n",
       "      <td>1</td>\n",
       "      <td>3</td>\n",
       "      <td>2</td>\n",
       "      <td>361</td>\n",
       "      <td>52</td>\n",
       "      <td>28</td>\n",
       "      <td>244.387</td>\n",
       "      <td>27</td>\n",
       "      <td>0</td>\n",
       "      <td>1</td>\n",
       "      <td>4</td>\n",
       "      <td>1</td>\n",
       "    </tr>\n",
       "    <tr>\n",
       "      <th>...</th>\n",
       "      <td>...</td>\n",
       "      <td>...</td>\n",
       "      <td>...</td>\n",
       "      <td>...</td>\n",
       "      <td>...</td>\n",
       "      <td>...</td>\n",
       "      <td>...</td>\n",
       "      <td>...</td>\n",
       "      <td>...</td>\n",
       "      <td>...</td>\n",
       "      <td>...</td>\n",
       "      <td>...</td>\n",
       "      <td>...</td>\n",
       "      <td>...</td>\n",
       "      <td>...</td>\n",
       "    </tr>\n",
       "    <tr>\n",
       "      <th>695</th>\n",
       "      <td>1</td>\n",
       "      <td>0</td>\n",
       "      <td>0</td>\n",
       "      <td>0</td>\n",
       "      <td>2</td>\n",
       "      <td>0</td>\n",
       "      <td>388</td>\n",
       "      <td>15</td>\n",
       "      <td>50</td>\n",
       "      <td>302.585</td>\n",
       "      <td>24</td>\n",
       "      <td>0</td>\n",
       "      <td>0</td>\n",
       "      <td>0</td>\n",
       "      <td>1</td>\n",
       "    </tr>\n",
       "    <tr>\n",
       "      <th>696</th>\n",
       "      <td>0</td>\n",
       "      <td>0</td>\n",
       "      <td>0</td>\n",
       "      <td>1</td>\n",
       "      <td>3</td>\n",
       "      <td>4</td>\n",
       "      <td>179</td>\n",
       "      <td>51</td>\n",
       "      <td>38</td>\n",
       "      <td>222.196</td>\n",
       "      <td>31</td>\n",
       "      <td>0</td>\n",
       "      <td>0</td>\n",
       "      <td>0</td>\n",
       "      <td>0</td>\n",
       "    </tr>\n",
       "    <tr>\n",
       "      <th>697</th>\n",
       "      <td>0</td>\n",
       "      <td>0</td>\n",
       "      <td>0</td>\n",
       "      <td>1</td>\n",
       "      <td>10</td>\n",
       "      <td>2</td>\n",
       "      <td>179</td>\n",
       "      <td>51</td>\n",
       "      <td>38</td>\n",
       "      <td>253.465</td>\n",
       "      <td>31</td>\n",
       "      <td>0</td>\n",
       "      <td>0</td>\n",
       "      <td>0</td>\n",
       "      <td>1</td>\n",
       "    </tr>\n",
       "    <tr>\n",
       "      <th>698</th>\n",
       "      <td>0</td>\n",
       "      <td>0</td>\n",
       "      <td>0</td>\n",
       "      <td>1</td>\n",
       "      <td>6</td>\n",
       "      <td>3</td>\n",
       "      <td>225</td>\n",
       "      <td>26</td>\n",
       "      <td>28</td>\n",
       "      <td>377.550</td>\n",
       "      <td>24</td>\n",
       "      <td>0</td>\n",
       "      <td>1</td>\n",
       "      <td>2</td>\n",
       "      <td>0</td>\n",
       "    </tr>\n",
       "    <tr>\n",
       "      <th>699</th>\n",
       "      <td>1</td>\n",
       "      <td>0</td>\n",
       "      <td>0</td>\n",
       "      <td>0</td>\n",
       "      <td>8</td>\n",
       "      <td>3</td>\n",
       "      <td>291</td>\n",
       "      <td>50</td>\n",
       "      <td>32</td>\n",
       "      <td>205.917</td>\n",
       "      <td>23</td>\n",
       "      <td>0</td>\n",
       "      <td>0</td>\n",
       "      <td>0</td>\n",
       "      <td>1</td>\n",
       "    </tr>\n",
       "  </tbody>\n",
       "</table>\n",
       "<p>700 rows × 15 columns</p>\n",
       "</div>"
      ],
      "text/plain": [
       "     reason_1  reason_2  reason_3  reason_4  months  Days  \\\n",
       "0           0         1         0         0       5     3   \n",
       "1           0         0         0         1       3     3   \n",
       "2           0         0         0         1      11     3   \n",
       "3           0         0         0         1       3     1   \n",
       "4           0         0         0         1       3     2   \n",
       "..        ...       ...       ...       ...     ...   ...   \n",
       "695         1         0         0         0       2     0   \n",
       "696         0         0         0         1       3     4   \n",
       "697         0         0         0         1      10     2   \n",
       "698         0         0         0         1       6     3   \n",
       "699         1         0         0         0       8     3   \n",
       "\n",
       "     Transportation Expense  Distance to Work  Age  Daily Work Load Average  \\\n",
       "0                       225                15   41                  237.656   \n",
       "1                       225                26   28                  222.196   \n",
       "2                       179                51   38                  284.031   \n",
       "3                       228                14   58                  222.196   \n",
       "4                       361                52   28                  244.387   \n",
       "..                      ...               ...  ...                      ...   \n",
       "695                     388                15   50                  302.585   \n",
       "696                     179                51   38                  222.196   \n",
       "697                     179                51   38                  253.465   \n",
       "698                     225                26   28                  377.550   \n",
       "699                     291                50   32                  205.917   \n",
       "\n",
       "     Body Mass Index  Education  Children  Pets  targets  \n",
       "0                 28          1         2     2        1  \n",
       "1                 24          0         1     2        0  \n",
       "2                 31          0         0     0        0  \n",
       "3                 22          0         2     1        0  \n",
       "4                 27          0         1     4        1  \n",
       "..               ...        ...       ...   ...      ...  \n",
       "695               24          0         0     0        1  \n",
       "696               31          0         0     0        0  \n",
       "697               31          0         0     0        1  \n",
       "698               24          0         1     2        0  \n",
       "699               23          0         0     0        1  \n",
       "\n",
       "[700 rows x 15 columns]"
      ]
     },
     "execution_count": 9,
     "metadata": {},
     "output_type": "execute_result"
    }
   ],
   "source": [
    "data"
   ]
  },
  {
   "cell_type": "markdown",
   "metadata": {},
   "source": [
    "### Split the inputs and the targets"
   ]
  },
  {
   "cell_type": "code",
   "execution_count": 10,
   "metadata": {},
   "outputs": [],
   "source": [
    "#set aside the inputs\n",
    "inputs = data.iloc[:,:-1]\n",
    "\n",
    "#set aside the outputs\n",
    "targets = data.iloc[:,-1]"
   ]
  },
  {
   "cell_type": "markdown",
   "metadata": {},
   "source": [
    "# BACKWARD ELIMINATION"
   ]
  },
  {
   "cell_type": "code",
   "execution_count": 11,
   "metadata": {},
   "outputs": [
    {
     "data": {
      "text/plain": [
       "array(['reason_1', 'reason_2', 'reason_3', 'reason_4', 'months', 'Days',\n",
       "       'Transportation Expense', 'Distance to Work', 'Age',\n",
       "       'Daily Work Load Average', 'Body Mass Index', 'Education',\n",
       "       'Children', 'Pets'], dtype=object)"
      ]
     },
     "execution_count": 11,
     "metadata": {},
     "output_type": "execute_result"
    }
   ],
   "source": [
    "#BACKWARD ELIMINATION\n",
    "#After reviewing the summary table at the end \n",
    "#notice that ['Distance to Work', 'Daily Work Load Average', 'reason_2'] columns \n",
    "#have minimal effect for our model. To simplify the model they can be removed.\n",
    "inputs.columns.values\n"
   ]
  },
  {
   "cell_type": "code",
   "execution_count": 12,
   "metadata": {},
   "outputs": [],
   "source": [
    "#reorganize the input columns\n",
    "inputs = inputs[['reason_1', 'reason_3', 'reason_4', 'months', 'Days',\n",
    "       'Transportation Expense', 'Age', 'Body Mass Index', 'Education',\n",
    "       'Children', 'Pets']]"
   ]
  },
  {
   "cell_type": "markdown",
   "metadata": {},
   "source": [
    "### Scale the inputs"
   ]
  },
  {
   "cell_type": "code",
   "execution_count": 13,
   "metadata": {},
   "outputs": [],
   "source": [
    "#initiate a standardscaler instance\n",
    "scaler = StandardScaler()\n",
    "\n",
    "#train the model\n",
    "scaler.fit(inputs)\n",
    "\n",
    "#perform the scaling and save in a variable\n",
    "inputs_scaled = scaler.transform(inputs)"
   ]
  },
  {
   "cell_type": "markdown",
   "metadata": {},
   "source": [
    "### split the  the train and test data"
   ]
  },
  {
   "cell_type": "code",
   "execution_count": 14,
   "metadata": {},
   "outputs": [],
   "source": [
    "#split the data into train and test\n",
    "train_x, test_x, train_y, test_y = train_test_split(inputs_scaled, targets, test_size=0.2, random_state = 1)"
   ]
  },
  {
   "cell_type": "code",
   "execution_count": 15,
   "metadata": {},
   "outputs": [
    {
     "data": {
      "text/plain": [
       "((560, 11), (140, 11), (560,), (140,))"
      ]
     },
     "execution_count": 15,
     "metadata": {},
     "output_type": "execute_result"
    }
   ],
   "source": [
    "#check the variable dimensions\n",
    "train_x.shape, test_x.shape, train_y.shape, test_y.shape"
   ]
  },
  {
   "cell_type": "markdown",
   "metadata": {},
   "source": [
    "### Perform Logistic Regression"
   ]
  },
  {
   "cell_type": "code",
   "execution_count": 16,
   "metadata": {},
   "outputs": [
    {
     "data": {
      "text/plain": [
       "LogisticRegression(C=1.0, class_weight=None, dual=False, fit_intercept=True,\n",
       "                   intercept_scaling=1, l1_ratio=None, max_iter=100,\n",
       "                   multi_class='auto', n_jobs=None, penalty='l2',\n",
       "                   random_state=None, solver='lbfgs', tol=0.0001, verbose=0,\n",
       "                   warm_start=False)"
      ]
     },
     "execution_count": 16,
     "metadata": {},
     "output_type": "execute_result"
    }
   ],
   "source": [
    "#initiate a Logistic Regression instance\n",
    "reg_log = LogisticRegression()\n",
    "\n",
    "#train the model\n",
    "reg_log.fit(train_x, train_y)"
   ]
  },
  {
   "cell_type": "code",
   "execution_count": 17,
   "metadata": {},
   "outputs": [
    {
     "data": {
      "text/plain": [
       "array([[0.71286295, 0.28713705],\n",
       "       [0.77115353, 0.22884647],\n",
       "       [0.61554067, 0.38445933],\n",
       "       [0.48888019, 0.51111981],\n",
       "       [0.6602628 , 0.3397372 ],\n",
       "       [0.86334704, 0.13665296],\n",
       "       [0.85282054, 0.14717946],\n",
       "       [0.59055923, 0.40944077],\n",
       "       [0.38989107, 0.61010893],\n",
       "       [0.56914857, 0.43085143],\n",
       "       [0.80057007, 0.19942993],\n",
       "       [0.55137117, 0.44862883],\n",
       "       [0.72893214, 0.27106786],\n",
       "       [0.68526495, 0.31473505],\n",
       "       [0.7906853 , 0.2093147 ],\n",
       "       [0.40266736, 0.59733264],\n",
       "       [0.67362175, 0.32637825],\n",
       "       [0.70689716, 0.29310284],\n",
       "       [0.04825622, 0.95174378],\n",
       "       [0.83182707, 0.16817293],\n",
       "       [0.24173563, 0.75826437],\n",
       "       [0.25829914, 0.74170086],\n",
       "       [0.78496054, 0.21503946],\n",
       "       [0.6372266 , 0.3627734 ],\n",
       "       [0.8379818 , 0.1620182 ],\n",
       "       [0.76982076, 0.23017924],\n",
       "       [0.80280903, 0.19719097],\n",
       "       [0.09323429, 0.90676571],\n",
       "       [0.61199239, 0.38800761],\n",
       "       [0.53811107, 0.46188893],\n",
       "       [0.77060822, 0.22939178],\n",
       "       [0.74731715, 0.25268285],\n",
       "       [0.19190179, 0.80809821],\n",
       "       [0.40901324, 0.59098676],\n",
       "       [0.82574629, 0.17425371],\n",
       "       [0.42890131, 0.57109869],\n",
       "       [0.62515207, 0.37484793],\n",
       "       [0.33796378, 0.66203622],\n",
       "       [0.59101971, 0.40898029],\n",
       "       [0.81059302, 0.18940698],\n",
       "       [0.72239364, 0.27760636],\n",
       "       [0.71714979, 0.28285021],\n",
       "       [0.75548884, 0.24451116],\n",
       "       [0.75001586, 0.24998414],\n",
       "       [0.51813615, 0.48186385],\n",
       "       [0.75163724, 0.24836276],\n",
       "       [0.67628754, 0.32371246],\n",
       "       [0.17276925, 0.82723075],\n",
       "       [0.63117261, 0.36882739],\n",
       "       [0.63745133, 0.36254867],\n",
       "       [0.764344  , 0.235656  ],\n",
       "       [0.38958684, 0.61041316],\n",
       "       [0.6708636 , 0.3291364 ],\n",
       "       [0.90686308, 0.09313692],\n",
       "       [0.17240653, 0.82759347],\n",
       "       [0.50368046, 0.49631954],\n",
       "       [0.81625217, 0.18374783],\n",
       "       [0.82399461, 0.17600539],\n",
       "       [0.45443124, 0.54556876],\n",
       "       [0.82395144, 0.17604856],\n",
       "       [0.8223217 , 0.1776783 ],\n",
       "       [0.38266946, 0.61733054],\n",
       "       [0.66831167, 0.33168833],\n",
       "       [0.70939688, 0.29060312],\n",
       "       [0.66232871, 0.33767129],\n",
       "       [0.18485875, 0.81514125],\n",
       "       [0.5994718 , 0.4005282 ],\n",
       "       [0.83378798, 0.16621202],\n",
       "       [0.16241779, 0.83758221],\n",
       "       [0.12049947, 0.87950053],\n",
       "       [0.78181116, 0.21818884],\n",
       "       [0.02991059, 0.97008941],\n",
       "       [0.86274342, 0.13725658],\n",
       "       [0.74235754, 0.25764246],\n",
       "       [0.15831248, 0.84168752],\n",
       "       [0.66135323, 0.33864677],\n",
       "       [0.83432306, 0.16567694],\n",
       "       [0.20605506, 0.79394494],\n",
       "       [0.55333548, 0.44666452],\n",
       "       [0.90749934, 0.09250066],\n",
       "       [0.80057007, 0.19942993],\n",
       "       [0.24243753, 0.75756247],\n",
       "       [0.5581997 , 0.4418003 ],\n",
       "       [0.79007168, 0.20992832],\n",
       "       [0.39189279, 0.60810721],\n",
       "       [0.64204976, 0.35795024],\n",
       "       [0.63274236, 0.36725764],\n",
       "       [0.88089895, 0.11910105],\n",
       "       [0.42835009, 0.57164991],\n",
       "       [0.77060822, 0.22939178],\n",
       "       [0.78023371, 0.21976629],\n",
       "       [0.90749934, 0.09250066],\n",
       "       [0.42197227, 0.57802773],\n",
       "       [0.53577158, 0.46422842],\n",
       "       [0.93327251, 0.06672749],\n",
       "       [0.46285061, 0.53714939],\n",
       "       [0.49540257, 0.50459743],\n",
       "       [0.77572629, 0.22427371],\n",
       "       [0.86651674, 0.13348326],\n",
       "       [0.06210926, 0.93789074],\n",
       "       [0.23320413, 0.76679587],\n",
       "       [0.65438473, 0.34561527],\n",
       "       [0.22297506, 0.77702494],\n",
       "       [0.83555342, 0.16444658],\n",
       "       [0.50618771, 0.49381229],\n",
       "       [0.77060822, 0.22939178],\n",
       "       [0.77143452, 0.22856548],\n",
       "       [0.44893893, 0.55106107],\n",
       "       [0.66886411, 0.33113589],\n",
       "       [0.47749751, 0.52250249],\n",
       "       [0.81881352, 0.18118648],\n",
       "       [0.22220045, 0.77779955],\n",
       "       [0.44345272, 0.55654728],\n",
       "       [0.80098339, 0.19901661],\n",
       "       [0.69352708, 0.30647292],\n",
       "       [0.5446028 , 0.4553972 ],\n",
       "       [0.65983541, 0.34016459],\n",
       "       [0.4586562 , 0.5413438 ],\n",
       "       [0.8032503 , 0.1967497 ],\n",
       "       [0.51082246, 0.48917754],\n",
       "       [0.27145371, 0.72854629],\n",
       "       [0.68111217, 0.31888783],\n",
       "       [0.48888019, 0.51111981],\n",
       "       [0.83378798, 0.16621202],\n",
       "       [0.64243285, 0.35756715],\n",
       "       [0.03923205, 0.96076795],\n",
       "       [0.65395382, 0.34604618],\n",
       "       [0.65469897, 0.34530103],\n",
       "       [0.83182707, 0.16817293],\n",
       "       [0.26350931, 0.73649069],\n",
       "       [0.24245255, 0.75754745],\n",
       "       [0.13439729, 0.86560271],\n",
       "       [0.84413691, 0.15586309],\n",
       "       [0.64920343, 0.35079657],\n",
       "       [0.21691557, 0.78308443],\n",
       "       [0.38989107, 0.61010893],\n",
       "       [0.75704513, 0.24295487],\n",
       "       [0.07985639, 0.92014361],\n",
       "       [0.6965749 , 0.3034251 ],\n",
       "       [0.52521171, 0.47478829]])"
      ]
     },
     "execution_count": 17,
     "metadata": {},
     "output_type": "execute_result"
    }
   ],
   "source": [
    "#print the probabilitiy of excessive absenteeism: first column is 0, second column is 1(excessive absent)\n",
    "reg_log.predict_proba(test_x)"
   ]
  },
  {
   "cell_type": "code",
   "execution_count": 18,
   "metadata": {},
   "outputs": [
    {
     "data": {
      "text/plain": [
       "0.7339285714285714"
      ]
     },
     "execution_count": 18,
     "metadata": {},
     "output_type": "execute_result"
    }
   ],
   "source": [
    "#evaluate the result\n",
    "reg_log.score(train_x, train_y)"
   ]
  },
  {
   "cell_type": "markdown",
   "metadata": {},
   "source": [
    "## Manually check the result"
   ]
  },
  {
   "cell_type": "code",
   "execution_count": 19,
   "metadata": {},
   "outputs": [],
   "source": [
    "#create a summary table\n",
    "summary = pd.DataFrame()\n",
    "summary['test_y'] = test_y\n",
    "summary['predicted_y'] = reg_log.predict(test_x)\n",
    "summary['result'] = (summary['test_y'] == summary['predicted_y'])"
   ]
  },
  {
   "cell_type": "code",
   "execution_count": 20,
   "metadata": {},
   "outputs": [
    {
     "data": {
      "text/html": [
       "<div>\n",
       "<style scoped>\n",
       "    .dataframe tbody tr th:only-of-type {\n",
       "        vertical-align: middle;\n",
       "    }\n",
       "\n",
       "    .dataframe tbody tr th {\n",
       "        vertical-align: top;\n",
       "    }\n",
       "\n",
       "    .dataframe thead th {\n",
       "        text-align: right;\n",
       "    }\n",
       "</style>\n",
       "<table border=\"1\" class=\"dataframe\">\n",
       "  <thead>\n",
       "    <tr style=\"text-align: right;\">\n",
       "      <th></th>\n",
       "      <th>test_y</th>\n",
       "      <th>predicted_y</th>\n",
       "      <th>result</th>\n",
       "    </tr>\n",
       "  </thead>\n",
       "  <tbody>\n",
       "    <tr>\n",
       "      <th>681</th>\n",
       "      <td>1</td>\n",
       "      <td>0</td>\n",
       "      <td>False</td>\n",
       "    </tr>\n",
       "    <tr>\n",
       "      <th>626</th>\n",
       "      <td>1</td>\n",
       "      <td>0</td>\n",
       "      <td>False</td>\n",
       "    </tr>\n",
       "  </tbody>\n",
       "</table>\n",
       "</div>"
      ],
      "text/plain": [
       "     test_y  predicted_y  result\n",
       "681       1            0   False\n",
       "626       1            0   False"
      ]
     },
     "execution_count": 20,
     "metadata": {},
     "output_type": "execute_result"
    }
   ],
   "source": [
    "summary.head(2)"
   ]
  },
  {
   "cell_type": "code",
   "execution_count": 21,
   "metadata": {},
   "outputs": [
    {
     "data": {
      "text/plain": [
       "count      140\n",
       "unique       2\n",
       "top       True\n",
       "freq        92\n",
       "Name: result, dtype: object"
      ]
     },
     "execution_count": 21,
     "metadata": {},
     "output_type": "execute_result"
    }
   ],
   "source": [
    "#check the stats\n",
    "summary['result'].describe(include='all')"
   ]
  },
  {
   "cell_type": "code",
   "execution_count": 22,
   "metadata": {},
   "outputs": [
    {
     "name": "stdout",
     "output_type": "stream",
     "text": [
      "The accuracy of this model for the test data is  65.7% . \n"
     ]
    }
   ],
   "source": [
    "#calculate the accuracy of the predictions\n",
    "accuracy = summary['result'].describe().freq / summary['result'].count() * 100\n",
    "print('The accuracy of this model for the test data is {: .1f}% . '.format(accuracy))"
   ]
  },
  {
   "cell_type": "markdown",
   "metadata": {},
   "source": [
    "## Check the accuracy of the training"
   ]
  },
  {
   "cell_type": "code",
   "execution_count": 23,
   "metadata": {},
   "outputs": [],
   "source": [
    "summary_train = pd.DataFrame()\n",
    "summary_train['train_y'] = train_y\n",
    "summary_train['predict_y'] = reg_log.predict(train_x)\n",
    "summary_train['result'] = (summary_train['train_y']==summary_train['predict_y'])"
   ]
  },
  {
   "cell_type": "code",
   "execution_count": 24,
   "metadata": {},
   "outputs": [
    {
     "data": {
      "text/plain": [
       "count      560\n",
       "unique       2\n",
       "top       True\n",
       "freq       411\n",
       "Name: result, dtype: object"
      ]
     },
     "execution_count": 24,
     "metadata": {},
     "output_type": "execute_result"
    }
   ],
   "source": [
    "summary_train['result'].describe()"
   ]
  },
  {
   "cell_type": "code",
   "execution_count": 25,
   "metadata": {},
   "outputs": [
    {
     "name": "stdout",
     "output_type": "stream",
     "text": [
      "The accuracy of this model for the training data is  73.4% . \n"
     ]
    }
   ],
   "source": [
    "#calculate the accuracy of the predictions\n",
    "accuracy = summary_train['result'].describe().freq / summary_train['result'].count() * 100\n",
    "print('The accuracy of this model for the training data is {: .1f}% . '.format(accuracy))"
   ]
  },
  {
   "cell_type": "markdown",
   "metadata": {},
   "source": [
    "## Create a summary table with coefficients"
   ]
  },
  {
   "cell_type": "code",
   "execution_count": 26,
   "metadata": {},
   "outputs": [],
   "source": [
    "summary_table = pd.DataFrame()"
   ]
  },
  {
   "cell_type": "code",
   "execution_count": 27,
   "metadata": {},
   "outputs": [],
   "source": [
    "summary_table['features'] = inputs.columns\n",
    "summary_table['Weights'] = reg_log.coef_.reshape(-1,1)"
   ]
  },
  {
   "cell_type": "code",
   "execution_count": 28,
   "metadata": {},
   "outputs": [],
   "source": [
    "summary_table.index = summary_table.index+1"
   ]
  },
  {
   "cell_type": "code",
   "execution_count": 29,
   "metadata": {},
   "outputs": [],
   "source": [
    "summary_table.loc[0] = ['intercept', float(reg_log.intercept_)]"
   ]
  },
  {
   "cell_type": "code",
   "execution_count": 30,
   "metadata": {},
   "outputs": [],
   "source": [
    "summary_table['odds ratio'] = np.exp(summary_table.Weights)"
   ]
  },
  {
   "cell_type": "code",
   "execution_count": 31,
   "metadata": {},
   "outputs": [],
   "source": [
    "summary_table = summary_table.sort_index()"
   ]
  },
  {
   "cell_type": "code",
   "execution_count": 32,
   "metadata": {},
   "outputs": [
    {
     "data": {
      "text/html": [
       "<div>\n",
       "<style scoped>\n",
       "    .dataframe tbody tr th:only-of-type {\n",
       "        vertical-align: middle;\n",
       "    }\n",
       "\n",
       "    .dataframe tbody tr th {\n",
       "        vertical-align: top;\n",
       "    }\n",
       "\n",
       "    .dataframe thead th {\n",
       "        text-align: right;\n",
       "    }\n",
       "</style>\n",
       "<table border=\"1\" class=\"dataframe\">\n",
       "  <thead>\n",
       "    <tr style=\"text-align: right;\">\n",
       "      <th></th>\n",
       "      <th>features</th>\n",
       "      <th>Weights</th>\n",
       "      <th>odds ratio</th>\n",
       "    </tr>\n",
       "  </thead>\n",
       "  <tbody>\n",
       "    <tr>\n",
       "      <th>0</th>\n",
       "      <td>intercept</td>\n",
       "      <td>-0.235479</td>\n",
       "      <td>0.790192</td>\n",
       "    </tr>\n",
       "    <tr>\n",
       "      <th>1</th>\n",
       "      <td>reason_1</td>\n",
       "      <td>0.223539</td>\n",
       "      <td>1.250494</td>\n",
       "    </tr>\n",
       "    <tr>\n",
       "      <th>2</th>\n",
       "      <td>reason_3</td>\n",
       "      <td>0.600690</td>\n",
       "      <td>1.823377</td>\n",
       "    </tr>\n",
       "    <tr>\n",
       "      <th>3</th>\n",
       "      <td>reason_4</td>\n",
       "      <td>-0.383279</td>\n",
       "      <td>0.681623</td>\n",
       "    </tr>\n",
       "    <tr>\n",
       "      <th>4</th>\n",
       "      <td>months</td>\n",
       "      <td>0.091403</td>\n",
       "      <td>1.095710</td>\n",
       "    </tr>\n",
       "    <tr>\n",
       "      <th>5</th>\n",
       "      <td>Days</td>\n",
       "      <td>-0.245276</td>\n",
       "      <td>0.782488</td>\n",
       "    </tr>\n",
       "    <tr>\n",
       "      <th>6</th>\n",
       "      <td>Transportation Expense</td>\n",
       "      <td>0.580594</td>\n",
       "      <td>1.787099</td>\n",
       "    </tr>\n",
       "    <tr>\n",
       "      <th>7</th>\n",
       "      <td>Age</td>\n",
       "      <td>-0.264760</td>\n",
       "      <td>0.767390</td>\n",
       "    </tr>\n",
       "    <tr>\n",
       "      <th>8</th>\n",
       "      <td>Body Mass Index</td>\n",
       "      <td>0.224301</td>\n",
       "      <td>1.251447</td>\n",
       "    </tr>\n",
       "    <tr>\n",
       "      <th>9</th>\n",
       "      <td>Education</td>\n",
       "      <td>-0.057364</td>\n",
       "      <td>0.944250</td>\n",
       "    </tr>\n",
       "    <tr>\n",
       "      <th>10</th>\n",
       "      <td>Children</td>\n",
       "      <td>0.339043</td>\n",
       "      <td>1.403603</td>\n",
       "    </tr>\n",
       "    <tr>\n",
       "      <th>11</th>\n",
       "      <td>Pets</td>\n",
       "      <td>-0.391971</td>\n",
       "      <td>0.675724</td>\n",
       "    </tr>\n",
       "  </tbody>\n",
       "</table>\n",
       "</div>"
      ],
      "text/plain": [
       "                  features   Weights  odds ratio\n",
       "0                intercept -0.235479    0.790192\n",
       "1                 reason_1  0.223539    1.250494\n",
       "2                 reason_3  0.600690    1.823377\n",
       "3                 reason_4 -0.383279    0.681623\n",
       "4                   months  0.091403    1.095710\n",
       "5                     Days -0.245276    0.782488\n",
       "6   Transportation Expense  0.580594    1.787099\n",
       "7                      Age -0.264760    0.767390\n",
       "8          Body Mass Index  0.224301    1.251447\n",
       "9                Education -0.057364    0.944250\n",
       "10                Children  0.339043    1.403603\n",
       "11                    Pets -0.391971    0.675724"
      ]
     },
     "execution_count": 32,
     "metadata": {},
     "output_type": "execute_result"
    }
   ],
   "source": [
    "summary_table"
   ]
  },
  {
   "cell_type": "markdown",
   "metadata": {},
   "source": [
    "### ['Distance to Work', 'Daily Work Load Average', 'reason_2'] columns have minimal effect for our model. To simplify the model they can be removed.\n",
    "Prior to Backward Elimination:\n",
    "The accuracy of this model for the training data is  73.9% . \n",
    "The accuracy of this model for the test data is  64.3% . "
   ]
  },
  {
   "cell_type": "markdown",
   "metadata": {},
   "source": [
    "## After the Backward Elimination:\n",
    "\n",
    "The accuracy of this model for the training data is  73.4% . \n",
    "The accuracy of this model for the test data is  65.7% . \n",
    "\n",
    "### So, removing the variables had negligible impact. "
   ]
  },
  {
   "cell_type": "code",
   "execution_count": null,
   "metadata": {},
   "outputs": [],
   "source": []
  }
 ],
 "metadata": {
  "kernelspec": {
   "display_name": "Python 3",
   "language": "python",
   "name": "python3"
  },
  "language_info": {
   "codemirror_mode": {
    "name": "ipython",
    "version": 3
   },
   "file_extension": ".py",
   "mimetype": "text/x-python",
   "name": "python",
   "nbconvert_exporter": "python",
   "pygments_lexer": "ipython3",
   "version": "3.7.6"
  }
 },
 "nbformat": 4,
 "nbformat_minor": 2
}

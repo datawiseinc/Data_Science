{
 "cells": [
  {
   "cell_type": "markdown",
   "metadata": {},
   "source": [
    "#  Consulting Project "
   ]
  },
  {
   "cell_type": "markdown",
   "metadata": {},
   "source": [
    "You've been hired by a dog food company to try to predict why some batches of their dog food are spoiling much quicker than intended! Unfortunately this Dog Food company hasn't upgraded to the latest machinery, meaning that the amounts of the five preservative chemicals they are using can vary a lot, but which is the chemical that has the strongest effect? The dog food company first mixes up a batch of preservative that contains 4 different preservative chemicals (A,B,C,D) and then is completed with a \"filler\" chemical. The food scientists beelive one of the A,B,C, or D preservatives is causing the problem, but need your help to figure out which one!\n",
    "Use Machine Learning with RF to find out which parameter had the most predicitive power, thus finding out which chemical causes the early spoiling! So create a model and then find out how you can decide which chemical is the problem!\n",
    "\n",
    "* Pres_A : Percentage of preservative A in the mix\n",
    "* Pres_B : Percentage of preservative B in the mix\n",
    "* Pres_C : Percentage of preservative C in the mix\n",
    "* Pres_D : Percentage of preservative D in the mix\n",
    "* Spoiled: Label indicating whether or not the dog food batch was spoiled.\n",
    "___"
   ]
  },
  {
   "cell_type": "code",
   "execution_count": 1,
   "metadata": {},
   "outputs": [],
   "source": [
    "#import the necessary libraries\n",
    "from pyspark.sql import SparkSession\n",
    "import pandas as pd\n",
    "from pyspark.ml.feature import StandardScaler\n",
    "\n",
    "#start a spark session\n",
    "spark = SparkSession.builder.appName('dogfoodpoison').getOrCreate()"
   ]
  },
  {
   "cell_type": "markdown",
   "metadata": {},
   "source": [
    "## Exploratory Analysis"
   ]
  },
  {
   "cell_type": "code",
   "execution_count": 2,
   "metadata": {},
   "outputs": [],
   "source": [
    "#record the findings\n",
    "findings = []"
   ]
  },
  {
   "cell_type": "code",
   "execution_count": 3,
   "metadata": {},
   "outputs": [
    {
     "data": {
      "text/html": [
       "<div>\n",
       "<style scoped>\n",
       "    .dataframe tbody tr th:only-of-type {\n",
       "        vertical-align: middle;\n",
       "    }\n",
       "\n",
       "    .dataframe tbody tr th {\n",
       "        vertical-align: top;\n",
       "    }\n",
       "\n",
       "    .dataframe thead th {\n",
       "        text-align: right;\n",
       "    }\n",
       "</style>\n",
       "<table border=\"1\" class=\"dataframe\">\n",
       "  <thead>\n",
       "    <tr style=\"text-align: right;\">\n",
       "      <th></th>\n",
       "      <th>A</th>\n",
       "      <th>B</th>\n",
       "      <th>C</th>\n",
       "      <th>D</th>\n",
       "      <th>Spoiled</th>\n",
       "    </tr>\n",
       "  </thead>\n",
       "  <tbody>\n",
       "    <tr>\n",
       "      <td>0</td>\n",
       "      <td>4</td>\n",
       "      <td>2</td>\n",
       "      <td>12.0</td>\n",
       "      <td>3</td>\n",
       "      <td>1.0</td>\n",
       "    </tr>\n",
       "    <tr>\n",
       "      <td>1</td>\n",
       "      <td>5</td>\n",
       "      <td>6</td>\n",
       "      <td>12.0</td>\n",
       "      <td>7</td>\n",
       "      <td>1.0</td>\n",
       "    </tr>\n",
       "    <tr>\n",
       "      <td>2</td>\n",
       "      <td>6</td>\n",
       "      <td>2</td>\n",
       "      <td>13.0</td>\n",
       "      <td>6</td>\n",
       "      <td>1.0</td>\n",
       "    </tr>\n",
       "  </tbody>\n",
       "</table>\n",
       "</div>"
      ],
      "text/plain": [
       "   A  B     C  D  Spoiled\n",
       "0  4  2  12.0  3      1.0\n",
       "1  5  6  12.0  7      1.0\n",
       "2  6  2  13.0  6      1.0"
      ]
     },
     "execution_count": 3,
     "metadata": {},
     "output_type": "execute_result"
    }
   ],
   "source": [
    "#load the dataset\n",
    "data = spark.read.csv('13.dog_food.csv', inferSchema=True, header=True)\n",
    "pd.DataFrame(data.take(3), columns=data.columns)"
   ]
  },
  {
   "cell_type": "code",
   "execution_count": 4,
   "metadata": {},
   "outputs": [
    {
     "data": {
      "text/html": [
       "<div>\n",
       "<style scoped>\n",
       "    .dataframe tbody tr th:only-of-type {\n",
       "        vertical-align: middle;\n",
       "    }\n",
       "\n",
       "    .dataframe tbody tr th {\n",
       "        vertical-align: top;\n",
       "    }\n",
       "\n",
       "    .dataframe thead th {\n",
       "        text-align: right;\n",
       "    }\n",
       "</style>\n",
       "<table border=\"1\" class=\"dataframe\">\n",
       "  <thead>\n",
       "    <tr style=\"text-align: right;\">\n",
       "      <th></th>\n",
       "      <th>summary</th>\n",
       "      <th>A</th>\n",
       "      <th>B</th>\n",
       "      <th>C</th>\n",
       "      <th>D</th>\n",
       "      <th>Spoiled</th>\n",
       "    </tr>\n",
       "  </thead>\n",
       "  <tbody>\n",
       "    <tr>\n",
       "      <td>0</td>\n",
       "      <td>count</td>\n",
       "      <td>490</td>\n",
       "      <td>490</td>\n",
       "      <td>490</td>\n",
       "      <td>490</td>\n",
       "      <td>490</td>\n",
       "    </tr>\n",
       "    <tr>\n",
       "      <td>1</td>\n",
       "      <td>mean</td>\n",
       "      <td>5.53469387755102</td>\n",
       "      <td>5.504081632653061</td>\n",
       "      <td>9.126530612244897</td>\n",
       "      <td>5.579591836734694</td>\n",
       "      <td>0.2857142857142857</td>\n",
       "    </tr>\n",
       "    <tr>\n",
       "      <td>2</td>\n",
       "      <td>stddev</td>\n",
       "      <td>2.9515204234399057</td>\n",
       "      <td>2.8537966089662063</td>\n",
       "      <td>2.0555451971054275</td>\n",
       "      <td>2.8548369309982857</td>\n",
       "      <td>0.45221563164613465</td>\n",
       "    </tr>\n",
       "    <tr>\n",
       "      <td>3</td>\n",
       "      <td>min</td>\n",
       "      <td>1</td>\n",
       "      <td>1</td>\n",
       "      <td>5.0</td>\n",
       "      <td>1</td>\n",
       "      <td>0.0</td>\n",
       "    </tr>\n",
       "    <tr>\n",
       "      <td>4</td>\n",
       "      <td>25%</td>\n",
       "      <td>3</td>\n",
       "      <td>3</td>\n",
       "      <td>8.0</td>\n",
       "      <td>3</td>\n",
       "      <td>0.0</td>\n",
       "    </tr>\n",
       "    <tr>\n",
       "      <td>5</td>\n",
       "      <td>50%</td>\n",
       "      <td>5</td>\n",
       "      <td>6</td>\n",
       "      <td>9.0</td>\n",
       "      <td>6</td>\n",
       "      <td>0.0</td>\n",
       "    </tr>\n",
       "    <tr>\n",
       "      <td>6</td>\n",
       "      <td>75%</td>\n",
       "      <td>8</td>\n",
       "      <td>8</td>\n",
       "      <td>11.0</td>\n",
       "      <td>8</td>\n",
       "      <td>1.0</td>\n",
       "    </tr>\n",
       "    <tr>\n",
       "      <td>7</td>\n",
       "      <td>max</td>\n",
       "      <td>10</td>\n",
       "      <td>10</td>\n",
       "      <td>14.0</td>\n",
       "      <td>10</td>\n",
       "      <td>1.0</td>\n",
       "    </tr>\n",
       "  </tbody>\n",
       "</table>\n",
       "</div>"
      ],
      "text/plain": [
       "  summary                   A                   B                   C  \\\n",
       "0   count                 490                 490                 490   \n",
       "1    mean    5.53469387755102   5.504081632653061   9.126530612244897   \n",
       "2  stddev  2.9515204234399057  2.8537966089662063  2.0555451971054275   \n",
       "3     min                   1                   1                 5.0   \n",
       "4     25%                   3                   3                 8.0   \n",
       "5     50%                   5                   6                 9.0   \n",
       "6     75%                   8                   8                11.0   \n",
       "7     max                  10                  10                14.0   \n",
       "\n",
       "                    D              Spoiled  \n",
       "0                 490                  490  \n",
       "1   5.579591836734694   0.2857142857142857  \n",
       "2  2.8548369309982857  0.45221563164613465  \n",
       "3                   1                  0.0  \n",
       "4                   3                  0.0  \n",
       "5                   6                  0.0  \n",
       "6                   8                  1.0  \n",
       "7                  10                  1.0  "
      ]
     },
     "execution_count": 4,
     "metadata": {},
     "output_type": "execute_result"
    }
   ],
   "source": [
    "#analyze the basic stats of the columns\n",
    "pd.DataFrame(data.summary().collect(), columns=data.summary().columns)"
   ]
  },
  {
   "cell_type": "code",
   "execution_count": 5,
   "metadata": {},
   "outputs": [],
   "source": [
    "#record the findings\n",
    "findings += ['#Chemical C values have a differnet range than the rest', \n",
    "             '#Spoiled is the target value',\n",
    "             '#No missing values',\n",
    "             '#Features should be standardized']"
   ]
  },
  {
   "cell_type": "code",
   "execution_count": 6,
   "metadata": {},
   "outputs": [
    {
     "name": "stdout",
     "output_type": "stream",
     "text": [
      "root\n",
      " |-- A: integer (nullable = true)\n",
      " |-- B: integer (nullable = true)\n",
      " |-- C: double (nullable = true)\n",
      " |-- D: integer (nullable = true)\n",
      " |-- Spoiled: double (nullable = true)\n",
      "\n"
     ]
    }
   ],
   "source": [
    "data.printSchema()"
   ]
  },
  {
   "cell_type": "code",
   "execution_count": 7,
   "metadata": {},
   "outputs": [
    {
     "data": {
      "text/plain": [
       "['A', 'B', 'C', 'D', 'Spoiled']"
      ]
     },
     "execution_count": 7,
     "metadata": {},
     "output_type": "execute_result"
    }
   ],
   "source": [
    "data.columns"
   ]
  },
  {
   "cell_type": "markdown",
   "metadata": {},
   "source": [
    "# Preprocess the data"
   ]
  },
  {
   "cell_type": "code",
   "execution_count": 8,
   "metadata": {},
   "outputs": [],
   "source": [
    "#initiate workflow pipeline\n",
    "stages = []"
   ]
  },
  {
   "cell_type": "markdown",
   "metadata": {},
   "source": [
    "### Assembling the features into a vector"
   ]
  },
  {
   "cell_type": "code",
   "execution_count": 9,
   "metadata": {},
   "outputs": [],
   "source": [
    "#prepare the input vectors\n",
    "from pyspark.ml.linalg import Vectors\n",
    "from pyspark.ml.feature import (VectorAssembler, VectorIndexer)\n",
    "assembler = VectorAssembler(inputCols=['A', 'B', 'C', 'D'], outputCol='feature_unscaled')"
   ]
  },
  {
   "cell_type": "code",
   "execution_count": 10,
   "metadata": {},
   "outputs": [],
   "source": [
    "data = assembler.transform(data)"
   ]
  },
  {
   "cell_type": "markdown",
   "metadata": {},
   "source": [
    "### Scaling the features"
   ]
  },
  {
   "cell_type": "code",
   "execution_count": 11,
   "metadata": {},
   "outputs": [],
   "source": [
    "#prepare the scaler\n",
    "from pyspark.ml.feature import StandardScaler\n",
    "scaler = StandardScaler(inputCol='feature_unscaled', outputCol='features')"
   ]
  },
  {
   "cell_type": "code",
   "execution_count": 12,
   "metadata": {},
   "outputs": [],
   "source": [
    "data = scaler.fit(data).transform(data)"
   ]
  },
  {
   "cell_type": "markdown",
   "metadata": {},
   "source": [
    "### Split the data into Train and Test Data"
   ]
  },
  {
   "cell_type": "code",
   "execution_count": 13,
   "metadata": {},
   "outputs": [],
   "source": [
    "#splitting the \n",
    "train_data, test_data = data.randomSplit([0.7, 0.3])"
   ]
  },
  {
   "cell_type": "code",
   "execution_count": 14,
   "metadata": {},
   "outputs": [
    {
     "data": {
      "text/plain": [
       "['A', 'B', 'C', 'D', 'Spoiled', 'feature_unscaled', 'features']"
      ]
     },
     "execution_count": 14,
     "metadata": {},
     "output_type": "execute_result"
    }
   ],
   "source": [
    "train_data.columns"
   ]
  },
  {
   "cell_type": "code",
   "execution_count": 15,
   "metadata": {},
   "outputs": [
    {
     "data": {
      "text/plain": [
       "[Row(A=1, B=1, C=10.0, D=8, Spoiled=1.0, feature_unscaled=DenseVector([1.0, 1.0, 10.0, 8.0]), features=DenseVector([0.3388, 0.3504, 4.8649, 2.8023]))]"
      ]
     },
     "execution_count": 15,
     "metadata": {},
     "output_type": "execute_result"
    }
   ],
   "source": [
    "train_data.head(1)"
   ]
  },
  {
   "cell_type": "code",
   "execution_count": 16,
   "metadata": {},
   "outputs": [
    {
     "name": "stdout",
     "output_type": "stream",
     "text": [
      "+-------+---+---+---+---+-------+\n",
      "|summary|  A|  B|  C|  D|Spoiled|\n",
      "+-------+---+---+---+---+-------+\n",
      "|  count|356|356|356|356|    356|\n",
      "+-------+---+---+---+---+-------+\n",
      "\n"
     ]
    }
   ],
   "source": [
    "train_data.summary('count').show()"
   ]
  },
  {
   "cell_type": "code",
   "execution_count": 17,
   "metadata": {},
   "outputs": [
    {
     "data": {
      "text/plain": [
       "['A', 'B', 'C', 'D', 'Spoiled', 'feature_unscaled', 'features']"
      ]
     },
     "execution_count": 17,
     "metadata": {},
     "output_type": "execute_result"
    }
   ],
   "source": [
    "test_data.columns"
   ]
  },
  {
   "cell_type": "code",
   "execution_count": 18,
   "metadata": {},
   "outputs": [
    {
     "name": "stdout",
     "output_type": "stream",
     "text": [
      "+-------+---+---+---+---+-------+\n",
      "|summary|  A|  B|  C|  D|Spoiled|\n",
      "+-------+---+---+---+---+-------+\n",
      "|  count|134|134|134|134|    134|\n",
      "+-------+---+---+---+---+-------+\n",
      "\n"
     ]
    }
   ],
   "source": [
    "test_data.summary('count').show()"
   ]
  },
  {
   "cell_type": "code",
   "execution_count": 19,
   "metadata": {},
   "outputs": [
    {
     "name": "stdout",
     "output_type": "stream",
     "text": [
      "root\n",
      " |-- A: integer (nullable = true)\n",
      " |-- B: integer (nullable = true)\n",
      " |-- C: double (nullable = true)\n",
      " |-- D: integer (nullable = true)\n",
      " |-- Spoiled: double (nullable = true)\n",
      " |-- feature_unscaled: vector (nullable = true)\n",
      " |-- features: vector (nullable = true)\n",
      "\n"
     ]
    }
   ],
   "source": [
    "test_data.printSchema()"
   ]
  },
  {
   "cell_type": "code",
   "execution_count": 20,
   "metadata": {},
   "outputs": [
    {
     "name": "stdout",
     "output_type": "stream",
     "text": [
      "root\n",
      " |-- A: integer (nullable = true)\n",
      " |-- B: integer (nullable = true)\n",
      " |-- C: double (nullable = true)\n",
      " |-- D: integer (nullable = true)\n",
      " |-- Spoiled: double (nullable = true)\n",
      " |-- feature_unscaled: vector (nullable = true)\n",
      " |-- features: vector (nullable = true)\n",
      "\n"
     ]
    }
   ],
   "source": [
    "train_data.printSchema()"
   ]
  },
  {
   "cell_type": "markdown",
   "metadata": {},
   "source": [
    "## Build the ML Classification Models"
   ]
  },
  {
   "cell_type": "code",
   "execution_count": 21,
   "metadata": {},
   "outputs": [],
   "source": [
    "\n",
    "#prepare the classification models\n",
    "from pyspark.ml.classification import (RandomForestClassifier, GBTClassifier, DecisionTreeClassifier)\n",
    "\n",
    "#random forest classification\n",
    "rfc = RandomForestClassifier(labelCol='Spoiled', predictionCol='rfc_prediction',\n",
    "                             rawPredictionCol='rawPrediction_rfc', probabilityCol='probability_rfc')\n",
    "stages += [rfc]\n",
    "\n",
    "#gradient boosted tree classification\n",
    "gbtc = GBTClassifier(labelCol='Spoiled', predictionCol='gbtc_prediction')\n",
    "stages += [gbtc]\n",
    "\n",
    "#decison tree classification\n",
    "dtc = DecisionTreeClassifier(labelCol='Spoiled', predictionCol='dtc_prediction',\n",
    "                             rawPredictionCol='rawPrediction_dtc', probabilityCol='probability_dtc')\n",
    "stages += [dtc]\n"
   ]
  },
  {
   "cell_type": "markdown",
   "metadata": {},
   "source": [
    "## Train the model"
   ]
  },
  {
   "cell_type": "code",
   "execution_count": 22,
   "metadata": {},
   "outputs": [
    {
     "data": {
      "text/plain": [
       "[RandomForestClassifier_631ae53bd7ba,\n",
       " GBTClassifier_883677b56057,\n",
       " DecisionTreeClassifier_d8d91580a72c]"
      ]
     },
     "execution_count": 22,
     "metadata": {},
     "output_type": "execute_result"
    }
   ],
   "source": [
    "stages"
   ]
  },
  {
   "cell_type": "code",
   "execution_count": 23,
   "metadata": {},
   "outputs": [],
   "source": [
    "#prepare the pipeline\n",
    "from pyspark.ml import Pipeline\n",
    "#prepare the pipeline\n",
    "pipeline = Pipeline(stages=stages)"
   ]
  },
  {
   "cell_type": "code",
   "execution_count": 24,
   "metadata": {},
   "outputs": [],
   "source": [
    "#Training the Data\n",
    "models = pipeline.fit(train_data)"
   ]
  },
  {
   "cell_type": "code",
   "execution_count": 25,
   "metadata": {},
   "outputs": [],
   "source": [
    "results = models.transform(test_data)"
   ]
  },
  {
   "cell_type": "markdown",
   "metadata": {},
   "source": [
    "## Evaluate the Models"
   ]
  },
  {
   "cell_type": "code",
   "execution_count": 26,
   "metadata": {},
   "outputs": [],
   "source": [
    "#importing the evaluators\n",
    "from pyspark.ml.evaluation import (BinaryClassificationEvaluator, MulticlassClassificationEvaluator)"
   ]
  },
  {
   "cell_type": "code",
   "execution_count": 27,
   "metadata": {},
   "outputs": [
    {
     "data": {
      "text/plain": [
       "0.9776119402985075"
      ]
     },
     "execution_count": 27,
     "metadata": {},
     "output_type": "execute_result"
    }
   ],
   "source": [
    "#Evaluation of Random Forest models\n",
    "evaluate_rfc = MulticlassClassificationEvaluator(labelCol='Spoiled', \n",
    "                                                 predictionCol='rfc_prediction',\n",
    "                                                 metricName='accuracy')\n",
    "\n",
    "#RFC Accuracy\n",
    "evaluate_rfc.evaluate(results)"
   ]
  },
  {
   "cell_type": "code",
   "execution_count": 28,
   "metadata": {},
   "outputs": [
    {
     "data": {
      "text/plain": [
       "0.9552238805970149"
      ]
     },
     "execution_count": 28,
     "metadata": {},
     "output_type": "execute_result"
    }
   ],
   "source": [
    "#Evaluation of GBTC Model\n",
    "evaluate_gbtc = MulticlassClassificationEvaluator(labelCol='Spoiled', \n",
    "                                                 predictionCol='gbtc_prediction',\n",
    "                                                 metricName='accuracy')\n",
    "\n",
    "#RFC Accuracy\n",
    "evaluate_gbtc.evaluate(results)"
   ]
  },
  {
   "cell_type": "code",
   "execution_count": 29,
   "metadata": {},
   "outputs": [
    {
     "data": {
      "text/plain": [
       "0.9552238805970149"
      ]
     },
     "execution_count": 29,
     "metadata": {},
     "output_type": "execute_result"
    }
   ],
   "source": [
    "#Evaluation of Random Forest models\n",
    "evaluate_dtc = MulticlassClassificationEvaluator(labelCol='Spoiled', \n",
    "                                                 predictionCol='dtc_prediction',\n",
    "                                                 metricName='accuracy')\n",
    "\n",
    "#RFC Accuracy\n",
    "evaluate_dtc.evaluate(results)"
   ]
  },
  {
   "cell_type": "code",
   "execution_count": 30,
   "metadata": {},
   "outputs": [
    {
     "data": {
      "text/html": [
       "<div>\n",
       "<style scoped>\n",
       "    .dataframe tbody tr th:only-of-type {\n",
       "        vertical-align: middle;\n",
       "    }\n",
       "\n",
       "    .dataframe tbody tr th {\n",
       "        vertical-align: top;\n",
       "    }\n",
       "\n",
       "    .dataframe thead th {\n",
       "        text-align: right;\n",
       "    }\n",
       "</style>\n",
       "<table border=\"1\" class=\"dataframe\">\n",
       "  <thead>\n",
       "    <tr style=\"text-align: right;\">\n",
       "      <th></th>\n",
       "      <th>0</th>\n",
       "      <th>1</th>\n",
       "    </tr>\n",
       "  </thead>\n",
       "  <tbody>\n",
       "    <tr>\n",
       "      <td>A</td>\n",
       "      <td>1</td>\n",
       "      <td>1</td>\n",
       "    </tr>\n",
       "    <tr>\n",
       "      <td>B</td>\n",
       "      <td>1</td>\n",
       "      <td>2</td>\n",
       "    </tr>\n",
       "    <tr>\n",
       "      <td>C</td>\n",
       "      <td>12</td>\n",
       "      <td>9</td>\n",
       "    </tr>\n",
       "    <tr>\n",
       "      <td>D</td>\n",
       "      <td>4</td>\n",
       "      <td>1</td>\n",
       "    </tr>\n",
       "    <tr>\n",
       "      <td>Spoiled</td>\n",
       "      <td>1</td>\n",
       "      <td>0</td>\n",
       "    </tr>\n",
       "    <tr>\n",
       "      <td>feature_unscaled</td>\n",
       "      <td>[1.0, 1.0, 12.0, 4.0]</td>\n",
       "      <td>[1.0, 2.0, 9.0, 1.0]</td>\n",
       "    </tr>\n",
       "    <tr>\n",
       "      <td>features</td>\n",
       "      <td>[0.3388084297362005, 0.35041039605210417, 5.83...</td>\n",
       "      <td>[0.3388084297362005, 0.7008207921042083, 4.378...</td>\n",
       "    </tr>\n",
       "    <tr>\n",
       "      <td>rawPrediction_rfc</td>\n",
       "      <td>[0.0, 20.0]</td>\n",
       "      <td>[19.2640350877193, 0.7359649122807017]</td>\n",
       "    </tr>\n",
       "    <tr>\n",
       "      <td>probability_rfc</td>\n",
       "      <td>[0.0, 1.0]</td>\n",
       "      <td>[0.963201754385965, 0.03679824561403509]</td>\n",
       "    </tr>\n",
       "    <tr>\n",
       "      <td>rfc_prediction</td>\n",
       "      <td>1</td>\n",
       "      <td>0</td>\n",
       "    </tr>\n",
       "    <tr>\n",
       "      <td>rawPrediction</td>\n",
       "      <td>[-1.5435020027249835, 1.5435020027249835]</td>\n",
       "      <td>[1.5435020027249835, -1.5435020027249835]</td>\n",
       "    </tr>\n",
       "    <tr>\n",
       "      <td>probability</td>\n",
       "      <td>[0.04364652142729318, 0.9563534785727068]</td>\n",
       "      <td>[0.9563534785727067, 0.043646521427293306]</td>\n",
       "    </tr>\n",
       "    <tr>\n",
       "      <td>gbtc_prediction</td>\n",
       "      <td>1</td>\n",
       "      <td>0</td>\n",
       "    </tr>\n",
       "    <tr>\n",
       "      <td>rawPrediction_dtc</td>\n",
       "      <td>[0.0, 73.0]</td>\n",
       "      <td>[232.0, 0.0]</td>\n",
       "    </tr>\n",
       "    <tr>\n",
       "      <td>probability_dtc</td>\n",
       "      <td>[0.0, 1.0]</td>\n",
       "      <td>[1.0, 0.0]</td>\n",
       "    </tr>\n",
       "    <tr>\n",
       "      <td>dtc_prediction</td>\n",
       "      <td>1</td>\n",
       "      <td>0</td>\n",
       "    </tr>\n",
       "  </tbody>\n",
       "</table>\n",
       "</div>"
      ],
      "text/plain": [
       "                                                                   0  \\\n",
       "A                                                                  1   \n",
       "B                                                                  1   \n",
       "C                                                                 12   \n",
       "D                                                                  4   \n",
       "Spoiled                                                            1   \n",
       "feature_unscaled                               [1.0, 1.0, 12.0, 4.0]   \n",
       "features           [0.3388084297362005, 0.35041039605210417, 5.83...   \n",
       "rawPrediction_rfc                                        [0.0, 20.0]   \n",
       "probability_rfc                                           [0.0, 1.0]   \n",
       "rfc_prediction                                                     1   \n",
       "rawPrediction              [-1.5435020027249835, 1.5435020027249835]   \n",
       "probability                [0.04364652142729318, 0.9563534785727068]   \n",
       "gbtc_prediction                                                    1   \n",
       "rawPrediction_dtc                                        [0.0, 73.0]   \n",
       "probability_dtc                                           [0.0, 1.0]   \n",
       "dtc_prediction                                                     1   \n",
       "\n",
       "                                                                   1  \n",
       "A                                                                  1  \n",
       "B                                                                  2  \n",
       "C                                                                  9  \n",
       "D                                                                  1  \n",
       "Spoiled                                                            0  \n",
       "feature_unscaled                                [1.0, 2.0, 9.0, 1.0]  \n",
       "features           [0.3388084297362005, 0.7008207921042083, 4.378...  \n",
       "rawPrediction_rfc             [19.2640350877193, 0.7359649122807017]  \n",
       "probability_rfc             [0.963201754385965, 0.03679824561403509]  \n",
       "rfc_prediction                                                     0  \n",
       "rawPrediction              [1.5435020027249835, -1.5435020027249835]  \n",
       "probability               [0.9563534785727067, 0.043646521427293306]  \n",
       "gbtc_prediction                                                    0  \n",
       "rawPrediction_dtc                                       [232.0, 0.0]  \n",
       "probability_dtc                                           [1.0, 0.0]  \n",
       "dtc_prediction                                                     0  "
      ]
     },
     "execution_count": 30,
     "metadata": {},
     "output_type": "execute_result"
    }
   ],
   "source": [
    "pd.DataFrame(results.take(2), columns=results.columns).T"
   ]
  },
  {
   "cell_type": "markdown",
   "metadata": {},
   "source": [
    "## Determine which chemical causes the food to spoil\n",
    "### The chemical with the most weight is the one we are looking for"
   ]
  },
  {
   "cell_type": "code",
   "execution_count": 31,
   "metadata": {},
   "outputs": [
    {
     "data": {
      "text/plain": [
       "SparseVector(4, {0: 0.034, 1: 0.0284, 2: 0.9039, 3: 0.0338})"
      ]
     },
     "execution_count": 31,
     "metadata": {},
     "output_type": "execute_result"
    }
   ],
   "source": [
    "rfc_model = RandomForestClassifier(labelCol='Spoiled').fit(train_data )\n",
    "rfc_feature_weights = rfc_model.featureImportances\n",
    "rfc_feature_weights"
   ]
  },
  {
   "cell_type": "markdown",
   "metadata": {},
   "source": [
    "### Result doesn't change with other classification model\n",
    "### The chemical at index 2 is Chemical C, and it has the greatest impact/weight. Therefore it is the one causing food to spoil."
   ]
  },
  {
   "cell_type": "code",
   "execution_count": null,
   "metadata": {},
   "outputs": [],
   "source": []
  }
 ],
 "metadata": {
  "anaconda-cloud": {},
  "kernelspec": {
   "display_name": "Python 3",
   "language": "python",
   "name": "python3"
  },
  "language_info": {
   "codemirror_mode": {
    "name": "ipython",
    "version": 3
   },
   "file_extension": ".py",
   "mimetype": "text/x-python",
   "name": "python",
   "nbconvert_exporter": "python",
   "pygments_lexer": "ipython3",
   "version": "3.7.4"
  }
 },
 "nbformat": 4,
 "nbformat_minor": 1
}

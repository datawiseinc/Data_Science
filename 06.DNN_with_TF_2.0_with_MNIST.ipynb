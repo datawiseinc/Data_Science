{
 "cells": [
  {
   "cell_type": "markdown",
   "metadata": {},
   "source": [
    "## Import relevant libraries"
   ]
  },
  {
   "cell_type": "code",
   "execution_count": 1,
   "metadata": {},
   "outputs": [],
   "source": [
    "import tensorflow as tf\n",
    "import numpy as np\n",
    "import tensorflow_datasets as tfds"
   ]
  },
  {
   "cell_type": "markdown",
   "metadata": {},
   "source": [
    "### Import the MNIST data set"
   ]
  },
  {
   "cell_type": "code",
   "execution_count": 2,
   "metadata": {
    "scrolled": false
   },
   "outputs": [
    {
     "name": "stderr",
     "output_type": "stream",
     "text": [
      "WARNING:absl:Warning: Setting shuffle_files=True because split=TRAIN and shuffle_files=None. This behavior will be deprecated on 2019-08-06, at which point shuffle_files=False will be the default for all splits.\n"
     ]
    }
   ],
   "source": [
    "#when loading the data use the with_info argument and as_supervised=True since this will be a supervised learning model\n",
    "mnist_dataset, mnist_info = tfds.load(name = 'mnist',  with_info=True, as_supervised=True)"
   ]
  },
  {
   "cell_type": "markdown",
   "metadata": {},
   "source": [
    "### Split the data into train and test"
   ]
  },
  {
   "cell_type": "code",
   "execution_count": 3,
   "metadata": {},
   "outputs": [
    {
     "data": {
      "text/plain": [
       "{'test': <tfds.core.SplitInfo num_examples=10000>,\n",
       " 'train': <tfds.core.SplitInfo num_examples=60000>}"
      ]
     },
     "execution_count": 3,
     "metadata": {},
     "output_type": "execute_result"
    }
   ],
   "source": [
    "#since we set as_supervised to True, we can split the data to train and test easily\n",
    "mnist_train, mnist_test = mnist_dataset['train'], mnist_dataset['test']\n",
    "#since the training data is much larger, we will take the validation data from the training data\n",
    "mnist_info.splits"
   ]
  },
  {
   "cell_type": "markdown",
   "metadata": {},
   "source": [
    "### Preprocess the Data set"
   ]
  },
  {
   "cell_type": "code",
   "execution_count": 4,
   "metadata": {},
   "outputs": [],
   "source": [
    "#set the number of samples in the validation data\n",
    "num_validation_samples = 0.1 * mnist_info.splits['train'].num_examples"
   ]
  },
  {
   "cell_type": "code",
   "execution_count": 5,
   "metadata": {},
   "outputs": [],
   "source": [
    "#cast the number of validation samples as integers\n",
    "num_validation_samples = tf.cast(num_validation_samples, tf.int64)"
   ]
  },
  {
   "cell_type": "code",
   "execution_count": 6,
   "metadata": {},
   "outputs": [],
   "source": [
    "#set the number of test samples\n",
    "num_test_samples =mnist_info.splits['test'].num_examples"
   ]
  },
  {
   "cell_type": "code",
   "execution_count": 7,
   "metadata": {},
   "outputs": [],
   "source": [
    "#cast the number of test samples as integers\n",
    "num_test_samples = tf.cast(num_test_samples, tf.int64)"
   ]
  },
  {
   "cell_type": "code",
   "execution_count": 8,
   "metadata": {},
   "outputs": [
    {
     "data": {
      "text/plain": [
       "(<tf.Tensor: id=282, shape=(), dtype=int64, numpy=6000>,\n",
       " <tf.Tensor: id=284, shape=(), dtype=int64, numpy=10000>)"
      ]
     },
     "execution_count": 8,
     "metadata": {},
     "output_type": "execute_result"
    }
   ],
   "source": [
    "num_validation_samples, num_test_samples"
   ]
  },
  {
   "cell_type": "markdown",
   "metadata": {},
   "source": [
    "### Scale the the inputs"
   ]
  },
  {
   "cell_type": "code",
   "execution_count": 9,
   "metadata": {},
   "outputs": [],
   "source": [
    "#image pixels take values from 0 to 255. Scaling them would give values from 0 to 1\n",
    "#write a function to scale the image files\n",
    "def scale(image, label):\n",
    "    image = tf.cast(image, tf.float32)\n",
    "    image /=255.\n",
    "    return image, label"
   ]
  },
  {
   "cell_type": "code",
   "execution_count": 10,
   "metadata": {},
   "outputs": [],
   "source": [
    "#scale the image files\n",
    "scaled_train_and_validation_data = mnist_train.map(scale)\n",
    "scaled_test_data = mnist_test.map(scale)"
   ]
  },
  {
   "cell_type": "markdown",
   "metadata": {},
   "source": [
    "### Set aside the validation data from the training data"
   ]
  },
  {
   "cell_type": "code",
   "execution_count": 11,
   "metadata": {},
   "outputs": [],
   "source": [
    "# First we need to shuffle the data\n",
    "\n",
    "#Since MNIST is a large dataset, set a  buffer size for easier shuffling\n",
    "BUFFER_SIZE = 10000\n",
    "\n",
    "#shuffle the data\n",
    "shuffled_train_and_validation_data= scaled_train_and_validation_data.shuffle(BUFFER_SIZE)\n",
    "\n",
    "# Create the validation data\n",
    "validation_data = shuffled_train_and_validation_data.take(num_validation_samples)"
   ]
  },
  {
   "cell_type": "code",
   "execution_count": 12,
   "metadata": {},
   "outputs": [],
   "source": [
    "#Create the train data\n",
    "train_data = shuffled_train_and_validation_data.skip(num_validation_samples)"
   ]
  },
  {
   "cell_type": "markdown",
   "metadata": {},
   "source": [
    "### BATCH the data for SGD"
   ]
  },
  {
   "cell_type": "code",
   "execution_count": 13,
   "metadata": {},
   "outputs": [],
   "source": [
    "#create a batch size variable\n",
    "BATCH_SIZE = 100"
   ]
  },
  {
   "cell_type": "code",
   "execution_count": 14,
   "metadata": {},
   "outputs": [],
   "source": [
    "#Batch teh train data\n",
    "train_data = train_data.batch(BATCH_SIZE)\n",
    "\n",
    "#Batch sizes for validation and test samples will be equal to the sample sizes\n",
    "#since they are much smaller and they are not used in training\n",
    "\n",
    "#Batch teh validation data.\n",
    "validation_data = validation_data.batch(num_validation_samples)\n",
    "\n",
    "#Batch teh test data\n",
    "test_data = scaled_test_data.batch(num_test_samples)"
   ]
  },
  {
   "cell_type": "code",
   "execution_count": 15,
   "metadata": {},
   "outputs": [],
   "source": [
    "#split the validation data into inputs and outputs\n",
    "validation_inputs, validation_targets = next(iter(validation_data))"
   ]
  },
  {
   "cell_type": "markdown",
   "metadata": {},
   "source": [
    "### Outline the ML Model"
   ]
  },
  {
   "cell_type": "code",
   "execution_count": 16,
   "metadata": {},
   "outputs": [],
   "source": [
    "#input layer is 784x1 matrix since each image is 28x28 = 784\n",
    "input_size = 784\n",
    "\n",
    "#Hidden layers with 50 nodes each (feel free to change )\n",
    "hidden_layer_size = 50\n",
    "\n",
    "#10 outputs since there are ten digits from 0 to 9\n",
    "output_size = 10"
   ]
  },
  {
   "cell_type": "code",
   "execution_count": 17,
   "metadata": {},
   "outputs": [],
   "source": [
    "#create the TF model\n",
    "model = tf.keras.Sequential([\n",
    "                            #this is the input layer and it needs to be flattened to 784x1\n",
    "                            tf.keras.layers.Flatten(input_shape=(28,28,1)),\n",
    "    \n",
    "                            #This model will have three hidden layers with RELU activation function\n",
    "                            tf.keras.layers.Dense(hidden_layer_size, activation='relu'),\n",
    "                            tf.keras.layers.Dense(hidden_layer_size, activation='relu'),\n",
    "                            tf.keras.layers.Dense(hidden_layer_size, activation='relu'),\n",
    "    \n",
    "                            #This is the output layer, and its size is 10 which will give one-hot-coding\n",
    "                            tf.keras.layers.Dense(output_size, activation='softmax')\n",
    "                            ])"
   ]
  },
  {
   "cell_type": "markdown",
   "metadata": {},
   "source": [
    "### Pick an optimizer and the loss function"
   ]
  },
  {
   "cell_type": "code",
   "execution_count": 18,
   "metadata": {},
   "outputs": [],
   "source": [
    "#ADAM is the state of the art optimizer that addresses the issues with other optimizers\n",
    "#since this is a classification problem, our loss function is categorical crossentropy\n",
    "model.compile(optimizer='adam', loss='sparse_categorical_crossentropy', metrics=['accuracy'])"
   ]
  },
  {
   "cell_type": "markdown",
   "metadata": {},
   "source": [
    "### Train the model"
   ]
  },
  {
   "cell_type": "code",
   "execution_count": 19,
   "metadata": {},
   "outputs": [
    {
     "name": "stdout",
     "output_type": "stream",
     "text": [
      "Epoch 1/10\n",
      "540/540 - 12s - loss: 0.4106 - accuracy: 0.8822 - val_loss: 0.0000e+00 - val_accuracy: 0.0000e+00\n",
      "Epoch 2/10\n",
      "540/540 - 11s - loss: 0.1738 - accuracy: 0.9484 - val_loss: 0.1507 - val_accuracy: 0.9592\n",
      "Epoch 3/10\n",
      "540/540 - 13s - loss: 0.1292 - accuracy: 0.9616 - val_loss: 0.1363 - val_accuracy: 0.9607\n",
      "Epoch 4/10\n",
      "540/540 - 13s - loss: 0.1039 - accuracy: 0.9676 - val_loss: 0.1115 - val_accuracy: 0.9697\n",
      "Epoch 5/10\n",
      "540/540 - 11s - loss: 0.0901 - accuracy: 0.9723 - val_loss: 0.1026 - val_accuracy: 0.9712\n",
      "Epoch 6/10\n",
      "540/540 - 11s - loss: 0.0774 - accuracy: 0.9764 - val_loss: 0.0997 - val_accuracy: 0.9730\n",
      "Epoch 7/10\n",
      "540/540 - 11s - loss: 0.0686 - accuracy: 0.9791 - val_loss: 0.0878 - val_accuracy: 0.9738\n",
      "Epoch 8/10\n",
      "540/540 - 11s - loss: 0.0590 - accuracy: 0.9814 - val_loss: 0.0712 - val_accuracy: 0.9782\n",
      "Epoch 9/10\n",
      "540/540 - 10s - loss: 0.0540 - accuracy: 0.9834 - val_loss: 0.0748 - val_accuracy: 0.9788\n",
      "Epoch 10/10\n",
      "540/540 - 12s - loss: 0.0481 - accuracy: 0.9853 - val_loss: 0.0664 - val_accuracy: 0.9793\n"
     ]
    },
    {
     "data": {
      "text/plain": [
       "<tensorflow.python.keras.callbacks.History at 0x168c16e6cc8>"
      ]
     },
     "execution_count": 19,
     "metadata": {},
     "output_type": "execute_result"
    }
   ],
   "source": [
    "#set the number of epochs for training\n",
    "NUM_EPOCHS = 10\n",
    "\n",
    "#the number of validation steps since we batch the training data due to its large size\n",
    "VALIDATION_STEPS = num_validation_samples/BATCH_SIZE\n",
    "\n",
    "#train the data\n",
    "model.fit(train_data, epochs = NUM_EPOCHS, validation_data=(validation_inputs, validation_targets), validation_steps=VALIDATION_STEPS, verbose=2)"
   ]
  },
  {
   "cell_type": "code",
   "execution_count": 20,
   "metadata": {},
   "outputs": [
    {
     "name": "stdout",
     "output_type": "stream",
     "text": [
      "1/1 [==============================] - 2s 2s/step - loss: 0.1156 - accuracy: 0.9684\n"
     ]
    }
   ],
   "source": [
    "#Our model is learning since the loss function is decreasing\n",
    "# Now lets test our model\n",
    "test_loss, test_accuracy = model.evaluate(test_data)\n",
    "\n",
    "print('Test loss: {0:.2f}. Test accuracy: {1:.2f}%'.format(test_loss, test_accuracy*100.))"
   ]
  },
  {
   "cell_type": "markdown",
   "metadata": {},
   "source": [
    "### Our model predicted the outcome correctly 97% of the time."
   ]
  }
 ],
 "metadata": {
  "kernelspec": {
   "display_name": "Python 3",
   "language": "python",
   "name": "python3"
  },
  "language_info": {
   "codemirror_mode": {
    "name": "ipython",
    "version": 3
   },
   "file_extension": ".py",
   "mimetype": "text/x-python",
   "name": "python",
   "nbconvert_exporter": "python",
   "pygments_lexer": "ipython3",
   "version": "3.7.5"
  }
 },
 "nbformat": 4,
 "nbformat_minor": 2
}

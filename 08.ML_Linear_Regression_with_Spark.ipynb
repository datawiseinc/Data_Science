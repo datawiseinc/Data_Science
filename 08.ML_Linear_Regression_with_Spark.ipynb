{
 "cells": [
  {
   "cell_type": "code",
   "execution_count": 1,
   "metadata": {},
   "outputs": [],
   "source": [
    "#importing the necessary libraries\n",
    "from pyspark.ml.regression import LinearRegression as lr\n",
    "from pyspark.sql import SparkSession"
   ]
  },
  {
   "cell_type": "code",
   "execution_count": 2,
   "metadata": {},
   "outputs": [],
   "source": [
    "#starting a spark session\n",
    "spark = SparkSession.builder.appName('Lin_Reg').getOrCreate()"
   ]
  },
  {
   "cell_type": "code",
   "execution_count": 3,
   "metadata": {},
   "outputs": [],
   "source": [
    "#loading the data set\n",
    "all_data = spark.read.format('libsvm').load('sample_linear_regression_data.txt')"
   ]
  },
  {
   "cell_type": "code",
   "execution_count": 4,
   "metadata": {},
   "outputs": [
    {
     "name": "stdout",
     "output_type": "stream",
     "text": [
      "+-------+-------------------+\n",
      "|summary|              label|\n",
      "+-------+-------------------+\n",
      "|  count|                501|\n",
      "|   mean|0.25688882219498976|\n",
      "| stddev| 10.317884030544564|\n",
      "|    min|-28.571478869743427|\n",
      "|    25%| -6.749023248121471|\n",
      "|    50%| 0.3422568955736137|\n",
      "|    75%|  7.314490512652487|\n",
      "|    max|  27.78383192005107|\n",
      "+-------+-------------------+\n",
      "\n"
     ]
    }
   ],
   "source": [
    "#exploring the data\n",
    "all_data.summary().show()"
   ]
  },
  {
   "cell_type": "code",
   "execution_count": 5,
   "metadata": {},
   "outputs": [
    {
     "data": {
      "text/plain": [
       "['label', 'features']"
      ]
     },
     "execution_count": 5,
     "metadata": {},
     "output_type": "execute_result"
    }
   ],
   "source": [
    "#checking the data set columns and checking if the data is split into testing-training sub-sets\n",
    "all_data.columns"
   ]
  },
  {
   "cell_type": "code",
   "execution_count": 6,
   "metadata": {},
   "outputs": [],
   "source": [
    "#splitting the data into test and train data sets\n",
    "train_data, test_data = all_data.randomSplit([0.75, 0.25])"
   ]
  },
  {
   "cell_type": "code",
   "execution_count": 7,
   "metadata": {},
   "outputs": [
    {
     "data": {
      "text/plain": [
       "(DataFrame[label: double, features: vector],\n",
       " DataFrame[label: double, features: vector])"
      ]
     },
     "execution_count": 7,
     "metadata": {},
     "output_type": "execute_result"
    }
   ],
   "source": [
    "#confirming the split\n",
    "train_data, test_data"
   ]
  },
  {
   "cell_type": "code",
   "execution_count": 8,
   "metadata": {},
   "outputs": [],
   "source": [
    "#starting a linear regression model session\n",
    "lin_reg_session = lr(featuresCol='features', labelCol='label', predictionCol='predictions')"
   ]
  },
  {
   "cell_type": "code",
   "execution_count": 9,
   "metadata": {},
   "outputs": [],
   "source": [
    "#training the model\n",
    "lin_reg_model = lin_reg_session.fit(train_data)"
   ]
  },
  {
   "cell_type": "code",
   "execution_count": 10,
   "metadata": {},
   "outputs": [],
   "source": [
    "#creating the summary variable\n",
    "summary = lin_reg_model.summary"
   ]
  },
  {
   "cell_type": "code",
   "execution_count": 11,
   "metadata": {},
   "outputs": [
    {
     "data": {
      "text/plain": [
       "DenseVector([-0.7984, 0.8384, -0.1915, 3.0436, -0.0303, 0.6675, -0.2749, -1.1683, 0.0639, 0.849])"
      ]
     },
     "execution_count": 11,
     "metadata": {},
     "output_type": "execute_result"
    }
   ],
   "source": [
    "#checking the feature coefficients\n",
    "lin_reg_model.coefficients"
   ]
  },
  {
   "cell_type": "code",
   "execution_count": 12,
   "metadata": {},
   "outputs": [
    {
     "data": {
      "text/plain": [
       "-0.22159621623868014"
      ]
     },
     "execution_count": 12,
     "metadata": {},
     "output_type": "execute_result"
    }
   ],
   "source": [
    "#chekcing the intercept\n",
    "lin_reg_model.intercept"
   ]
  },
  {
   "cell_type": "code",
   "execution_count": 13,
   "metadata": {},
   "outputs": [
    {
     "name": "stdout",
     "output_type": "stream",
     "text": [
      "+-------------------+--------------------+--------------------+\n",
      "|              label|            features|         predictions|\n",
      "+-------------------+--------------------+--------------------+\n",
      "|-28.571478869743427|(10,[0,1,2,3,4,5,...|  -1.492711347595661|\n",
      "|-28.046018037776633|(10,[0,1,2,3,4,5,...|   -2.10009348094064|\n",
      "|-26.805483428483072|(10,[0,1,2,3,4,5,...|  1.4210770318904395|\n",
      "| -23.51088409032297|(10,[0,1,2,3,4,5,...| -3.0683501618189464|\n",
      "|-20.212077258958672|(10,[0,1,2,3,4,5,...|  1.1897289618326645|\n",
      "|-20.057482615789212|(10,[0,1,2,3,4,5,...| 0.05641856705287479|\n",
      "|-19.884560774273424|(10,[0,1,2,3,4,5,...|  0.6806346117178579|\n",
      "| -19.66731861537172|(10,[0,1,2,3,4,5,...|  0.2312258198834775|\n",
      "|-19.402336030214553|(10,[0,1,2,3,4,5,...|  0.2816466330052077|\n",
      "| -18.27521356600463|(10,[0,1,2,3,4,5,...|   1.065246099351525|\n",
      "|-17.803626188664516|(10,[0,1,2,3,4,5,...| -2.0093077913530184|\n",
      "|-17.428674570939506|(10,[0,1,2,3,4,5,...|  1.2715682071677414|\n",
      "| -17.32672073267595|(10,[0,1,2,3,4,5,...| -1.0819480447867698|\n",
      "|-17.065399625876015|(10,[0,1,2,3,4,5,...|  1.8679260783220393|\n",
      "|-17.026492264209548|(10,[0,1,2,3,4,5,...|  -2.979027995838311|\n",
      "| -16.71909683360509|(10,[0,1,2,3,4,5,...|-0.04967445419819641|\n",
      "|-16.692207021311106|(10,[0,1,2,3,4,5,...|  -2.730011760477968|\n",
      "| -16.08565904102149|(10,[0,1,2,3,4,5,...| -2.5534996505756387|\n",
      "|-15.951512565794573|(10,[0,1,2,3,4,5,...| -2.3138127464192206|\n",
      "| -15.86200932757056|(10,[0,1,2,3,4,5,...|  1.6225645898468204|\n",
      "+-------------------+--------------------+--------------------+\n",
      "only showing top 20 rows\n",
      "\n"
     ]
    }
   ],
   "source": [
    "#saving the evaluation of the train data in a variable\n",
    "result_train = lin_reg_model.evaluate(train_data)\n",
    "result_train.predictions.show()"
   ]
  },
  {
   "cell_type": "code",
   "execution_count": 14,
   "metadata": {},
   "outputs": [
    {
     "name": "stdout",
     "output_type": "stream",
     "text": [
      "+-------------------+--------------------+-------------------+\n",
      "|              label|            features|        predictions|\n",
      "+-------------------+--------------------+-------------------+\n",
      "|-26.736207182601724|(10,[0,1,2,3,4,5,...| -3.416901911718064|\n",
      "|-23.487440120936512|(10,[0,1,2,3,4,5,...|0.24731374204882578|\n",
      "|-22.949825936196074|(10,[0,1,2,3,4,5,...| 2.1992843041425045|\n",
      "|-22.837460416919342|(10,[0,1,2,3,4,5,...|-2.0782143847168117|\n",
      "|-21.432387764165806|(10,[0,1,2,3,4,5,...|-0.3496687205077042|\n",
      "|-19.872991038068406|(10,[0,1,2,3,4,5,...| 0.9159140613241967|\n",
      "|-19.782762789614537|(10,[0,1,2,3,4,5,...| 1.2334026854731932|\n",
      "| -19.16829262296376|(10,[0,1,2,3,4,5,...|-0.9608662867514692|\n",
      "|-18.845922472898582|(10,[0,1,2,3,4,5,...|  1.248414244564385|\n",
      "|-17.494200356883344|(10,[0,1,2,3,4,5,...|-1.7827015876902386|\n",
      "| -16.26143027545273|(10,[0,1,2,3,4,5,...|  4.373565118156099|\n",
      "|-16.151349351277112|(10,[0,1,2,3,4,5,...|-0.8399115719144117|\n",
      "|-15.359544879832677|(10,[0,1,2,3,4,5,...|  1.476010164615679|\n",
      "|-15.056482974542433|(10,[0,1,2,3,4,5,...| -1.101967724467726|\n",
      "|-14.822152909751189|(10,[0,1,2,3,4,5,...| -0.607441300499789|\n",
      "|-12.977848725392104|(10,[0,1,2,3,4,5,...|  1.044699897357913|\n",
      "|-12.094351278535258|(10,[0,1,2,3,4,5,...|-0.4612121225014059|\n",
      "|-11.857350365429426|(10,[0,1,2,3,4,5,...|  0.093552967262648|\n",
      "|-11.328415936777782|(10,[0,1,2,3,4,5,...| 1.0211398321030396|\n",
      "|-10.600130341909033|(10,[0,1,2,3,4,5,...|-0.6622608783253634|\n",
      "+-------------------+--------------------+-------------------+\n",
      "only showing top 20 rows\n",
      "\n"
     ]
    }
   ],
   "source": [
    "#saving the evaluation of the test data in a variable\n",
    "result_test = lin_reg_model.evaluate(test_data)\n",
    "result_test.predictions.show()"
   ]
  },
  {
   "cell_type": "code",
   "execution_count": 15,
   "metadata": {},
   "outputs": [
    {
     "data": {
      "text/plain": [
       "(8.133791835282729, 8.326328265520266)"
      ]
     },
     "execution_count": 15,
     "metadata": {},
     "output_type": "execute_result"
    }
   ],
   "source": [
    "#comparing the errors of the train and test evaluations\n",
    "result_train.meanAbsoluteError, result_test.meanAbsoluteError"
   ]
  },
  {
   "cell_type": "code",
   "execution_count": 16,
   "metadata": {},
   "outputs": [
    {
     "name": "stdout",
     "output_type": "stream",
     "text": [
      "+------------------+\n",
      "|         residuals|\n",
      "+------------------+\n",
      "|27.029480438354817|\n",
      "|24.681843828733623|\n",
      "|24.567674464502748|\n",
      "|22.462212324706357|\n",
      "|  22.3906855195482|\n",
      "|21.891552021830353|\n",
      "| 21.80338727116256|\n",
      "| 21.21441215301939|\n",
      "|  20.2011139073038|\n",
      "|19.066964781686593|\n",
      "| 18.93616834678063|\n",
      "| 18.20400667499421|\n",
      "|18.081176499011413|\n",
      "| 17.90423089974488|\n",
      "|17.546965115449797|\n",
      "|17.339603988477517|\n",
      "|16.772070913603887|\n",
      "| 16.41503666887528|\n",
      "|16.312147569564793|\n",
      "| 16.17528293800138|\n",
      "+------------------+\n",
      "only showing top 20 rows\n",
      "\n"
     ]
    }
   ],
   "source": [
    "#exploring the residuals of the train data\n",
    "result_train.residuals.orderBy(result_train.residuals['residuals'].desc()).show()"
   ]
  },
  {
   "cell_type": "code",
   "execution_count": 17,
   "metadata": {},
   "outputs": [
    {
     "name": "stdout",
     "output_type": "stream",
     "text": [
      "+-------+--------------------+\n",
      "|summary|           residuals|\n",
      "+-------+--------------------+\n",
      "|  count|                 345|\n",
      "|   mean|-1.69912393333937...|\n",
      "| stddev|  10.127991909067346|\n",
      "|    min| -28.226560460373513|\n",
      "|    max|  27.029480438354817|\n",
      "+-------+--------------------+\n",
      "\n"
     ]
    }
   ],
   "source": [
    "#exloring the stats of the residual of the train data \n",
    "result_train.residuals.describe().show()"
   ]
  },
  {
   "cell_type": "code",
   "execution_count": 18,
   "metadata": {},
   "outputs": [
    {
     "name": "stdout",
     "output_type": "stream",
     "text": [
      "+------------------+\n",
      "|         residuals|\n",
      "+------------------+\n",
      "|27.729275677732726|\n",
      "|21.603061573117195|\n",
      "|21.357186309690864|\n",
      "|20.918384821702325|\n",
      "| 20.13265910420967|\n",
      "|19.497184787613833|\n",
      "|18.712936591916932|\n",
      "|18.282200339221028|\n",
      "|16.335685229530966|\n",
      "|15.940451520729102|\n",
      "|14.783563539487117|\n",
      "|14.512689748245645|\n",
      "|14.121925610718664|\n",
      "|14.088565442050712|\n",
      "|  13.7627295967235|\n",
      "|13.534119275282702|\n",
      "|13.450405382220003|\n",
      "|13.351680454301516|\n",
      "|12.858933476358434|\n",
      "|12.073852707540771|\n",
      "+------------------+\n",
      "only showing top 20 rows\n",
      "\n"
     ]
    }
   ],
   "source": [
    "#exploring the residuals of the test\n",
    "result_test.residuals.orderBy(result_test.residuals['residuals'].desc()).show()"
   ]
  },
  {
   "cell_type": "code",
   "execution_count": 19,
   "metadata": {},
   "outputs": [
    {
     "name": "stdout",
     "output_type": "stream",
     "text": [
      "+-------+------------------+\n",
      "|summary|         residuals|\n",
      "+-------+------------------+\n",
      "|  count|               156|\n",
      "|   mean|1.0466364438906646|\n",
      "| stddev|10.401910890156755|\n",
      "|    min|-25.14911024033858|\n",
      "|    max|27.729275677732726|\n",
      "+-------+------------------+\n",
      "\n"
     ]
    }
   ],
   "source": [
    "#exploring the stats of the residuals of the test data\n",
    "result_test.residuals.describe().show()"
   ]
  },
  {
   "cell_type": "markdown",
   "metadata": {},
   "source": [
    "### Residuals seem quite large. We will continue to explore and evaluate the model more closely"
   ]
  },
  {
   "cell_type": "code",
   "execution_count": 20,
   "metadata": {},
   "outputs": [],
   "source": [
    "#import graphing libraries\n",
    "import matplotlib.pyplot as mpl"
   ]
  },
  {
   "cell_type": "code",
   "execution_count": 21,
   "metadata": {},
   "outputs": [],
   "source": [
    "#manually calculate the training residuals and compare it to the built-in residuals function\n",
    "#visually inspect the distribution of the residuals\n",
    "    #compare predictions to labels with a scatter plot\n",
    "    #inspect the frequency distribution of the resisuals\n",
    "    \n",
    "#next fex lines will be executing the plan above"
   ]
  },
  {
   "cell_type": "code",
   "execution_count": 22,
   "metadata": {},
   "outputs": [],
   "source": [
    "#extract the prediction from the results of the training dataframe into a variable\n",
    "predictions_train = result_train.predictions.collect()\n",
    "\n",
    "#save the predictions to a list\n",
    "predictions_col_prediction = []\n",
    "for row in predictions_train:\n",
    "    predictions_col_prediction.append(row[2])\n",
    "    \n",
    "#save the labels into a list\n",
    "predictions_col_labels = []\n",
    "for row in predictions_train:\n",
    "    predictions_col_labels.append(row[0])"
   ]
  },
  {
   "cell_type": "code",
   "execution_count": 23,
   "metadata": {},
   "outputs": [
    {
     "data": {
      "image/png": "[encoded data removed]",
      "text/plain": [
       "<Figure size 432x288 with 1 Axes>"
      ]
     },
     "metadata": {
      "needs_background": "light"
     },
     "output_type": "display_data"
    }
   ],
   "source": [
    "#visually compare the predictions to the labels \n",
    "mpl.scatter(x=predictions_col_labels, y=predictions_col_prediction )\n",
    "mpl.xlabel('labels_training')\n",
    "mpl.ylabel('predictions_training')\n",
    "mpl.title('correct_values vs predictions in training_data')\n",
    "mpl.show()"
   ]
  },
  {
   "cell_type": "markdown",
   "metadata": {},
   "source": [
    "### the linear regression model doesn't seem to be working well for the given data_set. Before switching to other models, I 'll double check if the ML library is working correctly by manually calculating the residuals"
   ]
  },
  {
   "cell_type": "code",
   "execution_count": 24,
   "metadata": {},
   "outputs": [],
   "source": [
    "#visually compare the resididuals calculated by the spark and manually\n",
    "\n",
    "#pair up the labels and predictions to be able to feed them as row objects to a spark dataframe\n",
    "residual_pairs = list(zip( predictions_col_labels, predictions_col_prediction))\n",
    "\n",
    "#create a list of the calculated residuals\n",
    "residuals_calculated = []\n",
    "for item in residual_pairs:\n",
    "    residuals_calculated.append(item[0]-item[1])\n",
    "    \n",
    "#save the builtin residuals in to a variable\n",
    "residuals_builtin =[]\n",
    "for row in result_train.residuals.collect():\n",
    "    residuals_builtin.append(row[0])"
   ]
  },
  {
   "cell_type": "code",
   "execution_count": 25,
   "metadata": {},
   "outputs": [
    {
     "data": {
      "text/plain": [
       "(array([ 3.,  0.,  4.,  8., 11., 18., 27., 27., 28., 35., 43., 32., 28.,\n",
       "        30., 19., 11., 10.,  4.,  4.,  3.]),\n",
       " array([-28.22656046, -25.46375842, -22.70095637, -19.93815433,\n",
       "        -17.17535228, -14.41255024, -11.64974819,  -8.88694615,\n",
       "         -6.1241441 ,  -3.36134206,  -0.59854001,   2.16426203,\n",
       "          4.92706408,   7.68986612,  10.45266817,  13.21547021,\n",
       "         15.97827226,  18.7410743 ,  21.50387635,  24.26667839,\n",
       "         27.02948044]),\n",
       " <a list of 20 Patch objects>)"
      ]
     },
     "execution_count": 25,
     "metadata": {},
     "output_type": "execute_result"
    },
    {
     "data": {
      "image/png": "[encoded data removed]",
      "text/plain": [
       "<Figure size 432x288 with 1 Axes>"
      ]
     },
     "metadata": {
      "needs_background": "light"
     },
     "output_type": "display_data"
    }
   ],
   "source": [
    "#check the probability distribution of the residuals\n",
    "mpl.hist(residuals_builtin, bins=20)"
   ]
  },
  {
   "cell_type": "code",
   "execution_count": 26,
   "metadata": {},
   "outputs": [
    {
     "data": {
      "image/png": "[encoded data removed]",
      "text/plain": [
       "<Figure size 432x288 with 1 Axes>"
      ]
     },
     "metadata": {
      "needs_background": "light"
     },
     "output_type": "display_data"
    }
   ],
   "source": [
    "#visually compare builtin and calculated residuals\n",
    "mpl.scatter(residuals_builtin, residuals_calculated)\n",
    "mpl.xlabel('residuals_builtin')\n",
    "mpl.ylabel('residuals_calculated')\n",
    "mpl.title('Residual Comparison')\n",
    "mpl.show()"
   ]
  },
  {
   "cell_type": "markdown",
   "metadata": {},
   "source": [
    "### As it can be seen from the graph, our model is working fine but linear regression isn't a good choice for this dataset. \n",
    "\n",
    "## Now we will evaluate the test data. The model is expected to perform even worse with the test data since it hasn't seen the test data, yet. But let's check to see what happens."
   ]
  },
  {
   "cell_type": "code",
   "execution_count": 27,
   "metadata": {},
   "outputs": [],
   "source": [
    "#This is the same steps as the ones we used for the training data except we will use the 'result_test' instead of 'result_train'\n",
    "\n",
    "#extract the prediction from the results of the testting dataframe into a variable\n",
    "predictions_test = result_test.predictions.collect()\n",
    "\n",
    "#save the predictions to a list\n",
    "predictions_col_prediction = []\n",
    "for row in predictions_train:\n",
    "    predictions_col_prediction.append(row[2])\n",
    "    \n",
    "#save the labels into a list\n",
    "predictions_col_labels = []\n",
    "for row in predictions_train:\n",
    "    predictions_col_labels.append(row[0])\n",
    "    \n",
    "#visually compare the resididuals calculated by the spark and manually\n",
    "\n",
    "#pair up the labels and predictions to be able to feed them as row objects to a spark dataframe\n",
    "residual_pairs_test = list(zip( predictions_col_labels, predictions_col_prediction))\n",
    "\n",
    "#create a list of the calculated residuals\n",
    "residuals_calculated = []\n",
    "for item in residual_pairs:\n",
    "    residuals_calculated.append(item[0]-item[1])\n",
    "    \n",
    "#save the builtin residuals in to a variable\n",
    "residuals_builtin =[]\n",
    "for row in result_train.residuals.collect():\n",
    "    residuals_builtin.append(row[0])"
   ]
  },
  {
   "cell_type": "code",
   "execution_count": 28,
   "metadata": {
    "scrolled": true
   },
   "outputs": [
    {
     "data": {
      "image/png": "[encoded data removed]",
      "text/plain": [
       "<Figure size 432x288 with 1 Axes>"
      ]
     },
     "metadata": {
      "needs_background": "light"
     },
     "output_type": "display_data"
    }
   ],
   "source": [
    "#visually compare the predictions to the labels \n",
    "mpl.scatter(x=predictions_col_labels, y=predictions_col_prediction )\n",
    "mpl.xlabel('labels_training')\n",
    "mpl.ylabel('predictions_training')\n",
    "mpl.title('correct_values vs predictions in training_data')\n",
    "mpl.show()"
   ]
  },
  {
   "cell_type": "code",
   "execution_count": 29,
   "metadata": {},
   "outputs": [
    {
     "data": {
      "text/plain": [
       "(array([ 3.,  0.,  4.,  8., 11., 18., 27., 27., 28., 35., 43., 32., 28.,\n",
       "        30., 19., 11., 10.,  4.,  4.,  3.]),\n",
       " array([-28.22656046, -25.46375842, -22.70095637, -19.93815433,\n",
       "        -17.17535228, -14.41255024, -11.64974819,  -8.88694615,\n",
       "         -6.1241441 ,  -3.36134206,  -0.59854001,   2.16426203,\n",
       "          4.92706408,   7.68986612,  10.45266817,  13.21547021,\n",
       "         15.97827226,  18.7410743 ,  21.50387635,  24.26667839,\n",
       "         27.02948044]),\n",
       " <a list of 20 Patch objects>)"
      ]
     },
     "execution_count": 29,
     "metadata": {},
     "output_type": "execute_result"
    },
    {
     "data": {
      "image/png": "[encoded data removed]",
      "text/plain": [
       "<Figure size 432x288 with 1 Axes>"
      ]
     },
     "metadata": {
      "needs_background": "light"
     },
     "output_type": "display_data"
    }
   ],
   "source": [
    "#check the probability distribution of the residuals\n",
    "mpl.hist(residuals_builtin, bins=20)"
   ]
  },
  {
   "cell_type": "code",
   "execution_count": null,
   "metadata": {},
   "outputs": [],
   "source": []
  }
 ],
 "metadata": {
  "kernelspec": {
   "display_name": "Python 3",
   "language": "python",
   "name": "python3"
  },
  "language_info": {
   "codemirror_mode": {
    "name": "ipython",
    "version": 3
   },
   "file_extension": ".py",
   "mimetype": "text/x-python",
   "name": "python",
   "nbconvert_exporter": "python",
   "pygments_lexer": "ipython3",
   "version": "3.7.4"
  }
 },
 "nbformat": 4,
 "nbformat_minor": 2
}
